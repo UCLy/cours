{
 "cells": [
  {
   "cell_type": "markdown",
   "id": "fc8017c2",
   "metadata": {},
   "source": [
    "# Introduction à la Programmation Orientée Objet (POO) en Python\n",
    "\n",
    "## Objectif :\n",
    "Ce notebook a pour but de vous initier à la programmation orientée objet (POO) en Python à travers des exercices guidés.\n",
    "Nous allons construire un petit système de gestion d'animaux dans un refuge."
   ]
  },
  {
   "cell_type": "markdown",
   "id": "18a5d594",
   "metadata": {},
   "source": [
    "## Partie 1 : Création d'une classe simple\n",
    "\n",
    "### Exercice 1.1\n",
    "Créez une classe `Animal` qui contient les attributs suivants :\n",
    "- `nom` \n",
    "- `espece`\n",
    "- `age`\n",
    "\n",
    "Ajoutez une méthode `presentation` qui affiche une phrase comme :\n",
    "\"Je suis un chien nommé Rex et j'ai 5 ans.\""
   ]
  },
  {
   "cell_type": "code",
   "execution_count": null,
   "id": "e9c4ba8c",
   "metadata": {},
   "outputs": [],
   "source": [
    "# À compléter\n",
    "class Animal:\n",
    "    pass\n",
    "\n",
    "# Exemple d'utilisation\n",
    "# rex = Animal(\"Rex\", \"chien\", 5)\n",
    "# rex.presentation()"
   ]
  },
  {
   "cell_type": "markdown",
   "id": "d65727d1",
   "metadata": {},
   "source": [
    "## Partie 2 : Instanciation de plusieurs objets\n",
    "\n",
    "### Exercice 2.1\n",
    "Créer une variable qui représente Médor, un chien de 5 ans"
   ]
  },
  {
   "cell_type": "code",
   "execution_count": 2,
   "id": "17b54159",
   "metadata": {},
   "outputs": [],
   "source": [
    "# À compléter"
   ]
  },
  {
   "cell_type": "markdown",
   "id": "0b738607-4110-451d-a1bd-291d7e395ae0",
   "metadata": {},
   "source": [
    "### Exercice 2.2\n",
    "Créer une variable qui représente Rex, un chien qui a un age tiré aléatoirement"
   ]
  },
  {
   "cell_type": "code",
   "execution_count": 3,
   "id": "4ba43758-496d-4e0a-a681-bcd0d9c83f41",
   "metadata": {},
   "outputs": [],
   "source": [
    "import random\n",
    "age_aleatoire = random.randint(1, 10)\n",
    "# À compléter"
   ]
  },
  {
   "cell_type": "markdown",
   "id": "82a0b4da-4a25-482a-88f7-03c7e3babc20",
   "metadata": {},
   "source": [
    "# Exercice 2.3\n",
    "\n",
    "Afficher l'age de Rex avec l'insruction `print()`"
   ]
  },
  {
   "cell_type": "code",
   "execution_count": null,
   "id": "fd196810-03d5-4c79-a099-f56ef196f4f0",
   "metadata": {},
   "outputs": [],
   "source": [
    "# À compléter"
   ]
  },
  {
   "cell_type": "markdown",
   "id": "79df2a3f",
   "metadata": {},
   "source": [
    "## Partie 3 : Création d'une méthode\n",
    "\n",
    "### Exercice 3.1\n",
    "Copiez la classe `Animal` crée à l'Exercice 1.1 ci dessous de façon à pouvoir lui ajouter une méthode.\n",
    "\n",
    "Ajoutez une méthode `vieillir` qui augmente l'âge de l'animal de 1 an.\n",
    "Testez la méthode avec l'un des animaux instanciés précédemment."
   ]
  },
  {
   "cell_type": "code",
   "execution_count": null,
   "id": "4d311761",
   "metadata": {},
   "outputs": [],
   "source": [
    "# À compléter"
   ]
  },
  {
   "cell_type": "markdown",
   "id": "7f164e0c",
   "metadata": {},
   "source": [
    "## Partie 4 : Héritage de classe\n",
    "\n",
    "### Exercice 4.1\n",
    "* Créez une classe `Chien` qui hérite de `Animal`.\n",
    "* Ajoutez un attribut supplémentaire `race`.\n",
    "* Ajouter une méthode supplémentaire `aboyer` qui affiche \"Ouaf Ouaf !\""
   ]
  },
  {
   "cell_type": "code",
   "execution_count": null,
   "id": "169a4509",
   "metadata": {},
   "outputs": [],
   "source": [
    "# À compléter\n",
    "class Chien(Animal):\n",
    "    pass\n",
    "\n",
    "# Exemple d'utilisation\n",
    "# medor = Chien(\"Médor\", \"chien\", 3, \"Labrador\")\n",
    "# medor.presentation()\n",
    "# medor.aboyer()"
   ]
  },
  {
   "cell_type": "markdown",
   "id": "86fa76b2-0cda-468a-b82d-b0276c38f2fa",
   "metadata": {},
   "source": [
    "### Exercice 4.2\n",
    "\n",
    "Créer une variable pour représenter `Fred`, un caniche de 2 ans."
   ]
  },
  {
   "cell_type": "code",
   "execution_count": null,
   "id": "892609ab-5638-4d0f-80a8-d8871e908802",
   "metadata": {},
   "outputs": [],
   "source": [
    "# À compléter"
   ]
  },
  {
   "cell_type": "markdown",
   "id": "32eaed25-ed9c-4a48-890b-ebb208eb0fbe",
   "metadata": {},
   "source": [
    "### Exercice 4.3\n",
    "\n",
    "Ajouter 1 à l'age de `Fred` en appelant sa méthode `vieillir()` définie dans la classe `Animal`.\n",
    "\n",
    "Aficher son nouvel age avec l'instruction `print()`"
   ]
  },
  {
   "cell_type": "code",
   "execution_count": null,
   "id": "bfb7fff0-9e14-47c5-bd63-dda943361f01",
   "metadata": {},
   "outputs": [],
   "source": []
  },
  {
   "cell_type": "markdown",
   "id": "d7ab676f",
   "metadata": {},
   "source": [
    "## Partie 5 : Afficher le type d'un objet\n",
    "\n",
    "### Exercice 5.1\n",
    "Afficher le type des variables `Médor` et `Fred`"
   ]
  },
  {
   "cell_type": "code",
   "execution_count": null,
   "id": "6dd593f7",
   "metadata": {},
   "outputs": [],
   "source": [
    "print(\"Médor est un objet de type :\", type(Médor))\n",
    "print(\"Fred est un objet de type :\", type(Fred))"
   ]
  },
  {
   "cell_type": "markdown",
   "id": "95b68977-0923-4b9a-b6de-99c814f584b0",
   "metadata": {},
   "source": [
    "### Exercice 5.2\n",
    "\n",
    "Tester si un objet hérite d'une certaine classe"
   ]
  },
  {
   "cell_type": "code",
   "execution_count": null,
   "id": "1be5d62f-9fab-4ddc-9c18-61204bae88b4",
   "metadata": {},
   "outputs": [],
   "source": [
    "Print(\"Médor est un Animal: \", isinstance(Médor, Animal))\n",
    "Print(\"Médor est un Chien: \", isinstance(Médor, Chien))\n",
    "Print(\"Fred est un Animal: \", isinstance(Fred, Animal))\n",
    "Print(\"Fred est un chien: \", isinstance(Fred, Chien))"
   ]
  },
  {
   "cell_type": "markdown",
   "id": "1fe76287",
   "metadata": {},
   "source": [
    "## Partie 6 : Créer une autre classe héritée\n",
    "\n",
    "### Exercice 6.1\n",
    "Créez une classe `Chat` qui hérite de `Animal` et ajoutez une méthode `miauler` qui affiche \"Miaou !\".\n",
    "\n",
    "Testez cette méthode avec une instance de `Chat`."
   ]
  },
  {
   "cell_type": "code",
   "execution_count": 11,
   "id": "9c2862fb",
   "metadata": {},
   "outputs": [],
   "source": [
    "# À compléter"
   ]
  },
  {
   "cell_type": "markdown",
   "id": "a05670c8-5266-41ba-8db0-243c862dbd06",
   "metadata": {},
   "source": [
    "### Exercice 6.2\n",
    "\n",
    "Créer une variable `Felix` pour représenter un chat siamois de 6 ans. "
   ]
  },
  {
   "cell_type": "code",
   "execution_count": null,
   "id": "f7464aa7-77c5-49b1-9e13-1706e2d4cc57",
   "metadata": {},
   "outputs": [],
   "source": [
    "# À compléter"
   ]
  },
  {
   "cell_type": "markdown",
   "id": "158206a2-0c54-4260-a790-e6b2404c5314",
   "metadata": {},
   "source": [
    "# Partie 7: Le concert des animaux\n",
    "\n",
    "### Exercice 7.1 \n",
    "\n",
    "Créons une liste qui contient tous les animaux que nous avons définis jusque là.\n",
    "\n",
    "Ecrire une boucle qui pour chaque animal affiche sa présentation et son cri. "
   ]
  },
  {
   "cell_type": "code",
   "execution_count": null,
   "id": "45708145-7d1f-4d1e-a93c-267d172a60b5",
   "metadata": {},
   "outputs": [],
   "source": [
    "mes_animaux = [Médor, Rex, Fred, Félix]  # Compléter la liste selon les animaux que vous avez définis\n",
    "\n",
    "for animal in mes_animaux:\n",
    "    # A compléter"
   ]
  },
  {
   "cell_type": "markdown",
   "id": "71cdd440",
   "metadata": {},
   "source": [
    "## Partie 8 : Récapitulatif\n",
    "\n",
    "Dans ce notebook, vous avez appris à :\n",
    "- Créer une classe en Python\n",
    "- Instancier des objets\n",
    "- Modifier des attributs\n",
    "- Utiliser l'héritage pour réutiliser du code\n",
    "- Ajouter des méthodes à une classe héritée\n",
    "- Adapter les traitement au types d'objets"
   ]
  },
  {
   "cell_type": "code",
   "execution_count": null,
   "id": "7697d348-770b-4cb6-9b4c-326a478f0ed1",
   "metadata": {},
   "outputs": [],
   "source": []
  }
 ],
 "metadata": {
  "kernelspec": {
   "display_name": "Pyton 3.12",
   "language": "python",
   "name": "py312"
  },
  "language_info": {
   "codemirror_mode": {
    "name": "ipython",
    "version": 3
   },
   "file_extension": ".py",
   "mimetype": "text/x-python",
   "name": "python",
   "nbconvert_exporter": "python",
   "pygments_lexer": "ipython3",
   "version": "3.12.2"
  }
 },
 "nbformat": 4,
 "nbformat_minor": 5
}

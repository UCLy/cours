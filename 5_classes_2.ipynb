{
 "cells": [
  {
   "cell_type": "markdown",
   "id": "ee2746ae-65a8-4f97-a572-600a74ef99ae",
   "metadata": {},
   "source": [
    "# Programmation Orientée Objet (POO) : Suite\n",
    "\n",
    "## Objectif :\n",
    "Ce notebook a pour but d'approfondir vos connaissances des classes en python sur la base de ce que vous avez appris dans le notebook 4_classes.ipynb."
   ]
  },
  {
   "cell_type": "markdown",
   "id": "3b584169-5881-497b-8ef0-0554529b7be0",
   "metadata": {},
   "source": [
    "## Partie 1: Encapsulation des attributs d'une classe\n",
    "\n",
    "Une bonne pratique en programmation orientée objet consiste à cacher les attributes internes d'une classe pour éviter qu'ils soient modifiés n'importe comment depuis l'extérieur. \n",
    "C’est ce qu’on appelle l’encapsulation.\n",
    "\n",
    "Python fournit deux conventions pour masquer (encapsuler) les attributs d'une classe: \n",
    "*  Attribut commençant  par un `_` (exemple `_nom`) indiquer un attribut protégé, accessible depuis l'exterieur de la classe mais générant un warning.\n",
    "*  Attribut commençant  par deux `_` (exemple `__nom`) indique un attribut privé qui qui n'est pas accessible depuis l'exterieur de la classe"
   ]
  },
  {
   "cell_type": "markdown",
   "id": "46150d9b-1d73-49e3-aebc-d01e98055650",
   "metadata": {},
   "source": [
    "Les attributes encapsulés sont accessibles par des mathéodes appelées \"getter\" pour les lire, et \"setter\" pour les écrire.\n",
    "Les méthodes getters et les setteurs sont idenfifiées les décorateurs `@property` et `@*.setter`.\n",
    "\n",
    "Les décorateurs `@property` et `@*.setter` permettent :\n",
    "\n",
    "* De transformer une méthode en attribut (accès comme `animal.nom`)\n",
    "* D’ajouter des règles lors de l’accès ou de la modification (ex. validation, transformation)\n",
    "\n",
    "Voyons l'exemple suivant:"
   ]
  },
  {
   "cell_type": "code",
   "execution_count": null,
   "id": "78ad8114-d34f-4149-b31d-79835d101b5e",
   "metadata": {},
   "outputs": [],
   "source": [
    "class Animal:\n",
    "    def __init__(self, nom, espece, age):\n",
    "        self._nom = nom               # attribut protégé\n",
    "        self._espece = espece\n",
    "        self._age = age              # on va ajouter un contrôle avec @property\n",
    "\n",
    "    def presentation(self):\n",
    "        print(f\"Je suis un {self._espece} nommé {self._nom} et j'ai {self._age} ans.\")\n",
    "\n",
    "    # Getter pour l'attribut age\n",
    "    @property\n",
    "    def age(self):\n",
    "        return self._age\n",
    "\n",
    "    # Setter avec contrôle de validité\n",
    "    @age.setter\n",
    "    def age(self, nouveau_age):\n",
    "        if nouveau_age < 0:\n",
    "            print(\"Erreur : l'âge ne peut pas être négatif.\")\n",
    "        else:\n",
    "            self._age = nouveau_age\n",
    "\n",
    "    # Getter pour le nom\n",
    "    @property\n",
    "    def nom(self):\n",
    "        return self._nom\n",
    "\n",
    "    # Setter pour le nom\n",
    "    @nom.setter\n",
    "    def nom(self, nouveau_nom):\n",
    "        if isinstance(nouveau_nom, str) and nouveau_nom:\n",
    "            self._nom = nouveau_nom\n",
    "        else:\n",
    "            print(\"Nom invalide\")\n",
    "\n",
    "# Exemple d'utilisation\n",
    "rex = Animal(\"Rex\", \"chien\", 5)\n",
    "rex.presentation()\n",
    "\n",
    "rex.age = -2     # Affiche une erreur\n",
    "rex.age = 6      # Âge modifié avec succès\n",
    "rex.presentation()\n",
    "\n",
    "rex.nom = \"\"     # Nom invalide\n"
   ]
  },
  {
   "cell_type": "markdown",
   "id": "1b2f32fa-33d8-4cce-88a5-7f6c9eb6d44b",
   "metadata": {},
   "source": [
    "## Exercice 1.1 \n",
    "\n",
    "Créer une classe Chien qui hérite de la classe Animal et qui contient en plus un attribut privé `poids`.\n",
    "\n",
    "Définir le setter du poids pour vérifier que le poids est compris entre 0 et 40 kilos."
   ]
  },
  {
   "cell_type": "code",
   "execution_count": 5,
   "id": "bb26e4da-de89-488a-902d-8e9f4e586b7c",
   "metadata": {},
   "outputs": [],
   "source": [
    "# Compléter"
   ]
  },
  {
   "cell_type": "markdown",
   "id": "5791edb4-ad2d-428c-94a8-fa578c93ba2b",
   "metadata": {},
   "source": [
    "## Partie 2: Méthodes spéciales "
   ]
  },
  {
   "cell_type": "markdown",
   "id": "41ed8973-931c-4a6d-8c95-b46f9d7c316b",
   "metadata": {},
   "source": [
    "Les méthodes spétiales sont des méthodes prédéfinies par pyton. Parmi elles :\n",
    "\n",
    "*  `__str__` . Cette méthode est appelée par l'instruction `print()` et est utilisée pour afficher une représentation textuelle de l'objet\n",
    "*  `__eq__`. Cette méthode est appelée pour évaluer la comparaison de deux objets avec l'opérateur `==`\n",
    "*  `__lt__`. Cette méthode est appelée pour évaluer la comparaison de deux objets avec l'opérateur `<`\n",
    "\n",
    "Voyons l'exemple suivant:"
   ]
  },
  {
   "cell_type": "code",
   "execution_count": 11,
   "id": "1f63bb2f-5332-4ed4-ac10-46b025185d3d",
   "metadata": {},
   "outputs": [
    {
     "name": "stdout",
     "output_type": "stream",
     "text": [
      "Mon nom est Rex\n",
      "rex == fred ? False\n"
     ]
    }
   ],
   "source": [
    "class Animal:\n",
    "    def __init__(self, nom, espece, age):\n",
    "        self._nom = nom               # attribut protégé\n",
    "        self._espece = espece\n",
    "        self._age = age              # on va ajouter un contrôle avec @property\n",
    "\n",
    "    def presentation(self):\n",
    "        print(f\"Je suis un {self._espece} nommé {self._nom} et j'ai {self._age} ans.\")\n",
    "\n",
    "    # Getter pour l'attribut age\n",
    "    @property\n",
    "    def age(self):\n",
    "        return self._age\n",
    "\n",
    "    # Setter avec contrôle de validité\n",
    "    @age.setter\n",
    "    def age(self, nouveau_age):\n",
    "        if nouveau_age < 0:\n",
    "            print(\"Erreur : l'âge ne peut pas être négatif.\")\n",
    "        else:\n",
    "            self._age = nouveau_age\n",
    "\n",
    "    # Getter pour le nom\n",
    "    @property\n",
    "    def nom(self):\n",
    "        return self._nom\n",
    "\n",
    "    # Setter pour le nom\n",
    "    @nom.setter\n",
    "    def nom(self, nouveau_nom):\n",
    "        if isinstance(nouveau_nom, str) and nouveau_nom:\n",
    "            self._nom = nouveau_nom\n",
    "        else:\n",
    "            print(\"Nom invalide\")\n",
    "\n",
    "    def __str__(self):\n",
    "        return \"Mon nom est \" + self._nom\n",
    "\n",
    "    def __eq__(self, other):\n",
    "        return self._nom == other.nom\n",
    "\n",
    "# Exemple d'utilisation\n",
    "rex = Animal(\"Rex\", \"chien\", 5)\n",
    "fred = Animal(\"Fred\", \"chien\", 2)\n",
    "\n",
    "print(rex)\n",
    "print(\"rex == fred :\", rex == fred) "
   ]
  },
  {
   "cell_type": "markdown",
   "id": "b6edf751-7afc-41b4-a375-451c2486f431",
   "metadata": {},
   "source": [
    "### Exercice 2.1\n",
    "\n",
    "Recréer la classe Chien en copiant ce que vous avez fait dans l'exercice 1.1\n",
    "\n",
    "Ajuter un attribut `propriétaire`\n",
    "\n",
    "Créer une méthode `__eq__` qui renvoie `True` si et seulement si les deux chiens ont le même nom et le même propriétaire\n",
    "\n",
    "Créer une méthode `__lt__` de telle sorte que l'expression `rex < fred` renvoie `True` si rex est plus jeune que fred et `False` sinon."
   ]
  },
  {
   "cell_type": "code",
   "execution_count": 12,
   "id": "aca97e64-a695-4a78-9a51-7ec154a28ad7",
   "metadata": {},
   "outputs": [],
   "source": [
    "# Compléter"
   ]
  },
  {
   "cell_type": "markdown",
   "id": "fcf2706b-5d66-4376-baf1-e779b07c1841",
   "metadata": {},
   "source": [
    "## Partie 3: Composition d’objets\"\n",
    "\n",
    "Nous avons déjà une classe Animal. Nous voulons maintenant modéliser un refuge qui peut contenir plusieurs animaux. Le refuge aura :\n",
    "\n",
    "* un nom,\n",
    "* une capacité maximale,\n",
    "* une liste d’animaux.\n",
    "\n",
    "###Exercice 3.1\n",
    "\n",
    "Compléter la classe `Refuge` ci-dessous pour que sa méthode `retirer_animal` retire l'animal dont le nom est fourni en argument de la liste des animaux du refuge."
   ]
  },
  {
   "cell_type": "code",
   "execution_count": 13,
   "id": "84b9a4f9-3cc5-45da-a904-594272732990",
   "metadata": {},
   "outputs": [],
   "source": [
    "class Refuge:\n",
    "    def __init__(self, nom, capacite):\n",
    "        self.nom = nom\n",
    "        self.capacite = capacite\n",
    "        self.animaux = []  # Liste d'objets Animal\n",
    "\n",
    "    def ajouter_animal(self, animal):\n",
    "        if len(self.animaux) < self.capacite:\n",
    "            self.animaux.append(animal)\n",
    "            print(f\"{animal.nom} a été ajouté au refuge {self.nom}.\")\n",
    "        else:\n",
    "            print(f\"Le refuge {self.nom} est plein. Impossible d’ajouter {animal.nom}.\")\n",
    "\n",
    "    def afficher_animaux(self):\n",
    "        print(f\"Refuge : {self.nom} - Animaux hébergés :\")\n",
    "        if not self.animaux:\n",
    "            print(\"Aucun animal pour le moment.\")\n",
    "        for animal in self.animaux:\n",
    "            print(\" -\", animal.presentation())\n",
    "\n",
    "    def retirer_animal(self, nom_animal):\n",
    "        pass\n",
    "        # A compléter"
   ]
  },
  {
   "cell_type": "markdown",
   "id": "e6e89299-600a-4637-8d88-fb47bcc583e5",
   "metadata": {},
   "source": [
    "## Partie 4: Duplication d'un ojets par \"clonage\"\n",
    "\n",
    "Les objets sont des variables \"mutable\". \n",
    "Sela signifie qu'une instruction comme `fred = rex` fera que la variable `fred` aura pour résultat que `fred` fera référence à la même instance d'objet que la variable `rex`. \n",
    "\n",
    "Si nous voulons créer un nouvel objet `fred` en copiant les valeurs des attributs de `rex`, il convient d'implémenter une méthode `copy` dans la classe `Animal` qui pourra être utilisée par l'instruction : `fred = rex.copy()`. \n",
    "On dit que la méthode `copy()` renvoie un \"clone\" de l'objet auquel elle est appliquée (dans notre exemple, `rex`)."
   ]
  },
  {
   "cell_type": "markdown",
   "id": "79d80d41-66c4-4072-8441-4688c6a236bd",
   "metadata": {},
   "source": [
    "### Exercice 4.1\n",
    "\n",
    "Copiez la classe `Animal` et ajoutez lui une méthode `copy()`\n",
    "\n",
    "Cette méthode doit renvoyer une nouvelle instance de `Animal` en initialisant ses attributs aux valeurs de l'instance à laquelle elle est appliquée."
   ]
  },
  {
   "cell_type": "code",
   "execution_count": 19,
   "id": "3cf48583-bd71-49d3-8abd-0abda3e5598c",
   "metadata": {},
   "outputs": [],
   "source": [
    "# Compléter"
   ]
  },
  {
   "cell_type": "markdown",
   "id": "78c9f5e8-6e9f-4b22-9a32-be2d774ea01e",
   "metadata": {},
   "source": [
    "### Exercice 4.2\n",
    "\n",
    "Copiez la classe `Refuge` et ajoutez lui une méthode `copy()`\n",
    "\n",
    "Nous voulons que l'instruction `refuge2 = refuge1.copy()` crée un nouveau refuge de meme nom qui contient les mêmes animaux que `refuge1`"
   ]
  },
  {
   "cell_type": "code",
   "execution_count": 18,
   "id": "d94a8969-4b5c-4768-b2bc-5822cf7040d5",
   "metadata": {},
   "outputs": [],
   "source": [
    "# Compléter"
   ]
  },
  {
   "cell_type": "markdown",
   "id": "d8cb7f20-50f5-442a-88cb-45c0c950cfde",
   "metadata": {},
   "source": [
    "### Exercice 4.4\n",
    "\n",
    "Si nous souhaitons que `refuge2` contienne une copie de chaque animal qui est dans le `refuge1` alors il faut créer une méthode `deep_copy()` qui contiendra une liste d'animaux construite en copiant un par un chaque animal de la liste qui est dans `refuge1`\n",
    "\n",
    "Copiez la classe `Animal` créée précédement et ajoutez lui la méthode `deep_copy()`\n"
   ]
  },
  {
   "cell_type": "code",
   "execution_count": 20,
   "id": "37186eec-e5a0-41d2-aca6-98a9ecb53d4e",
   "metadata": {},
   "outputs": [],
   "source": [
    "# Compléter"
   ]
  },
  {
   "cell_type": "code",
   "execution_count": null,
   "id": "99d1192e-d68d-403d-ac71-4ca0370ee4ac",
   "metadata": {},
   "outputs": [],
   "source": []
  }
 ],
 "metadata": {
  "kernelspec": {
   "display_name": "Pyton 3.12",
   "language": "python",
   "name": "py312"
  },
  "language_info": {
   "codemirror_mode": {
    "name": "ipython",
    "version": 3
   },
   "file_extension": ".py",
   "mimetype": "text/x-python",
   "name": "python",
   "nbconvert_exporter": "python",
   "pygments_lexer": "ipython3",
   "version": "3.12.2"
  }
 },
 "nbformat": 4,
 "nbformat_minor": 5
}

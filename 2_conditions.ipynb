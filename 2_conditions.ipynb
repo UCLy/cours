{
 "cells": [
  {
   "cell_type": "markdown",
   "metadata": {},
   "source": [
    "[![Open In Colab](https://colab.research.google.com/assets/colab-badge.svg)](https://colab.research.google.com/github/UCLy/cours/blob/master/2_conditions.ipynb)"
   ]
  },
  {
   "cell_type": "markdown",
   "metadata": {},
   "source": [
    "# Décisions et flux de contrôle chez l'humain et la machine\n",
    "Selon une étude menée par des chercheurs de l’Université Cornell, une personne adulte prend en moyenne <u>35 000 **décisions** par jour</u>. Ces décisions sont, par exemple, de se lever ou de rester au lit le matin, de manger  (ou pas) cette vieille part de pizza qui traîne dans la cuisine depuis deux jours etc.\n",
    "\n",
    "Ces décisions contrôlent le déroulement de vos journées. Votre ordinateur, tout comme vous, passe par un **flux de décisions** similaire chaque fois qu'il exécute un code. C'est le **flux de contrôle** de votre programme.\n",
    "\n",
    "Par exemple, à chaque fois que vous essayez d'accéder à votre boîte mail Ucly, l'ordinateur gère ce genre de flux de décisions :\n",
    "\n",
    "    Demande de connexion : L'utilisateur tente de se connecter au serveur.\n",
    "    Vérification des identifiants :\n",
    "        Condition 1 : L'identifiant de l'utilisateur est-il correct ?\n",
    "            Oui : Passer à l'étape suivante.\n",
    "            Non : Rejeter la connexion.\n",
    "    Vérification du mot de passe :\n",
    "        Condition 2 : Le mot de passe est-il correct ?\n",
    "            Oui : Accorder l'accès.\n",
    "            Non : Rejeter la connexion.\n",
    "\n",
    "La demande de prise de décision est inhérente à tout code et est donc **fondamentale** dans l'apprentissage de la programmation !\n",
    "\n",
    "Dans cette activité, nous allons apprendre comment coder ces prises de décisions."
   ]
  },
  {
   "cell_type": "markdown",
   "metadata": {
    "scrolled": true
   },
   "source": [
    "# 1. Premier Jeu : Devinez le Nombre\n",
    "Nous allons commencer par un petit jeu interactif. Votre objectif est de deviner un nombre choisi aléatoirement par l'ordinateur. Exécutez la cellule de code ci-dessous pour que l'ordinateur choisisse aléatoirement un nombre entier entre 1 et 10."
   ]
  },
  {
   "cell_type": "code",
   "execution_count": null,
   "metadata": {
    "scrolled": true
   },
   "outputs": [],
   "source": [
    "import random\n",
    "\n",
    "# L'ordinateur choisit un nombre entier aléatoire entre 1 et 10\n",
    "nombre_a_deviner = random.randint(1, 10)\n",
    "print(\"L'ordinateur a choisi un nombre entre 1 et 10.\")\n",
    "\n",
    "# Initialisation du compteur de tentatives\n",
    "tentative = 0"
   ]
  },
  {
   "cell_type": "markdown",
   "metadata": {
    "scrolled": true
   },
   "source": [
    "### À vous de jouer ! 🤠\n",
    "Exécutez la cellule suivante pour commencer à jouer."
   ]
  },
  {
   "cell_type": "code",
   "execution_count": null,
   "metadata": {
    "scrolled": true
   },
   "outputs": [],
   "source": [
    "# Incrémenter le compteur et afficher le nombre d'exécutions\n",
    "tentative += 1\n",
    "print(f\"Tentative numéro: {tentative}.\")\n",
    "\n",
    "# Demandez au joueur de deviner le nombre\n",
    "devinette = int(input(\"Devinez le nombre : \")) # input(\"texte\") est une fonction qui affiche un texte, demande à l'utilisateur d'entrée une donnée, puis stock cette donnée \n",
    "\n",
    "# Vérifiez si la devinette est correcte\n",
    "if devinette == nombre_a_deviner: # Si votre nombre est le même que celui de l'ordinateur, alors les actions en dessous sont activées.\n",
    "    print(f\"Félicitations ! Vous avez deviné le bon nombre en {tentative} tentative(s)! \") # fin de partie\n",
    "    sauvegarde_tentative=tentative # sauvegarde de votre exploit dans la variable sauvegarde_tentative\n",
    "    tentative=0 # remise à 0 du compteur\n",
    "    nombre_a_deviner = random.randint(1, 10) # réinitialisation du jeu \n",
    "    print(\"L'ordinateur a choisi un nouveau nombre et est prêt à encaisser une nouvelle défaite pour vous aider à apprendre.\")# try again ?\n",
    "    \n",
    "elif devinette < nombre_a_deviner: # Si votre nombre est inférieur alors les actions en dessous sont activées. elif= abréviation de else if (sinon si 'nouvelle condition')\n",
    "    print(\"Trop bas ! Essayez encore en executant de nouveau le code.\")\n",
    "    \n",
    "else: # Si votre nombre est ni inférieur ni égal à celui de l'ordinateur, alors les actions en dessous sont activées.\n",
    "    print(\"Trop haut ! Essayez encore en executant de nouveau le code.\")"
   ]
  },
  {
   "cell_type": "markdown",
   "metadata": {},
   "source": [
    "Bravo, vous êtes un.e champion.ne ! Maintenant lisez le code du jeu et essayez de comprendre comment il fonctionne."
   ]
  },
  {
   "cell_type": "markdown",
   "metadata": {},
   "source": [
    "# 2 Anatomie d'une expression booléenne\n",
    "Dans le jeu précédent, chaque tentative consistait à proposer un nombre entre 1 et 10. L'ordinateur réagissait en conséquence en affichant une réponse spécifique. Le choix de la réponse dépendait de la comparaison entre votre nombre et celui choisi par l'ordinateur.\n",
    "\n",
    "<u>Test :</u> Exécutez le code en-dessous et répondez à la question suivante."
   ]
  },
  {
   "cell_type": "code",
   "execution_count": 2,
   "metadata": {},
   "outputs": [
    {
     "name": "stdin",
     "output_type": "stream",
     "text": [
      "Dans le jeu, combien de réponses différentes était il possible d'observer :  3\n"
     ]
    },
    {
     "name": "stdout",
     "output_type": "stream",
     "text": [
      " Excellent! \n"
     ]
    }
   ],
   "source": [
    "%run tests/test_1.py"
   ]
  },
  {
   "cell_type": "markdown",
   "metadata": {},
   "source": [
    "Par exemple, l'action `print(\"Trop bas ! Essayez encore en exécutant de nouveau le code.\")` était déclenchée par l'ordinateur si l'expression `devinette < nombre_a_deviner` était vraie. \n",
    "\n",
    "Cette expression évaluait si le nombre que vous avez proposé (stocké dans la variable `devinette`) était inférieur au nombre choisi par l'ordinateur (`nombre_a_deviner`). Si l'expression était vraie, le message \"Trop bas ! ...\" s'affichait. Sinon, il ne s'affichait pas.\r\n",
    "\r\n",
    "Les expressions telles qu`e devinette < nombre_a_devin`er, qui peuvent être soit vraies, soit fausses, sont appelées de**s expressions booléenn**es.\n",
    "\n",
    "<u>Exemples :</u> Voici différentes expressions booléennes. Lisez puis exécutez les cellules suivantes et voyez ce qui ce passe."
   ]
  },
  {
   "cell_type": "code",
   "execution_count": null,
   "metadata": {},
   "outputs": [],
   "source": [
    "2<3 # 2 strictement inférieur à 3"
   ]
  },
  {
   "cell_type": "code",
   "execution_count": null,
   "metadata": {},
   "outputs": [],
   "source": [
    "2<=3 # 2 inférieur ou égal à 3"
   ]
  },
  {
   "cell_type": "code",
   "execution_count": null,
   "metadata": {},
   "outputs": [],
   "source": [
    "2>3 # 2 strictement supérieur à 3"
   ]
  },
  {
   "cell_type": "code",
   "execution_count": null,
   "metadata": {},
   "outputs": [],
   "source": [
    "2>=3 # 2 supérieur ou égal à 3"
   ]
  },
  {
   "cell_type": "code",
   "execution_count": null,
   "metadata": {},
   "outputs": [],
   "source": [
    "2==3 # 2 égal à 3"
   ]
  },
  {
   "cell_type": "code",
   "execution_count": null,
   "metadata": {},
   "outputs": [],
   "source": [
    "2!=3 # 2 différent de 3"
   ]
  },
  {
   "cell_type": "markdown",
   "metadata": {},
   "source": [
    "Ces 6 expressions sont des expressions booléennes, certaines vraies, d'autre fausses. \n",
    "\n",
    "Elles ont été créés en utilisant des **opérateurs relationnels**. \n",
    "\n",
    "Les opérateurs relationnels comparent deux éléments de même type (entier, nombre flottants, chaînes de caractères ...) et renvoient soit `True` (vrai) soit `False` (faux).\n",
    "\n",
    "Voici les opérateurs relationnels que nous avons vus jusqu'à présent :\n",
    "- Égale à (`==`) ( <u>Remarque :</u> l'opérateur `=` sert déjà à affecter une valeur à une variable, il a donc fallu créer `==` pour tester l'égalité.)\n",
    "- Différent de (`!=`) : Vérifie si deux valeurs sont différentes.\n",
    "- Strictement supérieur à (`>`) : Vérifie si une valeur est strictement supérieure à une autre.\n",
    "- Supérieur ou égal à (`>=`) : Vérifie si une valeur est supérieure ou égale à une autre.\n",
    "- Strictement inférieur à (`<`) : Vérifie si une valeur est strictement inférieure à une autre.\n",
    "- Inférieur ou égal à (`<=`) : Vérifie si une valeur est inférieure ou égale à une autre.\n",
    "\n",
    "### Remarque\n",
    "Une variable peut être une expression booléenne !\n",
    "<u>Exemple :</u>"
   ]
  },
  {
   "cell_type": "code",
   "execution_count": null,
   "metadata": {},
   "outputs": [],
   "source": [
    "variable_bool= 0!=0\n",
    "print(variable_bool)"
   ]
  },
  {
   "cell_type": "markdown",
   "metadata": {},
   "source": [
    "Ici `variable_bool` est une variable qui stocke une expression booléenne fausse. "
   ]
  },
  {
   "cell_type": "markdown",
   "metadata": {},
   "source": [
    "### À vous de jouer !  🤠\n",
    "Changez les opérateurs relationnels des expressions booléennes suivantes pour qu'elles soient vraies."
   ]
  },
  {
   "cell_type": "code",
   "execution_count": null,
   "metadata": {},
   "outputs": [],
   "source": [
    "A = 3==4\n",
    "print(A)"
   ]
  },
  {
   "cell_type": "code",
   "execution_count": null,
   "metadata": {},
   "outputs": [],
   "source": [
    "pi=3.141\n",
    "B = pi>=410000\n",
    "print(B)"
   ]
  },
  {
   "cell_type": "code",
   "execution_count": null,
   "metadata": {},
   "outputs": [],
   "source": [
    "C = \"concombre\"!= \"concombre\"\n",
    "print(C)"
   ]
  },
  {
   "cell_type": "code",
   "execution_count": null,
   "metadata": {},
   "outputs": [],
   "source": [
    "A = 3<3<=4\n",
    "print(A)"
   ]
  },
  {
   "cell_type": "markdown",
   "metadata": {},
   "source": [
    "### À vous de jouer !  🤠\n",
    "Dans le code du jeu, `nombre_a_deviner` est la variable qui contient le nombre à deviner, `devinette` est la variable qui stocke votre nombre. Après avoir relu le code du jeu, répondez aux questions du test en-dessous."
   ]
  },
  {
   "cell_type": "code",
   "execution_count": null,
   "metadata": {},
   "outputs": [],
   "source": [
    "%run tests/test_2.py"
   ]
  },
  {
   "cell_type": "markdown",
   "metadata": {},
   "source": [
    "# 3 Anatomie d'une décision conditionnelle\n",
    "Pour exécuter une action en fonction de la valeur True ou False d'une expression booléenne, il suffit d'utiliser une condition.\r",
    ".\n",
    "\n",
    "La syntaxe est très simple :\n",
    "\n",
    "```python\n",
    "if expression_booléenne :\n",
    "    action\n",
    "```\n",
    "Ici l'action ne s'enclenche que si `expression_booléenne` est `True`. \n",
    "\n",
    "Vous pouvez comprendre cette structure en la traduisant ainsi :\n",
    "\n",
    "**si** `expression_booléenne` est `True` **alors** action. \n",
    "\n",
    "\n",
    "<u> Exemple :</u> Changez la valeur de `temperature` pour que l'action soit exécutée."
   ]
  },
  {
   "cell_type": "code",
   "execution_count": null,
   "metadata": {},
   "outputs": [],
   "source": [
    "temperature=-8000\n",
    "if temperature>30 :\n",
    "    print(\"Il fait chaud dehors.\")"
   ]
  },
  {
   "cell_type": "markdown",
   "metadata": {},
   "source": [
    "### Indentation\n",
    "Exécutez la cellule suivante. (spoiler : ça ne va pas marcher)"
   ]
  },
  {
   "cell_type": "code",
   "execution_count": null,
   "metadata": {},
   "outputs": [],
   "source": [
    "temperature=-8000\n",
    "if temperature > 30 :\n",
    "print(\"Il fait chaud dehors.\")"
   ]
  },
  {
   "cell_type": "markdown",
   "metadata": {},
   "source": [
    "Bien que ce code soit presque identique à l'exemple précédent, il ne s'exécutera pas correctement. La seule différence est l'absence d'**indentation** (alinéa) devant la fonction `print()`.\n",
    "\n",
    "L'action **doit** être précédée d'un alinéa que l'on obtient en appuyant sur `tab`. Ainsi python comprend que l'action `print(\"Il fait chaud dehors.\")` appartient au bloc conditionnel qui commence par `if temperature>30 :` et qu'elle ne doit être exécutée que si cette condition est vérifiée.\n",
    "\n",
    "<u> Autre exemple :</u>"
   ]
  },
  {
   "cell_type": "code",
   "execution_count": null,
   "metadata": {},
   "outputs": [],
   "source": [
    "temperature=-8000\n",
    "if temperature > 30 :\n",
    "    print(\"Il fait chaud dehors.\")\n",
    "print(\"Puisqu'il fait chaud, pensez à vous hydrater.\")"
   ]
  },
  {
   "cell_type": "markdown",
   "metadata": {},
   "source": [
    "Bien qu'il fasse -8000°C, le programme affiche \"Puisqu'il fait chaud, pensez à vous hydrater.\", ce qui est paradoxale.\n",
    "\n",
    "Cela se produit parce que l'action `print(\"Puisqu'il fait chaud, pensez à vous hydrater.\")` n'est pas indentée. Elle n'est donc pas associée à la condition `if temperature > 30 :` et s'exécute indépendamment de la température.\n",
    "\n",
    "<u>Corrigez cet exemple en mettant l'indentation au bon endroit."
   ]
  },
  {
   "cell_type": "markdown",
   "metadata": {},
   "source": [
    "### `else` (sinon)\n",
    "Il est aussi possible d'indiquer à l'ordinateur ce qu'il doit faire lorsque l'expression booléenne est `False`. Il suffit d'ajouter `else` :\n",
    "\n",
    "```python\n",
    " if expression_booléenne :\n",
    "         action_1\n",
    " else :\n",
    "         action_2\n",
    "```\n",
    "Ainsi, si `expression_booléenne` est `True`, `action_1` est exécutée. Sinon, c'est `action_2` qui l'est.\n",
    "\n",
    "<u> Exemple :</u> Lisez et exécutez la cellule suivante."
   ]
  },
  {
   "cell_type": "code",
   "execution_count": null,
   "metadata": {},
   "outputs": [],
   "source": [
    "temperature=-8000\n",
    "if temperature > 30 :\n",
    "    print(\"Il fait chaud dehors.\")\n",
    "else :\n",
    "    print(\"Il ne fait pas chaud dehors.\")"
   ]
  },
  {
   "cell_type": "markdown",
   "metadata": {},
   "source": [
    "### À vous de jouer ! 🤠\n",
    "Vous êtes Margot Robbie et vous vous apprêtez à exécuter un programme (la cellule juste en dessous), qui salue l'utilisatrice `Margot Robbie` si et seulement si c'est bien Margot Robbie.\n",
    "\n",
    "1. La cellule ci-dessous est incomplète et contient une faute. Complétez cette cellule puis exécutez la.\n",
    "\n",
    "Si vous n'êtes pas Margot Robbie c'est que vous êtes Ryan Gosling.\n",
    "\n",
    "2. Avec vos connaissances, mettre à jour le programme afin qu'il salue Ryan Gosling si le nom d'utilisateur n'est pas Margot Robbie."
   ]
  },
  {
   "cell_type": "code",
   "execution_count": null,
   "metadata": {},
   "outputs": [],
   "source": [
    "nom_utilisateur= \"\"\n",
    "\n",
    "if nom_utilisateur = \"Margot Robbie\":\n",
    "    print(\"Bonjour chère \" + nom_utilisateur)"
   ]
  },
  {
   "cell_type": "markdown",
   "metadata": {},
   "source": [
    "# 4 Des déclarations conditionnelles imbriquées\n",
    "\n",
    "Pour que votre code conditionne une action non pas à **une** expression booléenne, mais à **deux** (ou plus), il suffit de mettre une déclaration conditionnelle **dans** une déclaration conditionnelle !\n",
    "\n",
    "<u>Exemple :</u> Excécutez la cellule d'en dessous."
   ]
  },
  {
   "cell_type": "code",
   "execution_count": null,
   "metadata": {},
   "outputs": [],
   "source": [
    "taux_alcool_limite=0.5 # taux d'alcool limite pour prendre la voiture \n",
    "alcotest=0.6 # votre niveau d'alcool en gramme par litre de sang\n",
    "comptez_vous_prendre_la_voiture_Y_or_N=\"Y\" # Comptez-vous prendre la voiture ?\n",
    "\n",
    "if alcotest >= taux_alcool_limite :\n",
    "    if comptez_vous_prendre_la_voiture_Y_or_N == \"Y\" :\n",
    "        print(\"C'est vraiment pas une bonne idée et, accessoirement, un délit.\")\n",
    "else :\n",
    "    print(\"Let's GOOOOOOOOO\")"
   ]
  },
  {
   "cell_type": "markdown",
   "metadata": {},
   "source": [
    "Ici la phrase \"C'est vraiment pas une bonne idée et, accessoirement, un délit.\" s'affiche uniquement si votre taux d'alcoolémie est trop élevé et que vous avez décidé de prendre la voiture.\n",
    "\n",
    "<u>Remarque :</u> Pensez-bien à respecter les alinéas."
   ]
  },
  {
   "cell_type": "markdown",
   "metadata": {},
   "source": [
    "### À vous de jouer !  🤠\n",
    "\n",
    "#### Évaluation de la Température et de l'Humidité pour la Culture des Plantes\n",
    "\n",
    "Jacques cultive en laboratoire le Ficus elastica, communément appelé caoutchouc ou figuier à caoutchouc, pour ensuite faire des études sur cette plante en condition de stress hydrique. Pour éviter tout biais, ces plantes doivent être saines avant l'expérience. Donc, lors de la culture, les conditions de température et d'humidité doivent être optimales. Il faut répéter ces vérifications régulièrement, c'est pourquoi Jean-Alphonse souhaite automatiser la vérification des conditions de température et d'humidité.\n",
    "\n",
    "Instructions :\n",
    "1. Définir les variables :\n",
    "    - `temperature` : un entier représentant la température ambiante (en degrés Celsius) et attribuez-lui une valeur.\n",
    "    - `humidite` : un entier représentant l'humidité relative (en pourcentage) et attribuez-lui une valeur.\n",
    "2. Rédiger deux déclarations conditionnelles imbriquées pour évaluer si la température est entre 18°C et 25°C et si l'humidité est entre 40% et 60%. Si c'est le cas, affichez \"Conditions idéales pour la plante.\". Sinon, affichez \"Conditions non idéales pour les la plante, vérifiez la température et le taux d'humidité.\""
   ]
  },
  {
   "cell_type": "code",
   "execution_count": null,
   "metadata": {},
   "outputs": [],
   "source": [
    "# votre code ici"
   ]
  },
  {
   "cell_type": "markdown",
   "metadata": {},
   "source": [
    "# 5. Tamagotchi Niveau 1\n",
    "\n",
    "### À vous de jouer ! 🤠\n",
    "\n",
    "Maintenant que vous connaissez les bases des décisions conditionnelles, vous allez pouvoir créer votre premier jeu informatique : un **Tamagotchi** !\n",
    "\n",
    "### Qu'est-ce qu'un Tamagotchi ?\n",
    "Le Tamagotchi est un petit jeu électronique qui a connu un immense succès au tournant des années 2000. Il s'agissait d'un animal de compagnie virtuel que vous deviez nourrir, laver, et cajoler pour le garder en vie. Si vous ne preniez pas soin de lui correctement, il risquait de mourir. [En savoir plus](https://fr.wikipedia.org/wiki/Tamagotchi).\n",
    "\n",
    "### Le Principe du Jeu\n",
    "Le tamagochi est un être qui a des besoins journaliers que seul le ou la propriétaire peut combler. Notre tamagochi sera un peu différent de l'original puisque l'attention à apporter ne devra être ni trop faible, ni trop grande sous peine de le voir mourir. \n",
    "\n",
    "Chaque jour, les besoins du Tamagotchi sont mis à jour, mais vous ne les connaissez pas. C'est donc un jeu où il faut deviner la bonne quantité d'attention à apporter au tamagochi pour qu'il survive. En ce sens, c'est un jeu assez similaire au premier de l'activité. \n",
    "### Niveau 1 : Tamagotchi d'entrée de gamme\n",
    "\n",
    "Dans ce niveau, votre Tamagotchi a un seul besoin, celui d'être cajolé chaque jour, mais il y a une limite. Il doit être cajolé entre 1 et 10 fois. Si vous ne le cajolé pas assez, ou si vous le cajolé trop, il risque de mourir. Il faut donc que la quantité de calins soit supérieure au seuil `niveau_calin_min` mais inférieure au seuil `niveau_calin_max`. \n",
    "\n",
    "Le code est séparé en trois parties : \n",
    "### Le Code : Trois Parties\n",
    "\n",
    "1. **Définition des seuils** :\n",
    "   - Les seuils `niveau_calin_min` et `niveau_calin_max` sont définis dans cette première partie. Cette section fait appel à des notions que vous étudierez plus tard, elle est donc déjà rédigée pour vous. Pour les plus curieux(ses), des commentaires sont fournis pour comprendre le code.\n",
    "\n",
    "2. **Demande du nombre de câlins** :\n",
    "   - La deuxième partie consiste à demander au joueur ou à la joueuse la quantité de câlins qu'il ou elle souhaite donner. Cette partie est courte et déjà rédigée.\n",
    "\n",
    "3. **Décision Conditionnelle (À coder par vous !) :**\n",
    "   - Dans cette dernière partie, vous allez coder la décision conditionnelle où le nombre de câlins est comparé aux seuils `niveau_calin_min` et `niveau_calin_max`. L'ordinateur choisira alors quelle issue attend le tamagochi (mort ou survie). Les instructions précises sont données plus bas."
   ]
  },
  {
   "cell_type": "markdown",
   "metadata": {},
   "source": [
    "#### Première partie"
   ]
  },
  {
   "cell_type": "code",
   "execution_count": null,
   "metadata": {},
   "outputs": [],
   "source": [
    "# Le but de ce code est de créer l'exigence aléatoire du tamagochi en matière de câlins.\n",
    "\n",
    "import random # J'importe une bibliothèque de fonctions pour pouvoir utiliser des fonctions pré-existantes sans avoir à les coder. \n",
    "              # Ici ce sont des générateurs de nombres aléatoires.\n",
    "\n",
    "# Je définis deux seuils de calins aléatoires :\n",
    "niveau_calin_1=random.randint(1,10) # Dans la bibliothèque \"random\", j'appelle la fonction \"randint()\" avec comme arguments (1,10), \n",
    "                                    #ce qui permet de générer un entier aléatoire entre 1 et 10\n",
    "niveau_calin_2=random.randint(1,10)\n",
    "\n",
    "# J'assigne la variable \"niveau_calin_min\" au seuil le plus petit et \"niveau_calin_max\" au seuil le plus grand :\n",
    "niveau_calin_min=min(niveau_calin_1,niveau_calin_2) # la fonction min(argument_1,argument_2) renvoie le plus petit des deux arguments\n",
    "niveau_calin_max=max(niveau_calin_1,niveau_calin_2)"
   ]
  },
  {
   "cell_type": "markdown",
   "metadata": {},
   "source": [
    "#### Deuxième partie"
   ]
  },
  {
   "cell_type": "code",
   "execution_count": null,
   "metadata": {},
   "outputs": [],
   "source": [
    "calins = int(input(\"Combien de calîns voulez-vous faire à votre tamagochi aujourd'hui ?\")) # input(\"texte\") est une fonction qui affiche un texte, \n",
    "# demande à l'utilisateur d'entrée une donnée, puis stock cette donnée dans la variable \"calins\""
   ]
  },
  {
   "cell_type": "markdown",
   "metadata": {},
   "source": [
    "#### Troisième Partie\n",
    "\n",
    "### Instructions\n",
    "\n",
    "1. **Écrire l'expression booléenne** qui permettra au Tamagotchi de survivre si le nombre de câlins est compris entre les seuils `niveau_calin_min` et `niveau_calin_max`.\n",
    "\n",
    "2. **Utilisez l'expression booléenne pour écrire une condition `if`** qui affiche que le Tamagotchi est satisfait et vivra un autre jour si l'expression booléenne est `True`.\n",
    "\n",
    "3. **Utilisez `else` pour écrire une condition** qui affiche que le Tamagotchi n'est pas satisfait par la quantité de câlins, ce qui entraîne sa perte.\n",
    "\n",
    "4. **Tester votre code** : Exécutez votre code pour vérifier qu'il fonctionne comme prévu.\n",
    "\n",
    "**tips :** Si vous ne voyez pas comment commencer, vous pouvez vous inspirez du code du premier jeu."
   ]
  },
  {
   "cell_type": "code",
   "execution_count": null,
   "metadata": {},
   "outputs": [],
   "source": [
    "# votre code ici"
   ]
  },
  {
   "cell_type": "markdown",
   "metadata": {},
   "source": [
    "# 6 La dernière déclaration conditionnelle\n",
    "\n",
    "Ca y'est, vous êtes déjà un.e champion.ne dans la déclaration conditionnelle. Ou l'êtes-vous vraiment ? \n",
    "\n",
    "Rappelez-vous du tout premier jeu de cette activité : l'ordinateur ne se contentait pas de vous dire si votre nombre était correct ou incorrect (décision parmi deux choix), il vous donnait aussi un indice en vous disant si votre nombre était \"trop haut\" ou \"trop bas\". \n",
    "\n",
    "Plus précisément :\n",
    "- Si votre nombre était correct, vous gagniez.\n",
    "- Si votre nombre était trop haut, l'ordinateur vous le disait.\n",
    "- Sinon, il affichait \"trop bas\".\n",
    "\n",
    "En résumé, l'ordinateur prenait donc une **décision parmi trois choix** !\n",
    "\n",
    "## elif\n",
    "Lorsque l'expression booléenne de la déclaration conditionnelle `if` est `False`, la déclaration conditionnelle **`elif`** permet de vérifier une nouvelle condition. Elle se rédige de façon similaire aux déclarations `if` et `else` :\n",
    "\n",
    "```python\n",
    "elif nouvelle_expression_booléenne :\n",
    "        \"nouvelle action\"\n",
    "```\n",
    "Elle ne peut pas être écrite après une déclaration `else` ou avant une déclaration `if`. Par contre il est possible d'écrire plusieurs déclarations `elif` à la suite.\n",
    "\n",
    "<u>Exemple :</u> Suite à votre dernière performance au premier jeu, nous allons voir quelle médaile vous méritez :"
   ]
  },
  {
   "cell_type": "code",
   "execution_count": null,
   "metadata": {},
   "outputs": [],
   "source": [
    "if sauvegarde_tentative == 1:\n",
    "    print(\"Médaille d'or, vous avez été très assertif, bravo !\")\n",
    "elif sauvegarde_tentative == 2:\n",
    "    print(\"Médaille d'argent, c'était assertif mais il manquait le lead.\")\n",
    "elif sauvegarde_tentative == 3:\n",
    "    print(\"Médaille de bronze, un assertif un peu trop pondéré.\")\n",
    "else:\n",
    "    print(\"Médaille en chocolat\")"
   ]
  },
  {
   "cell_type": "markdown",
   "metadata": {},
   "source": [
    "### À vous de jouer, Tamagochi niveau 2 🤠\n",
    "\n",
    "Reprenez le code tamagochi que vous avez écrit pour y insérer une condition `elif` afin que le joueur sache s'il a perdu parcequ'il n'a pas fait assez de calîns ou parcequ'il en a trop fait. Vous pouvez être créatif.ve sur les phrases à afficher."
   ]
  },
  {
   "cell_type": "code",
   "execution_count": null,
   "metadata": {},
   "outputs": [],
   "source": [
    "# votre code ici"
   ]
  },
  {
   "cell_type": "markdown",
   "metadata": {},
   "source": [
    "Vous venez de faire un pas de plus vers le tamagochi ultime, mais il manque encore une dernière étape. Comment intégrer que, pour survivre, votre Tamagochi a aussi besoin de manger ? Ce sera à vous de répondre dans l'exercice suivant!"
   ]
  },
  {
   "cell_type": "markdown",
   "metadata": {},
   "source": [
    "# 7 To be `and` `or` `not` to be\n",
    "\n",
    "## À vous de jouer, Tamagochi niveau 3 🤠\n",
    "Il est temps de complexifier votre Tamagochi pour qu'il exige d'autres besoins comme celui, généralement vital, de se nourir.\n",
    "\n",
    "La cellule de code en-dessous contient les exigences aléatoires du tamagochi en terme de nouriture. La cellule d'après permet de demander au joueur ou à la joueuse la quantité de calins et de nourriture à apporter. Exécutez les."
   ]
  },
  {
   "cell_type": "code",
   "execution_count": null,
   "metadata": {},
   "outputs": [],
   "source": [
    "# Le but de ce code est de créer l'exigence aléatoire du tamagochi en matière de nutritions.\n",
    "niveau_nutrition_1=random.randint(1,10)\n",
    "niveau_nutrition_2=random.randint(1,10)\n",
    "\n",
    "niveau_nutrition_min=min(niveau_nutrition_1,niveau_nutrition_2)\n",
    "niveau_nutrition_max=max(niveau_nutrition_1,niveau_nutrition_2)"
   ]
  },
  {
   "cell_type": "code",
   "execution_count": null,
   "metadata": {},
   "outputs": [],
   "source": [
    "nourriture = int(input(\"Quelle quantité de nouriture avez-vous préparé pour votre tamagochi aujourd'hui ?\")) #le joueur entre la quantité de nouriture qu'il souhaite apporter\n",
    "calins = int(input(\"Combien de calîns voulez-vous faire à votre tamagochi aujourd'hui ?\"))"
   ]
  },
  {
   "cell_type": "markdown",
   "metadata": {},
   "source": [
    "Reprenez votre code du tamagochi de **niveau 1** (pour ne pas s'encombrer avec les `elif`). En imbriquant une déclaration conditionnelle dans une autre (cf chapitre 4), implémentez le code qui fait survivre le tamagochi uniquement si les quantités de calîns **et** de nourriture correspondent à ses exigences."
   ]
  },
  {
   "cell_type": "markdown",
   "metadata": {},
   "source": [
    "## Enfaite y'a plus simple : **les opérateurs booléens**\n",
    "\n",
    "Lorsqu'il s'agit de vérifier plusieurs conditions en même temps pour qu'une action s'enclenche, python propose des outils nettement plus simples que des déclarations conditionnelles imbriquées, ce sont les **opérateurs booléens** `and` (et), `or` (ou).\n",
    "\n",
    "Ces opérateurs booléens permettent de combiner deux expressions booléennes ensembles. La combinaison d'expressions booléennes se fait de la façon suivante :\n",
    "\n",
    "`nouvelle_expression_bool` = `expression_bool_1` **opérateur_booléen** `expression_bool_2`\n",
    "\n",
    "Grâce à ces opérateurs, au lieu d'imbriquer plusieurs déclarations conditionnelles, vous pouvez utiliser une seule déclaration conditionnelle :\n",
    "\n",
    "\n",
    "```python\n",
    "if nouvelle_expression_bool:\n",
    "    action\n",
    "```\n",
    "\n",
    "\n",
    "<u>Exemple :</u> Reprise de l'exemple de la partie 4. Lisez attentivement et exécutez la cellule suivante."
   ]
  },
  {
   "cell_type": "code",
   "execution_count": null,
   "metadata": {},
   "outputs": [],
   "source": [
    "taux_alcool_limite=0.5 # taux d'alcool limite pour prendre la voiture\n",
    "\n",
    "alcotest=0.6 # votre niveau d'alcool dans en gramme par litre de sang\n",
    "comptez_vous_prendre_la_voiture_Y_or_N=\"Y\" # Comptez-vous prendre la voiture ?\n",
    "\n",
    "# utilisation de l'opérateur booléen `and` pour combiner deux expressions booléennes\n",
    "pas_une_bonne_idée = alcotest>=taux_alcool_limite and comptez_vous_prendre_la_voiture_Y_or_N==\"Y\"\n",
    "\n",
    "if pas_une_bonne_idée :\n",
    "    print(\"C'est vraiment pas une bonne idée et, accessoirement, un délit.\")\n",
    "else :\n",
    "    print(\"Let's GOOOOOOOOO\")"
   ]
  },
  {
   "cell_type": "markdown",
   "metadata": {},
   "source": [
    "Plutôt que d'utiliser deux déclarations conditionnelles imbriquées, nous avons créé une nouvelle expression booléenne `pas_une_bonne_idée`, qui est `True` si et seulement si les deux conditions initiales sont `True`.\n",
    "\n",
    "Cette combinaison est rendue possible grâce à l'opérateur booléen `and`."
   ]
  },
  {
   "cell_type": "markdown",
   "metadata": {},
   "source": [
    "## L'opérateur booléen `and`\n",
    "`and` est un opérateur booléen qui combine des expressions booléennes de façon **restrictive**. C'est-à-dire que la nouvelle expression booléenne est vraie, si et seulement si l'intégralité des expressions booléennes qui la compose sont vraies également. Il suffit que l'une d'elle soit fausse pour que la nouvelle expression booléenne le soit également.\n",
    "\n",
    "Elle se rédige de la façon suivante :\n",
    "\n",
    "```python\n",
    "expression_bool_restrictive = expression_bool_1 and expression_bool_2 and expression_bool_3 and ...\n",
    "```\n",
    "\n",
    "<u> Exemples :</u> Lisez et exécutez les cellules suivantes."
   ]
  },
  {
   "cell_type": "code",
   "execution_count": null,
   "metadata": {},
   "outputs": [],
   "source": [
    "(1 + 1 == 2) and (2 + 2 == 4)  "
   ]
  },
  {
   "cell_type": "code",
   "execution_count": null,
   "metadata": {},
   "outputs": [],
   "source": [
    "(1 > 9) and (5 != 6)          "
   ]
  },
  {
   "cell_type": "code",
   "execution_count": null,
   "metadata": {},
   "outputs": [],
   "source": [
    "(1 + 1 == 2) and (2 < 1)       "
   ]
  },
  {
   "cell_type": "code",
   "execution_count": null,
   "metadata": {},
   "outputs": [],
   "source": [
    "(0 == 10) and (1 + 1 == 1)   "
   ]
  },
  {
   "cell_type": "markdown",
   "metadata": {},
   "source": [
    "## L'opérateur booléen `or`\n",
    "S'il y a des combinaisons restrictives (avec `and`), c'est qu'il y'a également des combinaisons inclusives (avec l'opérateur `or`). Avec `or`, il suffit qu'une seule des conditions soit vraie pour que l'expression booléenne combinée soit évaluée comme vraie et elle n'est fausse qu'à les conditions que toutes les autres le soit.\n",
    "\n",
    "Elle se rédige de la façon suivante :\n",
    "\n",
    "```python\n",
    "expression_bool_inclusive = expression_bool_1 or expression_bool_2 or expression_bool_3 or ...\n",
    "```\n",
    "\n",
    "<u> Exemples :</u> Lisez et exécutez les cellules suivantes."
   ]
  },
  {
   "cell_type": "code",
   "execution_count": null,
   "metadata": {},
   "outputs": [],
   "source": [
    "True or (3 + 4 == 7)    "
   ]
  },
  {
   "cell_type": "code",
   "execution_count": null,
   "metadata": {},
   "outputs": [],
   "source": [
    "(1 - 1 == 0) or False   "
   ]
  },
  {
   "cell_type": "code",
   "execution_count": null,
   "metadata": {},
   "outputs": [],
   "source": [
    "(2 < 0) or True         "
   ]
  },
  {
   "cell_type": "code",
   "execution_count": null,
   "metadata": {},
   "outputs": [],
   "source": [
    "(3 == 8) or (3 > 4)     "
   ]
  },
  {
   "cell_type": "markdown",
   "metadata": {},
   "source": [
    "### À vous de jouer ! 🤠\n",
    "### Exercice 1 : Évaluation des Conditions de Croissance pour une Plante Aquatique \n",
    "\n",
    "#### Contexte :\n",
    "Gaston travaille dans un laboratoire de biologie aquatique, et sa tâche consiste à évaluer si les conditions environnementales actuelles sont optimales pour la croissance d'une plante aquatique spécifique la **Vallisneria spiralis**, également connue sous le nom de \"Vallisnérie spiralée\" ou \"Ruban d'eau\". Trois paramètres doivent être respectés pour que cette algue puisse se développer correctement : la température de l'eau, le pH de l'eau, et la concentration de nitrates.\n",
    "\n",
    "#### Instructions :\n",
    "\n",
    "1. **Définir les variables** :\n",
    "   - Créez une variable `temperature_eau` et attribuez-lui une valeur en degrés Celsius (par exemple, 22).\n",
    "   - Créez une variable `ph_eau` et attribuez-lui une valeur pour le pH de l'eau (par exemple, 6.5).\n",
    "   - Créez une variable `nitrates` et attribuez-lui une valeur représentant la concentration de nitrates en mg/L (par exemple, 5).\n",
    "\n",
    "2. **Définir les intervalles optimaux** :\n",
    "   - Créez une variable `temperature_optimale` pour vérifier si la température de l'eau est entre 20°C et 25°C inclus.\n",
    "   - Créez une variable `ph_optimal` pour vérifier si le pH de l'eau est entre 6 et 7.5 inclus.\n",
    "   - Créez une variable `nitrates_optimaux` pour vérifier si la concentration de nitrates est entre 0 et 10 mg/L inclus.\n",
    "\n",
    "3. **Combiner les conditions** :\n",
    "   - Utilisez l'opérateur booléen `and` pour vérifier si toutes les conditions sont respectées simultanément.\n",
    "   - Stockez le résultat dans une variable `conditions_optimales`.\n",
    "\n",
    "4. **Afficher le résultat** :\n",
    "   - Si `conditions_optimales` est vrai, affichez \"Les conditions sont bonnes\".\n",
    "   - Sinon, affichez \"Les conditions sont mauvaises\"."
   ]
  },
  {
   "cell_type": "code",
   "execution_count": null,
   "metadata": {},
   "outputs": [],
   "source": [
    "# votre code ici"
   ]
  },
  {
   "cell_type": "markdown",
   "metadata": {},
   "source": [
    "### Exercice 2 : Évaluation des Conditions de Croissance pour un Cactus du Désert\n",
    "\n",
    "#### Contexte :\n",
    "Mireille est botaniste spécialisée dans l'étude des plantes désertiques, et elle doit évaluer si les conditions actuelles sont favorables à la croissance du Saguaro, un cactus du désert. Celui-ci est bien adapté à des conditions environnementales extrêmes. Il peut s'épanouir avec des températures élevées ou une faible humidité du sol, mais il sera en situation de stress si ces deux conditions sont réunis.\n",
    "\n",
    "Vous devez écrire un programme en Python pour vérifier si l'une de ces conditions est respectée.\n",
    "\n",
    "#### Instructions :\n",
    "\n",
    "1. **Définissez les variables** de température et d'humidité du sol et attribuez leur des valeurs.\n",
    "   \n",
    "2. **Définissez les conditions de croissance**, sachant qu'on considère que la température est élevée à partir de 30°C et que le sol est sec si son humidité est inférieure à 25%.\n",
    "\n",
    "4. **Faites une combinaison inclusive de ces deux conditions** et stockez cette expression booléenne dans une variable.\n",
    "\n",
    "5. **Affichez** si les conditions sont favorables ou ne le sont pas."
   ]
  },
  {
   "cell_type": "code",
   "execution_count": null,
   "metadata": {},
   "outputs": [],
   "source": [
    "#votre code ici"
   ]
  },
  {
   "cell_type": "markdown",
   "metadata": {},
   "source": [
    "### Exercice 3 : Tamagochi de niveau 4, le tamagochi ultime\n",
    "#### Instructions :\n",
    "1. **Réécrivez votre tamagochi** de niveau 3 en utilisant les opérateurs booléens.\n",
    "2. À partir de maintenant, vous pouvez \"pimper\" votre tamagochi un peu comme vous le voulez en définissant, par exemple, de nouveaux besoins (ex: l'hydratation, l'hygiène etc ...), en indiquant plus de solutions aux joueurs ou aux joueuses avec la déclaration `elif`, vous pouvez également lui donner des points de vies etc. Bref, vous pouvez créer vos propres règles."
   ]
  },
  {
   "cell_type": "code",
   "execution_count": null,
   "metadata": {},
   "outputs": [],
   "source": [
    "# votre code ici"
   ]
  },
  {
   "cell_type": "markdown",
   "metadata": {},
   "source": [
    "## Bonus: L'opérateur booléen `not` (non)\n",
    "\n",
    "Contrairement aux deux autres, cet opérateur ne permet pas de combiner deux expressions booléennes. Lorsqu'il est appliqué à une expression booléenne quelconque, il inverse la valeur booléenne. Si `expression_booléenne` est `True`, alors `not expression_booléenne` est `False`.\n",
    "\n",
    "<u> Exemples :</u> Lisez et exécutez les cellules suivantes."
   ]
  },
  {
   "cell_type": "code",
   "execution_count": null,
   "metadata": {},
   "outputs": [],
   "source": [
    "expression_bool = True;\n",
    "not_expression_bool = not expression_bool;\n",
    "print(not_expression_bool)"
   ]
  },
  {
   "cell_type": "code",
   "execution_count": null,
   "metadata": {},
   "outputs": [],
   "source": [
    "not 1 + 1 == 2"
   ]
  }
 ],
 "metadata": {
  "kernelspec": {
   "display_name": "Python 3 (ipykernel)",
   "language": "python",
   "name": "python3"
  },
  "language_info": {
   "codemirror_mode": {
    "name": "ipython",
    "version": 3
   },
   "file_extension": ".py",
   "mimetype": "text/x-python",
   "name": "python",
   "nbconvert_exporter": "python",
   "pygments_lexer": "ipython3",
   "version": "3.9.5"
  }
 },
 "nbformat": 4,
 "nbformat_minor": 4
}

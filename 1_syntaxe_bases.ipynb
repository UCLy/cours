{
 "cells": [
  {
   "cell_type": "markdown",
   "metadata": {},
   "source": [
    "[![Open In Colab](https://colab.research.google.com/assets/colab-badge.svg)](https://colab.research.google.com/github/UCLy/cours/blob/master/1_syntaxe_bases.ipynb)"
   ]
  },
  {
   "cell_type": "markdown",
   "metadata": {
    "jp-MarkdownHeadingCollapsed": true
   },
   "source": [
    "# Comprendre les bases de Python \n",
    "\n",
    "Python est un langage de programmation qui a connu un succès mondial grâce à sa polyvalence, sa simplicité d'utilisation et son caractère libre. Utilisé aussi bien pour le développement web, les calculs scientifiques, le traitement de données, que pour l'intelligence artificielle, Python continue d'évoluer grâce à une large communauté de développeurs qui créent et partagent des bibliothèques de fonctions accessibles à tous, permettant d'aller toujours plus loin dans la programmation.\n",
    "\n",
    "<u>Objectif</u>\n",
    "Dans cette première activité, vous allez apprendre à manipuler et à afficher des caractères et des nombres. Vous allez refaire avec du code ce que vous savez déjà faire vous-même et sans efforts avec un crayon et un bout de papier. Les prochaines activités permettront de programmer des opérations sur ordinateur qui seraient très, **très** fastidieuses par écrit.\n",
    "\n",
    "<u>Les exercices</u> avec une étoile ⭐ ou deux étoiles ⭐⭐ sont des \"no braineur\"(sans cervelle/ facile) ou presque. Ils sont obligatoires. \n",
    "\n",
    "Les exercices avec trois étoiles ⭐⭐⭐ demandent une petite réflexion et peuvent être sautés si vous n'y arrivez pas.\n",
    "\n",
    "## Table des matières obligatoires\n",
    "1. Affichage\n",
    "2. Chaîne de caractères\n",
    "3. Variables\n",
    "4. Erreurs\n",
    "5. Nombres\n",
    "6. Calculs\n",
    "7. Puissances\n",
    "8. Assignation Augmentée\n",
    "9. Commentaires"
   ]
  },
  {
   "cell_type": "markdown",
   "metadata": {},
   "source": [
    "# 1 Affichage\n",
    "\n",
    "Dans la cellule suivante, exécutez la fonction **`print()`** en ajoutant dans les parenthèses le message de votre choix encadré par des guillemets.\n",
    "\n",
    "<u>Remarque :</u> Vous pouvez exécuter une cellule en cliquant dessus avec la souris, puis en appuyant simultanément sur `shift`+`entrée`. "
   ]
  },
  {
   "cell_type": "code",
   "execution_count": null,
   "metadata": {},
   "outputs": [],
   "source": [
    "# votre code ici"
   ]
  },
  {
   "cell_type": "markdown",
   "metadata": {},
   "source": [
    "### La fonction **`print()`** permet au code d'**afficher un message**."
   ]
  },
  {
   "cell_type": "markdown",
   "metadata": {},
   "source": [
    "### <u>Remarque</u>\n",
    "\n",
    "Il est possible d'afficher plusieurs messages à la suite en utilisant une seule fois la fonction `print()`. Dans les parenthèses, il suffit de séparer les deux messages entre guillemets par une virgule.\n",
    "\n",
    "<u>Exemple </u>: Exécutez la cellule suivante."
   ]
  },
  {
   "cell_type": "code",
   "execution_count": 6,
   "metadata": {},
   "outputs": [
    {
     "name": "stdout",
     "output_type": "stream",
     "text": [
      "il fait beau à Brest mdr\n"
     ]
    }
   ],
   "source": [
    "print(\"il fait beau à Brest\", \"mdr\")"
   ]
  },
  {
   "cell_type": "markdown",
   "metadata": {},
   "source": [
    "### À vous de jouer ! 🤠 \n",
    "2. Affichez une phrase complète en utilisant une seule fonction `print()` et avec un seul mot par paire de guillemets. Soyez créatifs ! ⭐"
   ]
  },
  {
   "cell_type": "code",
   "execution_count": null,
   "metadata": {},
   "outputs": [],
   "source": [
    "# Votre code ici"
   ]
  },
  {
   "cell_type": "markdown",
   "metadata": {},
   "source": [
    "# 2 Chaîne de caractères\n",
    "Essayez d'afficher un texte sans mettre de guillemets pour voir ce qui se passe."
   ]
  },
  {
   "cell_type": "code",
   "execution_count": null,
   "metadata": {},
   "outputs": [],
   "source": [
    "# Votre code ici"
   ]
  },
  {
   "cell_type": "markdown",
   "metadata": {},
   "source": [
    "Grâce à cet exemple, on voit qu'il est indispensable d'encadrer son texte par des guillemets pour que Python comprenne que c'est un message. Autrement, il ne sait pas comment l'interpréter (le texte pourrait aussi bien être une fonction, une variable, etc).\n",
    "\n",
    "###                             Tout ce qui est entre guillemets est appelé **chaîne de caractères**. "
   ]
  },
  {
   "cell_type": "markdown",
   "metadata": {},
   "source": [
    "# 3 Variables\n",
    "### Exécutez la cellule de code juste en dessous."
   ]
  },
  {
   "cell_type": "code",
   "execution_count": null,
   "metadata": {},
   "outputs": [],
   "source": [
    "message = \"Bonjour, je suis heureux.\""
   ]
  },
  {
   "cell_type": "markdown",
   "metadata": {},
   "source": [
    "### À présent, écrivez `print(message)` dans la cellule juste en dessous et laissez la magie opérer. "
   ]
  },
  {
   "cell_type": "code",
   "execution_count": null,
   "metadata": {},
   "outputs": [],
   "source": [
    "# votre code ici"
   ]
  },
  {
   "cell_type": "markdown",
   "metadata": {},
   "source": [
    "Si vous avez correctement suivi les instructions, le texte **Bonjour, je suis heureux.** a dû s'afficher. Ici Python a interprété `message` non pas comme une chaîne de caractères, mais comme une **variable** !\n",
    "\n",
    "\n",
    "Les variables stockent des données pour les réutiliser plus tard. En Python, on les crée de la façon suivante :\n",
    "```python\n",
    "variable = données_à_stocker\n",
    "```\n",
    "\n",
    "Le signe `=` sépare la variable <u>à gauche</u> des données <u>à droite</u>.\n",
    "\n",
    "Ces données peuvent être de multiples formes :\n",
    "1. Chaînes de caractères\n",
    "2. Nombres\n",
    "3. expressions booléennes\n",
    "4. tableaux\n",
    "5. listes\n",
    "6. et j'en passe\n",
    "\n",
    "<u>Remarque :</u> Nous verrons les points 3, 4, 5 et 6 dans d'autres activités.\n",
    "### À vous de jouer ! 🤠 \n",
    "### Exécutez les cellules de code suivantes et voyez ce qui se passe."
   ]
  },
  {
   "cell_type": "code",
   "execution_count": null,
   "metadata": {},
   "outputs": [],
   "source": [
    "variable_1= \"Le J c'est le S\"\n",
    "print(variable_1)"
   ]
  },
  {
   "cell_type": "code",
   "execution_count": null,
   "metadata": {},
   "outputs": [],
   "source": [
    "variable_2= 5+4\n",
    "print(variable_2)"
   ]
  },
  {
   "cell_type": "code",
   "execution_count": null,
   "metadata": {},
   "outputs": [],
   "source": [
    "variable_3= [[1,2,3],[4,5,6],[7,8,9]]\n",
    "print(variable_3)"
   ]
  },
  {
   "cell_type": "markdown",
   "metadata": {},
   "source": [
    "#### ⚠️ Les noms de variables ne peuvent pas être absolument n'importe quoi, il y'a certaines règles contraignantes !\n",
    "\n",
    "### À vous de jouer ! 🤠 \n",
    "### Executez les cellules suivantes et essayez de deviner quels étaient les problèmes dans le nom des variables."
   ]
  },
  {
   "cell_type": "code",
   "execution_count": 1,
   "metadata": {},
   "outputs": [
    {
     "ename": "SyntaxError",
     "evalue": "invalid syntax (1409330876.py, line 1)",
     "output_type": "error",
     "traceback": [
      "\u001b[1;36m  Cell \u001b[1;32mIn[1], line 1\u001b[1;36m\u001b[0m\n\u001b[1;33m    me$$age = \"Bonjour, je suis heureux.\"\u001b[0m\n\u001b[1;37m      ^\u001b[0m\n\u001b[1;31mSyntaxError\u001b[0m\u001b[1;31m:\u001b[0m invalid syntax\n"
     ]
    }
   ],
   "source": [
    "me$$age = \"Bonjour, je suis heureux.\"\n",
    "print(me$$age)"
   ]
  },
  {
   "cell_type": "code",
   "execution_count": 2,
   "metadata": {},
   "outputs": [
    {
     "ename": "SyntaxError",
     "evalue": "invalid syntax (629567915.py, line 1)",
     "output_type": "error",
     "traceback": [
      "\u001b[1;36m  Cell \u001b[1;32mIn[2], line 1\u001b[1;36m\u001b[0m\n\u001b[1;33m    1message = \"Bonjour, je suis heureux.\"\u001b[0m\n\u001b[1;37m     ^\u001b[0m\n\u001b[1;31mSyntaxError\u001b[0m\u001b[1;31m:\u001b[0m invalid syntax\n"
     ]
    }
   ],
   "source": [
    "1message = \"Bonjour, je suis heureux.\"\n",
    "print(1message)"
   ]
  },
  {
   "cell_type": "code",
   "execution_count": 3,
   "metadata": {},
   "outputs": [
    {
     "name": "stdout",
     "output_type": "stream",
     "text": [
      "Bonjour, je suis heureux.\n",
      "Bonjour, je suis, mais alors, vraiment très heureux!\n"
     ]
    }
   ],
   "source": [
    "mess_age = \"Bonjour, je suis heureux.\"\n",
    "print(mess_age)\n",
    "\n",
    "mess_age = \"Bonjour, je suis, mais alors, vraiment très heureux!\"\n",
    "print(mess_age)"
   ]
  },
  {
   "cell_type": "markdown",
   "metadata": {},
   "source": [
    "**Dans ces exemples, nous avons pu voir que :** \n",
    "- Les noms de variables ne peuvent pas contenir d'espaces ou de symboles (sauf `_`), et ne peuvent pas commencer par des chiffres.\n",
    "- Dans le dernier code, on a vu qu'il est possible de changer la valeur des variables dans un même code. C'est pourquoi on les appelle des \"variables\".\n",
    "- Le code est lu de façon séquentielle par l'ordinateur. Il va d'abord lire la première ligne, ensuite la seconde, etc ."
   ]
  },
  {
   "cell_type": "markdown",
   "metadata": {},
   "source": [
    "## À vous de jouer ! 🤠\n",
    "\n",
    "### Exercice de Météorologie ⭐\n",
    "\n",
    "Vous êtes un.e météorologue chargé.e de mettre à jour la météo pour différentes villes de France. Utilisez une même variable `meteo` pour stocker et afficher les prévisions météo de Paris, Nice et Quimper au fur et à mesure.\n",
    "\n",
    "### Instructions\n",
    "**Météo à Paris**\n",
    "1. Écrivez un code qui initialise la variable `meteo` avec l'état \"Nuageux\".\n",
    "2. Affichez cette météo en utilisant la fonction `print()`.\n",
    "3. Avec la fonction `print()` affichez `\"Météo à Paris :\"` suivit de la météo à Paris. Utilisez la variable `meteo` à bon escient."
   ]
  },
  {
   "cell_type": "code",
   "execution_count": null,
   "metadata": {},
   "outputs": [],
   "source": [
    "# Votre code ici"
   ]
  },
  {
   "cell_type": "markdown",
   "metadata": {},
   "source": [
    "**Pour la météo à Nice et à Quimper :**\n",
    "\n",
    "3. Faire de même avec Nice qui est ensoleillé et Quimper qui est pluvieux.\n",
    "\n",
    "\n",
    "⚠️ **Les instructions doivent être contenues dans la même cellule de code.**"
   ]
  },
  {
   "cell_type": "code",
   "execution_count": null,
   "metadata": {},
   "outputs": [],
   "source": [
    "# Votre code ici"
   ]
  },
  {
   "cell_type": "markdown",
   "metadata": {
    "jp-MarkdownHeadingCollapsed": true
   },
   "source": [
    "### Correction"
   ]
  },
  {
   "cell_type": "markdown",
   "metadata": {
    "jp-MarkdownHeadingCollapsed": true
   },
   "source": [
    "Correction\n",
    "Il est censé s'afficher :\n",
    "```python\n",
    "Météo à Paris :\n",
    "Nuageux\n",
    "Météo à Nice :\n",
    "Ensoleillé\n",
    "Météo à Quimper :\n",
    "Pluvieux\n",
    "```"
   ]
  },
  {
   "cell_type": "markdown",
   "metadata": {},
   "source": [
    "# 4 Erreurs\n",
    "\n",
    "Les erreurs (**bugs**) sont inévitables en programmation. Python aide les programmeurs en indiquant l'endroit où une erreur s'est produite avec un caractère `^`. Le processus de correction de ces erreurs est appelé débogage.\n",
    "\n",
    "⚠️ Erreurs courantes en Python :\n",
    "\n",
    "    SyntaxError (Erreur de syntaxe) : Quelque chose est mal écrit dans votre code (ponctuation incorrecte, commande inattendue, parenthèse manquante, etc.).\n",
    "\n",
    "    \n",
    "    NameError : L'interpréteur Python voit un mot qu'il ne reconnaît pas (variable non définie, etc.).\n",
    "\n",
    "## À vous de jouer ! 🤠\n",
    "\n",
    "### Exercice 1 : Exécutez la cellule de code suivante, puis corrigez-le pour éviter les erreurs. ⭐"
   ]
  },
  {
   "cell_type": "code",
   "execution_count": null,
   "metadata": {},
   "outputs": [],
   "source": [
    "print('Ce message n'a pas les mêmes guillemets !\")\n",
    "print(Abracadabra)"
   ]
  },
  {
   "cell_type": "markdown",
   "metadata": {},
   "source": [
    "### Exercice 2 : Analyse de la séquence ADN ⭐⭐\n",
    "\n",
    "Vous allez maintenant corriger un programme qui analyse une séquence ADN pour compter le nombre de bases Adénine (A)."
   ]
  },
  {
   "cell_type": "code",
   "execution_count": null,
   "metadata": {},
   "outputs": [],
   "source": [
    "# séquence adn à analyser\n",
    "sequence_adn = \"AGCTTAGCTA'\n",
    "\n",
    "# Compte le nombre de bases adénine (A) dans la séquence : sequence_adn\n",
    "count_a = sequence_dna.count(\"A\")\n",
    "\n",
    "# Affiche le résultat\n",
    "print(\"Nombre de bases adénine : \" + str(counnt_a))\n"
   ]
  },
  {
   "cell_type": "markdown",
   "metadata": {},
   "source": [
    "# 5 Nombres\n",
    "\n",
    "Python peut traiter différents types de données numériques :\n",
    "- un **entier** (`int`) : Un nombre entier sans point décimal (ex. : -3, 0, 5). Utilisé pour des quantités comptables comme le nombre de personnes.\n",
    "- un nombre décimale appelé **nombre flottant** (`float`) : Un nombre avec un point décimal (ex. : 2.1,54.7,-5.6). Utilisé pour des mesures précises comme une moyenne.\n",
    "\n",
    "Les chiffres peuvent être attribués à des variables ou utilisés littéralement dans un programme.\n",
    "\n",
    "<u>Exemple </u>: Exécutez la cellule suivante."
   ]
  },
  {
   "cell_type": "code",
   "execution_count": null,
   "metadata": {},
   "outputs": [],
   "source": [
    "entier = 2\n",
    "flottant = 2.1\n",
    " \n",
    "print(entier + 3)\n",
    "print(flottant + 3)"
   ]
  },
  {
   "cell_type": "markdown",
   "metadata": {},
   "source": [
    "# 6 Calculs\n",
    "\n",
    "Les ordinateurs ont été créés avant tout pour effectuer des calculs. \n",
    "Python effectue l'addition, la soustraction, la multiplication et la division avec `+`, `-`, `*`, et `/`.\n",
    "\n",
    "<u>Exemple </u>: Exécutez la cellule suivante."
   ]
  },
  {
   "cell_type": "code",
   "execution_count": null,
   "metadata": {},
   "outputs": [],
   "source": [
    "print(573 - 74 + 1)"
   ]
  },
  {
   "cell_type": "code",
   "execution_count": null,
   "metadata": {},
   "outputs": [],
   "source": [
    "print(25 * 2)"
   ]
  },
  {
   "cell_type": "code",
   "execution_count": null,
   "metadata": {},
   "outputs": [],
   "source": [
    "print(10 / 5)"
   ]
  },
  {
   "cell_type": "markdown",
   "metadata": {},
   "source": [
    "## À vous de jouer ! 🤠\n",
    "### Exercice 1 : Opérations entre nombres flottants et entiers ⭐\n",
    "Vérifiez s'il est possible d'additionner, multiplier et diviser des nombres flottants avec des entiers."
   ]
  },
  {
   "cell_type": "code",
   "execution_count": null,
   "metadata": {},
   "outputs": [],
   "source": [
    "# votre code ici\n"
   ]
  },
  {
   "cell_type": "markdown",
   "metadata": {},
   "source": [
    "**Remarque :** Vous n'êtes pas obligé.e d'utiliser `print()` à chaque fois pour faire apparaître le résultat d'une opération. Exécuter un code n'ayant qu'un seul calcul affiche directement le résultat de l'opération. Exécuter un code avec plusieurs calculs n'affiche que le résultat de la dernière opération.\n",
    "\n",
    "<u>Exemple </u>: Exécutez la cellule suivante."
   ]
  },
  {
   "cell_type": "code",
   "execution_count": null,
   "metadata": {},
   "outputs": [],
   "source": [
    "1/1\n",
    "4/2"
   ]
  },
  {
   "cell_type": "markdown",
   "metadata": {},
   "source": [
    "### Exercice 2 : Calcul du périmètre d'un rectangle ⭐⭐\n",
    "On cherche à calculer avec précision le périmètre d'un rectangle dont la longueur fait 17.26 cm et la largeur fait 8.97 cm.\n",
    "1. Définissez les variables pour la longueur et la largeur d'un rectangle.\n",
    "2. Calculez le périmètre du rectangle.\n",
    "3. Affichez le périmètre avec un texte qui présente ce qui est affiché."
   ]
  },
  {
   "cell_type": "code",
   "execution_count": null,
   "metadata": {},
   "outputs": [],
   "source": [
    "# votre code ici"
   ]
  },
  {
   "cell_type": "markdown",
   "metadata": {
    "jp-MarkdownHeadingCollapsed": true
   },
   "source": [
    "### Correction"
   ]
  },
  {
   "cell_type": "markdown",
   "metadata": {},
   "source": [
    "```python\n",
    "# Définir les longueur et largeur\n",
    "longueur=17.26\n",
    "largeur=8.97\n",
    "# Calculer le périmètre\n",
    "perimetre=2*(longueur+largeur)\n",
    "# Afficher le résultat correctement\n",
    "print(\"le prérimètre du rectangle est de\", perimetre, \"cm.\")\n",
    "```"
   ]
  },
  {
   "cell_type": "markdown",
   "metadata": {},
   "source": [
    "### Exercice 3 : Conversion de température ⭐⭐\n",
    "\n",
    "Vous travaillez dans un laboratoire de biologie où vous devez souvent convertir des températures entre Celsius et Fahrenheit pour diverses expériences. Vous voulez créer un programme pour automatiser cette conversion et gagner du temps.\n",
    "\n",
    "1. **Définissez une variable** pour la température en degrés Celsius et affectez-lui la valeur de votre choix.\n",
    "2. **Utilisez la formule** pour convertir cette température en degrés Fahrenheit.\n",
    "3. **Affichez la température** convertie avec un texte qui présente ce qui est affiché.\n",
    "\n",
    "### Formule de conversion :\n",
    "$T_{\\text{Fa}}= \\dfrac{9}{5}\\,T_\\text{Ce} + 32$\n",
    "\n",
    "**Appeler le professeur si vous rencontrez un problème**"
   ]
  },
  {
   "cell_type": "code",
   "execution_count": null,
   "metadata": {},
   "outputs": [],
   "source": [
    "# votre code ici"
   ]
  },
  {
   "cell_type": "markdown",
   "metadata": {},
   "source": [
    "### Exercice 4 : Calcul du poids d'un animal ⭐⭐⭐\n",
    "\n",
    "Vous êtes un vétérinaire et vous devez calculer le poids idéal d'un chien qui a une taille de 60 cm. Vous savez qu'un chien de 30 cm a un poids idéal de 10 kg et que pour chaque centimètre au-dessus de 30 cm, le poids idéal augmente de 0.5 kg.\n",
    "\n",
    "1. Définissez une variable pour la hauteur du chien en centimètres.\n",
    "2. Calculez le poids idéal en fonction de la hauteur.\n",
    "3. Affichez le poids idéal avec un texte qui présente ce qui est affiché.."
   ]
  },
  {
   "cell_type": "code",
   "execution_count": null,
   "metadata": {},
   "outputs": [],
   "source": [
    "# votre code ici"
   ]
  },
  {
   "cell_type": "markdown",
   "metadata": {},
   "source": [
    "## 7 Puissances\n",
    "Python peut effectuer des calculs avec les puissances en utilisant la notation `**`. Le nombre à droite de `**` est appelé **exposant**. Il peut être un nombre flottant positif ou négatif.\n",
    "\n",
    "<u>Exemple </u>: Exécutez les cellules suivantes."
   ]
  },
  {
   "cell_type": "code",
   "execution_count": null,
   "metadata": {},
   "outputs": [],
   "source": [
    "print(2 ** 10)"
   ]
  },
  {
   "cell_type": "code",
   "execution_count": null,
   "metadata": {},
   "outputs": [],
   "source": [
    "print(8 ** 2)"
   ]
  },
  {
   "cell_type": "code",
   "execution_count": null,
   "metadata": {},
   "outputs": [],
   "source": [
    "print(9 ** 3)"
   ]
  },
  {
   "cell_type": "code",
   "execution_count": null,
   "metadata": {},
   "outputs": [],
   "source": [
    "print(4 ** 0.5)"
   ]
  },
  {
   "cell_type": "markdown",
   "metadata": {},
   "source": [
    "## À vous de jouer ! 🤠\n",
    "### Exercice 1 : Calcul de puissances de base ⭐\n",
    "1. Calculez et affichez le résultat de 3 à la puissance 4.\n",
    "2. Calculez et affichez le résultat de 10 à la puissance -3."
   ]
  },
  {
   "cell_type": "code",
   "execution_count": null,
   "metadata": {},
   "outputs": [],
   "source": [
    "# votre code ici"
   ]
  },
  {
   "cell_type": "markdown",
   "metadata": {},
   "source": [
    "### Exercice 2 : Calcul de surface des cellules ⭐⭐\n",
    "- Calculez et affichez la surface d'une cellule en utilisant la formule de l'aire d'un disque $A=π*r^2$ pour des rayons de cellules  $r$ ayant les valeurs 1, 2 et 3 micromètres.\n",
    "\n",
    "**Indications :**\n",
    "- Pour $π$ nous utiliserons son expression approchée $\\pi \\approx 3.141$.\n",
    "- Un micromètre correspond à $10^{-6}$ m.\n",
    "- Vous pouvez définir les 3 variables de rayons comme était r1, r2, r3.\n",
    "- Vous pouvez définir les 3 variables d'aires comme étant A1, A2 et A3."
   ]
  },
  {
   "cell_type": "code",
   "execution_count": null,
   "metadata": {},
   "outputs": [],
   "source": [
    "# votre code ici"
   ]
  },
  {
   "cell_type": "markdown",
   "metadata": {},
   "source": [
    "## 8 Assignation augmentée\n",
    "\n",
    "Une variable, qu'elle soit numérique ou non, peut être mise à jour à partir de sa propre valeur. On parle d'assignation augmentée.\n",
    "\n",
    "<u>Exemple </u>: Exécutez la cellule suivante et voyez ce qui se passe."
   ]
  },
  {
   "cell_type": "code",
   "execution_count": null,
   "metadata": {},
   "outputs": [],
   "source": [
    "message = \"Bonjour\"\n",
    "\n",
    "message = message + \", Adios amigo\"\n",
    "\n",
    "print(message)"
   ]
  },
  {
   "cell_type": "markdown",
   "metadata": {},
   "source": [
    "Dans cet exemple, l'ordinateur crée la nouvelle chaîne de caractère \"Bonjour, Adios amigo\", puis il écrase l'ancienne valeur de la variable `message` qui était \"Bonjour\" pour lui  donner sa nouvlle valeur : \"Bonjour, Adios amigo\"."
   ]
  },
  {
   "cell_type": "markdown",
   "metadata": {},
   "source": [
    "<u> Exemple : Comptage de tours de piste d'un athlète aux JO"
   ]
  },
  {
   "cell_type": "code",
   "execution_count": null,
   "metadata": {},
   "outputs": [],
   "source": [
    "#Initialisation\n",
    "nombre_de_tours=0\n",
    "print(nombre_de_tours)\n",
    "\n",
    "# premier tour de piste\n",
    "nombre_de_tours=nombre_de_tours+1\n",
    "print(nombre_de_tours)\n",
    "\n",
    "#deuxième tour de piste\n",
    "nombre_de_tours=nombre_de_tours+1\n",
    "print(nombre_de_tours)"
   ]
  },
  {
   "cell_type": "markdown",
   "metadata": {},
   "source": [
    "## Bon à savoir\n",
    "Python propose une abréviation pour l'assignation augmentée, c'est l'opérateur `+=`.\n",
    "\n",
    "<u>Exemple </u>: Exécutez la cellule suivante."
   ]
  },
  {
   "cell_type": "code",
   "execution_count": null,
   "metadata": {},
   "outputs": [],
   "source": [
    "message = \"Bonjour\"\n",
    "\n",
    "message +=\", Adios amigo\"\n",
    "\n",
    "print(message)"
   ]
  },
  {
   "cell_type": "code",
   "execution_count": null,
   "metadata": {},
   "outputs": [],
   "source": [
    "#Initialisation\n",
    "nombre_de_tours=0\n",
    "print(nombre_de_tours)\n",
    "\n",
    "# premier tour de piste\n",
    "nombre_de_tours+=1\n",
    "print(nombre_de_tours)\n",
    "\n",
    "#deuxième tour de piste\n",
    "nombre_de_tours+=1\n",
    "print(nombre_de_tours)"
   ]
  },
  {
   "cell_type": "markdown",
   "metadata": {},
   "source": [
    "# 9 Commentaires\n",
    "Last but not least, les commentaires sont des lignes du code que l'ordinateur ignore. Ces lignes commencent par un `#`.\n",
    "\n",
    "<u>Exemple :</u> \n",
    "1. Placer un `#` au bon endroit pour pouvoir exécuter ce code.\n",
    "2. En lisant ce qu'il y a dans les commentaires et en enlevant et ajoutant des `#` aux endroits pertinents, faites en sorte que le smiley mécontent devienne un smiley content."
   ]
  },
  {
   "cell_type": "code",
   "execution_count": null,
   "metadata": {},
   "outputs": [],
   "source": [
    "import matplotlib.pyplot as plt\n",
    "import matplotlib.patches as patches\n",
    "import numpy as np\n",
    "\n",
    "# Créer une figure et un ensemble de sous-graphiques\n",
    "fig, ax = plt.subplots()\n",
    "\n",
    "# Dessiner le visage (cercle)\n",
    "face = plt.Circle((0.5, 0.5), 0.4, color='yellow', ec='black', lw=2)\n",
    "AAAAAAAAAAAAAAAAAAAAAAAAAAAAAAAAAAAAA\n",
    "ax.add_patch(face)\n",
    "\n",
    "# Dessiner l'œil gauche\n",
    "left_eye = plt.Circle((0.35, 0.65), 0.05, color='black')\n",
    "ax.add_patch(left_eye)\n",
    "\n",
    "# Dessiner l'œil droit\n",
    "right_eye = plt.Circle((0.65, 0.65), 0.05, color='black')\n",
    "ax.add_patch(right_eye)\n",
    "\n",
    "# Dessiner la bouche (arc)\n",
    "# visage pas content\n",
    "mouth = patches.Arc((0.5, 0.4), 0.5, 0.3, angle=0, theta1=0, theta2=180, color='black', lw=6)\n",
    "\n",
    "#visage content\n",
    "#mouth = patches.Arc((0.5, 0.4), 0.5, 0.3, angle=0, theta1=180, theta2=360, color='black', lw=6)\n",
    "ax.add_patch(mouth)\n",
    "\n",
    "# Définir les limites du graphique\n",
    "ax.set_xlim(0, 1)\n",
    "ax.set_ylim(0, 1)\n",
    "\n",
    "# Supprimer les axes\n",
    "ax.axis('off')\n",
    "\n",
    "# Afficher le graphique\n",
    "plt.gca().set_aspect('equal', adjustable='box')\n",
    "plt.show()\n"
   ]
  },
  {
   "cell_type": "markdown",
   "metadata": {},
   "source": [
    "Comme on peut le voir dans l'exemple précédent, le commentaire est généralement utilisé pour :\n",
    "1. Ignorer temporairement une ligne de code\n",
    "2. Expliquer le code\n",
    "\n",
    "Il faut **absolument** commenter chaque étape de votre code pour qu'il puisse être lu par un tiers.\n",
    "\n",
    "Usez et abusez des commentaires dans tous vos codes !!"
   ]
  },
  {
   "cell_type": "markdown",
   "metadata": {},
   "source": []
  }
 ],
 "metadata": {
  "kernelspec": {
   "display_name": "Python 3 (ipykernel)",
   "language": "python",
   "name": "python3"
  },
  "language_info": {
   "codemirror_mode": {
    "name": "ipython",
    "version": 3
   },
   "file_extension": ".py",
   "mimetype": "text/x-python",
   "name": "python",
   "nbconvert_exporter": "python",
   "pygments_lexer": "ipython3",
   "version": "3.9.5"
  }
 },
 "nbformat": 4,
 "nbformat_minor": 4
}

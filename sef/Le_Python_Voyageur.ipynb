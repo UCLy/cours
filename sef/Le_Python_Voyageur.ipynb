{
 "cells": [
  {
   "cell_type": "markdown",
   "metadata": {
    "id": "5sugKVkgt0dB"
   },
   "source": [
    "[![Open In Colab](https://colab.research.google.com/assets/colab-badge.svg)](https://colab.research.google.com/github/UCLy/cours/sef/blob/master/Le_Python_Voyageur.ipynb)"
   ]
  },
  {
   "cell_type": "markdown",
   "metadata": {},
   "source": [
    "# Cours de Python pour tout ceux qui débutent, collégien·nes, lycéen·nes, étudiant·es ou curieux·ses de tout âge."
   ]
  },
  {
   "cell_type": "markdown",
   "metadata": {},
   "source": [
    "![python logo intro.jpg](data:image/jpeg;base64,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)\n"
   ]
  },
  {
   "cell_type": "markdown",
   "metadata": {
    "id": "HwUmJWBmt0dI"
   },
   "source": [
    "\n",
    "### Python, c’est quoi ?\n",
    "\n",
    "Python, c’est un langage super pratique et très puissant qu’on peut utiliser pour plein de choses : créer des sites web, analyser des données, faire des calculs scientifiques, programmer des intelligences artificielles… et bien plus encore !  \n",
    "Bonne nouvelle : Python est aussi connu pour être facile à apprendre. Sa manière d’écrire du code est claire, ce qui permet de passer rapidement à des projets amusants.\n",
    "\n",
    "Si tu as la patience, tu peux commencer par regarder cette vidéo explicative:\n",
    "\n",
    "https://youtu.be/psaDHhZ0cPs?si=lEPm4iSjlKSLEg84\n",
    "\n",
    "---\n",
    "\n",
    "### 🎯 Objectif de cette activité\n",
    "\n",
    "Dans cette première mission, tu vas apprendre à jouer avec des données simples, comme des textes et des nombres.  \n",
    "Tu verras comment Python peut faire à ta place, et en un éclair, des choses que tu pourrais faire à la main (mais en plus long).  \n",
    "À la fin, tu sauras écrire de petits programmes utiles pour t’aider dans la vie de tous les jours !\n",
    "\n",
    "---\n",
    "\n",
    "### ⭐ Les exercices\n",
    "\n",
    "- Les exercices avec **1 ⭐ ou 2 ⭐⭐** sont les plus importants : ils sont simples et à ne pas manquer.\n",
    "- Les exercices avec **3 ⭐⭐⭐** sont un peu plus corsés. Si c’est trop difficile, pas de panique, tu peux les laisser de côté.\n",
    "\n",
    "---\n",
    "\n",
    "### 📘 Le programme\n",
    "\n",
    "Voici ce que tu vas apprendre :\n",
    "\n",
    "- Afficher du texte à l’écran  \n",
    "- Jouer avec des mots et des phrases (on appelle ça des \"chaînes de caractères\")  \n",
    "- Utiliser des **variables** pour stocker des infos  \n",
    "- Comprendre et corriger les petites erreurs dans ton code  \n",
    "- Faire des calculs avec des nombres  \n",
    "- Utiliser des puissances et des raccourcis d’écriture  \n",
    "- Ajouter des **commentaires** dans ton code pour t’y retrouver  \n",
    "\n",
    "---\n",
    "\n",
    "### 🕹️ À toi de jouer !\n",
    "\n",
    "Chaque partie contient de petits défis pour t’entraîner. Ils sont là pour t’aider à comprendre étape par étape comment fonctionne Python.  \n",
    "Prêt(e) à devenir un(e) pro du code ?  \n",
    "**Allez, c’est parti ! 🚀**\n",
    "\n"
   ]
  },
  {
   "cell_type": "markdown",
   "metadata": {
    "id": "x8PPH82At0dN"
   },
   "source": [
    "\n",
    "### 🖥️ 1. Affichage\n",
    "\n",
    "Dans la case juste en dessous, utilise **`print()`** pour écrire un petit message.  \n",
    "Tu dois mettre ton texte entre des guillemets, comme ceci :  \n",
    "```python\n",
    "print(\"Coucou tout le monde !\")\n",
    "```\n",
    "\n",
    "🔔 **Astuce** : Pour lancer ton code, clique dans la case et appuie sur **`Shift` + `Entrée`**.\n"
   ]
  },
  {
   "cell_type": "code",
   "execution_count": null,
   "metadata": {
    "id": "7I89M-Mu4gHc"
   },
   "outputs": [],
   "source": []
  },
  {
   "cell_type": "markdown",
   "metadata": {
    "id": "JJ3LW808t0dR"
   },
   "source": [
    "### La fonction **`print()`** permet au code d'**afficher un message**."
   ]
  },
  {
   "cell_type": "markdown",
   "metadata": {
    "id": "WTfu3P9Dt0dR"
   },
   "source": [
    "\n",
    "\n",
    "### 💡 Petit conseil\n",
    "\n",
    "Tu peux afficher **plusieurs messages en même temps** avec un seul `print()` !  \n",
    "Pour ça, il te suffit de **séparer les messages par des virgules**, comme ceci :\n",
    "\n",
    "print(\"Bonjour\", \"tout\", \"le\", \"monde !\")\n",
    "\n",
    "\n",
    "### 🎬 Exemple à tester :  \n",
    "Essaie d’exécuter la case ci-dessous pour voir ce que ça donne !\n",
    "\n",
    "```python\n",
    "print(\"Bonjour\", \"tout\", \"le\", \"monde !\")\n",
    "```\n",
    "\n",
    "---\n",
    "\n"
   ]
  },
  {
   "cell_type": "code",
   "execution_count": null,
   "metadata": {
    "id": "0hDNRSQqzBO7"
   },
   "outputs": [],
   "source": []
  },
  {
   "cell_type": "code",
   "execution_count": null,
   "metadata": {
    "id": "4jhtqTJLt0dS"
   },
   "outputs": [],
   "source": [
    "print(\"il fait beau à Brest\", \"mdr\")"
   ]
  },
  {
   "cell_type": "markdown",
   "metadata": {
    "id": "LrkU9zdut0dU"
   },
   "source": [
    "\n",
    "### 🕹️ À toi de jouer ! 🎉\n",
    "\n",
    "💬 **Mission** : Crée une phrase amusante ou surprenante en utilisant **une seule fonction `print()`**.  \n",
    "Chaque mot doit être **entre des guillemets** et **séparé par une virgule** dans la parenthèse.\n",
    "\n",
    "🎨 Laisse libre cours à ton imagination :  \n",
    "un animal qui parle, une météo bizarre, un robot qui cuisine… tout est possible !\n",
    "\n",
    "👉 Exemple :\n",
    "```python\n",
    "print(\"Un\", \"pingouin\", \"joue\", \"du\", \"banjo\", \"sous\", \"la\", \"pluie\")\n",
    "```\n",
    "\n",
    "🌟 Prêt(e) ? À toi de coder ta phrase magique !\n"
   ]
  },
  {
   "cell_type": "code",
   "execution_count": null,
   "metadata": {
    "id": "miZqqjBCt0dU"
   },
   "outputs": [],
   "source": [
    "\n"
   ]
  },
  {
   "cell_type": "markdown",
   "metadata": {
    "id": "U_3AR5bAt0dV"
   },
   "source": [
    "\n",
    "### 🔤 2. Chaînes de caractères (ou \"morceaux de texte\")\n",
    "\n",
    "💥 **Petit test rigolo** :  \n",
    "Que se passe-t-il si tu essaies d’afficher du texte **sans mettre de guillemets** autour ?\n",
    "\n",
    "🧪 **À toi d’essayer** :  \n",
    "Supprime les guillemets dans un `print()` et regarde ce que l’ordinateur te répond.  \n",
    "Tu vas voir, il n’aime pas trop ça…\n",
    "\n",
    "👉 Exemple à modifier :\n",
    "```python\n",
    "print(Bonjour tout le monde)\n",
    "```\n",
    "\n",
    "😅 Oups ! Une erreur ? Pas de panique, c’est normal. Les guillemets sont là pour dire à Python :  \n",
    "\n"
   ]
  },
  {
   "cell_type": "code",
   "execution_count": null,
   "metadata": {
    "id": "Ttml9LWst0dW"
   },
   "outputs": [],
   "source": []
  },
  {
   "cell_type": "markdown",
   "metadata": {
    "id": "HhbDz0hFt0dZ"
   },
   "source": [
    "🧐 Grâce à cet essai, on comprend quelque chose d’important :  \n",
    "➡️ Il faut **toujours mettre des guillemets autour d’un texte** pour que Python sache que c’est un **message à afficher**.\n",
    "\n",
    "---\n",
    "\n",
    "### ✨ On appelle ça une **chaîne de caractères**\n",
    "\n",
    "C’est juste une façon un peu technique de dire : **“un morceau de texte entre guillemets”**.\n"
   ]
  },
  {
   "cell_type": "markdown",
   "metadata": {
    "id": "Y95399UAt0da"
   },
   "source": [
    "# 3 Variables\n",
    "### Exécutez la cellule de code juste en dessous."
   ]
  },
  {
   "cell_type": "code",
   "execution_count": null,
   "metadata": {
    "id": "WkOOXxiPt0da"
   },
   "outputs": [],
   "source": [
    "message = \"Bonjour, je suis heureux.\""
   ]
  },
  {
   "cell_type": "markdown",
   "metadata": {
    "id": "7IjXhIDUt0da"
   },
   "source": [
    "### À présent, écrivez `print(message)` dans la cellule juste en dessous et laissez la magie opérer."
   ]
  },
  {
   "cell_type": "code",
   "execution_count": null,
   "metadata": {
    "id": "HTwjA-TVt0db"
   },
   "outputs": [],
   "source": []
  },
  {
   "cell_type": "markdown",
   "metadata": {
    "id": "XfY3_eAut0db"
   },
   "source": [
    "\n",
    "\n",
    "### 🧠 Un peu de logique… et de magie !\n",
    "\n",
    "Si tout s’est bien passé, ton texte **Bonjour, je suis heureux.** s’est affiché.  \n",
    "Mais attention ! Si tu as tapé `message` **sans guillemets**, Python a cru que c’était une **variable** (et non du texte).  \n",
    "\n",
    "---\n",
    "\n",
    "### 🧺 Les variables, c’est quoi ?\n",
    "\n",
    "Une **variable**, c’est comme une petite boîte dans laquelle on range une info pour la garder et la réutiliser plus tard.\n",
    "\n",
    "📦 En Python, on crée une variable comme ça :\n",
    "```python\n",
    "nom_de_la_boîte = ce_que_je_veux_garder\n",
    "```\n",
    "\n",
    "➡️ À **gauche**, on met le **nom de la variable** (la boîte)  \n",
    "➡️ À **droite**, on met **ce qu’on veut stocker** (le contenu)\n",
    "\n",
    "---\n",
    "\n",
    "### 🔢 On peut y ranger plein de choses :\n",
    "\n",
    "1. Du **texte** (ce qu’on appelle une *chaîne de caractères*)  \n",
    "2. Des **nombres**  \n",
    "3. Des **vrais/faux** (ce qu’on appelle *booléens*)  \n",
    "4. Des **listes**  \n",
    "5. Des **tableaux**  \n",
    "6. Et plein d’autres trucs qu’on verra plus tard !\n",
    "\n",
    "📝 *Pas d’inquiétude, on verra les points 3 à 6 dans les prochaines aventures !*\n",
    "\n",
    "---\n",
    "\n",
    "### 🕹️ À toi de jouer maintenant !\n",
    "\n",
    "Lance les cellules de code ci-dessous et regarde ce qu’il se passe. Observe bien comment les variables sont utilisées. 🔍\n",
    "\n",
    "---\n"
   ]
  },
  {
   "cell_type": "code",
   "execution_count": null,
   "metadata": {
    "id": "Pc2s212ht0dc"
   },
   "outputs": [],
   "source": [
    "variable_1= \"Le J c'est le S\"\n",
    "print(variable_1)"
   ]
  },
  {
   "cell_type": "code",
   "execution_count": null,
   "metadata": {
    "id": "lm16BXpEt0dd"
   },
   "outputs": [],
   "source": [
    "variable_2= 5+4\n",
    "print(variable_2)"
   ]
  },
  {
   "cell_type": "code",
   "execution_count": null,
   "metadata": {
    "id": "v2-dZsjSt0dd"
   },
   "outputs": [],
   "source": [
    "variable_3= [[1,2,3],[4,5,6],[7,8,9]]\n",
    "print(variable_3)"
   ]
  },
  {
   "cell_type": "markdown",
   "metadata": {
    "id": "hU6Wz4hdt0de"
   },
   "source": [
    "\n",
    "### ⚠️ Attention aux noms de variables !\n",
    "\n",
    "On ne peut pas écrire **n’importe quoi** comme nom de variable.  \n",
    "Python a ses petites règles, et il n’aime pas qu’on les enfreigne !\n",
    "\n",
    "Par exemple, on ne peut pas :\n",
    "- commencer un nom de variable par un chiffre  \n",
    "- utiliser des espaces  \n",
    "- mettre des symboles bizarres  \n",
    "- utiliser des mots réservés comme `print`, `if`, etc.\n",
    "\n",
    "---\n",
    "\n",
    "### 🕵️ À toi de mener l’enquête ! 🤠\n",
    "\n",
    "Regarde les cellules ci-dessous, exécute-les… et essaie de **deviner ce qui cloche** avec chaque nom de variable.  \n",
    "Un petit bug ? Une erreur ? À toi de jouer les détectives du code ! 🔎\n"
   ]
  },
  {
   "cell_type": "code",
   "execution_count": null,
   "metadata": {
    "id": "GLniZJoht0de"
   },
   "outputs": [],
   "source": [
    "message = \"Bonjour, je suis heureux\"\n",
    "print (message)"
   ]
  },
  {
   "cell_type": "code",
   "execution_count": null,
   "metadata": {
    "id": "3lq3pIbyt0df"
   },
   "outputs": [],
   "source": [
    "message_1 = \"Bonjour, je suis heureux.\"\n",
    "print(message_1)"
   ]
  },
  {
   "cell_type": "code",
   "execution_count": null,
   "metadata": {
    "id": "F5-iZvegt0df"
   },
   "outputs": [],
   "source": [
    "mess_age = \"Bonjour, je suis heureux.\"\n",
    "print(mess_age)\n",
    "\n",
    "mess_age = \"Bonjour, je suis, mais alors, vraiment très heureux!\"\n",
    "print(mess_age)"
   ]
  },
  {
   "cell_type": "markdown",
   "metadata": {
    "id": "l_Xjg37st0df"
   },
   "source": [
    "\n",
    "\n",
    "### 🧠 Ce qu’on a découvert ensemble :\n",
    "\n",
    "✅ **1. Les noms de variables ont des règles bien précises**  \n",
    "- Pas d’espaces, pas de symboles bizarres (sauf `_`)  \n",
    "- Et surtout, **ne pas commencer par un chiffre !**\n",
    "\n",
    "✅ **2. Les variables peuvent changer**  \n",
    "Tu peux leur donner une nouvelle valeur plus tard dans ton programme.  \n",
    "C’est pour ça qu’on les appelle *variables* : elles peuvent **varier** !\n",
    "\n",
    "✅ **3. L’ordinateur lit ton code ligne par ligne**  \n",
    "Comme un livre 📖, Python lit de **haut en bas**, une ligne à la fois.  \n",
    "Il fait exactement ce que tu lui dis… dans l’ordre que tu lui dis !\n"
   ]
  },
  {
   "cell_type": "markdown",
   "metadata": {
    "id": "RBl1Ls16t0dg"
   },
   "source": [
    "\n",
    "## 🕹️ À toi de jouer ! 🤠\n",
    "\n",
    "### 🍰 Exercice Recette ⭐\n",
    "\n",
    "Tu es chef(fe) cuisinier(ère) et tu prépares une recette magique. Tu vas utiliser des **variables** pour stocker les ingrédients !\n",
    "\n",
    "---\n",
    "\n",
    "### 🎯 Mission :  \n",
    "Crée des variables pour stocker les ingrédients d’un gâteau, puis affiche une petite phrase pour chaque ingrédient.\n",
    "\n",
    "---\n",
    "\n",
    "### 📋 Ce que tu dois faire :\n",
    "\n",
    "1. Crée une variable `ingredient1` avec la valeur `\"farine\"`  \n",
    "2. Crée une variable `ingredient2` avec la valeur `\"œufs\"`  \n",
    "3. Crée une variable `ingredient3` avec la valeur `\"sucre\"`  \n",
    "4. Affiche une phrase pour chaque ingrédient, par exemple :  \n",
    "   👉 `print(\"On ajoute :\", ingredient1)`  \n",
    "5. Bonus ⭐⭐ : Affiche une seule phrase qui liste les trois ingrédients, en les séparant par des virgules !\n"
   ]
  },
  {
   "cell_type": "code",
   "execution_count": null,
   "metadata": {
    "id": "v4EqnpC_t0dg"
   },
   "outputs": [],
   "source": []
  },
  {
   "cell_type": "markdown",
   "metadata": {
    "id": "KODke8IJt0dg"
   },
   "source": [
    "\n",
    "## 🍰 Recette (suite) ⭐⭐\n",
    "\n",
    "Tu continues ta recette de chef ! Cette fois, tu vas ajouter deux nouveaux ingrédients : un pour une **recette salée** à Lyon, et un autre pour une **recette sucrée** à Lille.\n",
    "\n",
    "---\n",
    "\n",
    "### 🎯 Mission :  \n",
    "Fais comme tout à l’heure, mais cette fois avec **deux nouvelles villes et ingrédients différents**.  \n",
    "Utilise **une seule cellule de code** pour tout écrire !\n",
    "\n",
    "---\n",
    "\n",
    "### 📋 Ce que tu dois faire :\n",
    "\n",
    "1. Crée une variable `ingredient` et donne-lui la valeur `\"fromage\"` pour la recette à Lyon  \n",
    "2. Affiche la phrase : `\"Recette à Lyon :\"` suivie de l’ingrédient  \n",
    "3. Change ensuite la valeur de la variable `ingredient` en `\"chocolat\"` pour la recette à Lille  \n",
    "4. Affiche la phrase : `\"Recette à Lille :\"` suivie de la nouvelle valeur\n",
    "\n",
    "⚠️ **Attention** : toutes ces instructions doivent être dans **la même cellule de code** !\n"
   ]
  },
  {
   "cell_type": "code",
   "execution_count": null,
   "metadata": {
    "id": "oWf7zfRtt0dg"
   },
   "outputs": [],
   "source": []
  },
  {
   "cell_type": "markdown",
   "metadata": {
    "id": "fet2xAtPt0dh",
    "jp-MarkdownHeadingCollapsed": true
   },
   "source": [
    "### Correction"
   ]
  },
  {
   "cell_type": "markdown",
   "metadata": {
    "id": "1RQw6d9ct0dh",
    "jp-MarkdownHeadingCollapsed": true
   },
   "source": [
    "ingredient = \"fromage\"\n",
    "print(\"Recette à Lyon :\")\n",
    "print(ingredient)\n",
    "\n",
    "ingredient = \"chocolat\"\n",
    "print(\"Recette à Lille :\")\n",
    "print(ingredient)\n"
   ]
  },
  {
   "cell_type": "markdown",
   "metadata": {
    "id": "KQtQdbG3t0dh"
   },
   "source": [
    "\n",
    "\n",
    "## 🐞 4. Les erreurs (ou bugs)\n",
    "\n",
    "Quand on code, faire des erreurs, c’est **normal** ! Même les prof en font tous les jours.  \n",
    "Heureusement, Python est sympa : il essaie de te dire **où** ça coince, grâce à un petit symbole `^` qui pointe l’endroit du bug.\n",
    "\n",
    "🔧 Trouver et corriger les erreurs, ça s’appelle le **débogage**. Et c’est une vraie compétence de super-héros du code 🦸‍♀️🦸‍♂️\n",
    "\n",
    "---\n",
    "\n",
    "### ⚠️ Quelques erreurs classiques :\n",
    "\n",
    "- **`SyntaxError`** : Il y a une faute dans la \"grammaire\" du code  \n",
    "  (ex. : parenthèse oubliée, mauvaise ponctuation, guillemets manquants…)\n",
    "\n",
    "- **`NameError`** : Python voit un mot qu’il ne connaît pas  \n",
    "  (souvent une **variable non définie** ou mal orthographiée)\n",
    "\n",
    "---\n",
    "\n",
    "## 🕹️ À toi de jouer ! 🤠\n",
    "\n",
    "### 🔍 Exercice 1 : Chasse aux erreurs ⭐\n",
    "\n",
    "Exécute le code ci-dessous (même s’il plante 😬), **lis bien le message d’erreur**, et essaie de **corriger le bug** pour que le code fonctionne comme prévu !\n",
    "\n",
    "Prêt(e) à devenir un(e) détective du code ? 🔎\n"
   ]
  },
  {
   "cell_type": "code",
   "execution_count": null,
   "metadata": {
    "id": "SBcT59OZt0di"
   },
   "outputs": [],
   "source": [
    "print(\"Ce message n'a pas les mêmes guillemets !\")\n",
    "print(\"Abracadabra\")"
   ]
  },
  {
   "cell_type": "markdown",
   "metadata": {
    "id": "H-VuBbe_t0di"
   },
   "source": [
    "\n",
    "\n",
    "### 🧬 Exercice 2 : Mission ADN ⭐⭐\n",
    "\n",
    "Bienvenue au labo ! 👩‍🔬👨‍🔬  \n",
    "Tu es maintenant chercheur(euse) en biologie, et ton job est d’analyser une **séquence d’ADN** pour compter combien de fois la base **Adénine (A)** apparaît.\n",
    "\n",
    "Mais… le programme a un petit **bug** 😱  \n",
    "À toi de le corriger pour que tout fonctionne !\n",
    "\n",
    "---\n",
    "\n",
    "### 🎯 Mission :\n",
    "\n",
    "1. Regarde bien le code fourni (même s’il affiche une erreur)  \n",
    "2. Repère le ou les problèmes  \n",
    "3. Corrige-les pour que le programme affiche correctement le **nombre de \"A\"** dans la séquence d’ADN\n",
    "\n",
    "---\n",
    "\n",
    "🧪 Exemple de séquence :\n",
    "```python\n",
    "sequence = \"ATCGAAATGCA\"\n",
    "```\n",
    "\n",
    "Objectif : compter le nombre de `\"A\"` dans cette séquence.\n",
    "\n"
   ]
  },
  {
   "cell_type": "code",
   "execution_count": null,
   "metadata": {
    "id": "-_fWZnhgt0di"
   },
   "outputs": [],
   "source": [
    "# séquence adn à analyser\n",
    "sequence_adn = \"AGCTTAGCTA'\n",
    "\n",
    "# Compte le nombre de bases adénine (A) dans la séquence : sequence_adn\n",
    "count_a = sequence_dna.count(\"A\")\n",
    "\n",
    "# Affiche le résultat\n",
    "print(\"Nombre de bases adénine : \" + str(counnt_a))\n"
   ]
  },
  {
   "cell_type": "markdown",
   "metadata": {
    "id": "NIjKUc_It0di"
   },
   "source": [
    "\n",
    "\n",
    "## 🕹️ À toi de jouer ! 🤠\n",
    "\n",
    "### 🧮 Exercice : Calcul du goûter ⭐\n",
    "\n",
    "Tu prépares un goûter pour tes amis ! 🍪🍎🥤  \n",
    "Tu as acheté des aliments, et tu veux calculer combien chacun a coûté.\n",
    "\n",
    "---\n",
    "\n",
    "### 🎯 Mission :\n",
    "\n",
    "1. Crée une variable `gateaux` avec le prix **3.5**  \n",
    "2. Crée une variable `jus` avec le prix **2.0**  \n",
    "3. Crée une variable `total` qui additionne les deux  \n",
    "4. Affiche le **prix total** du goûter avec un `print()`\n",
    "\n",
    "💡 Bonus ⭐⭐ : affiche une phrase comme  \n",
    "```python\n",
    "print(\"Le goûter coûte\", total, \"euros.\")\n",
    "```\n"
   ]
  },
  {
   "cell_type": "code",
   "execution_count": null,
   "metadata": {
    "id": "9YATqXCYt0dj"
   },
   "outputs": [],
   "source": []
  },
  {
   "cell_type": "markdown",
   "metadata": {
    "id": "AKzfWqdFt0dj"
   },
   "source": [
    "\n",
    "### ➗ 6. Les calculs\n",
    "\n",
    "Bonne nouvelle : les ordinateurs **adorent** faire des maths ! 🧠💻  \n",
    "Avec Python, tu peux facilement faire des opérations comme :\n",
    "\n",
    "- `+` → **Additionner**  \n",
    "- `-` → **Soustraire**  \n",
    "- `*` → **Multiplier**  \n",
    "- `/` → **Diviser**\n",
    "\n",
    "---\n",
    "\n",
    "### 🧪 Exemple à tester :\n",
    "\n",
    "Lance la cellule ci-dessous pour voir Python faire des calculs comme un(e) pro !\n"
   ]
  },
  {
   "cell_type": "code",
   "execution_count": null,
   "metadata": {
    "id": "7U3C-lyFt0dj"
   },
   "outputs": [],
   "source": [
    "print(573 - 74 + 1)"
   ]
  },
  {
   "cell_type": "code",
   "execution_count": null,
   "metadata": {
    "id": "FzNfHq6Ct0dr"
   },
   "outputs": [],
   "source": [
    "print(25 * 2)"
   ]
  },
  {
   "cell_type": "code",
   "execution_count": null,
   "metadata": {
    "id": "inlBwQ_Mt0ds"
   },
   "outputs": [],
   "source": [
    "print(10 / 5)"
   ]
  },
  {
   "cell_type": "markdown",
   "metadata": {
    "id": "8cA3fKAot0ds"
   },
   "source": [
    "\n",
    "\n",
    "## 🕹️ À toi de jouer ! 🤠\n",
    "\n",
    "### 🧮 Exercice 1 : Mélange de nombres ⭐\n",
    "\n",
    "C’est l’heure des maths ! Tu vas t’amuser à faire des opérations en mélangeant des **entiers** (ex : 3, 12…) et des **nombres à virgule** (ex : 2.5, 4.0…).\n",
    "\n",
    "---\n",
    "\n",
    "### 🎯 Mission :\n",
    "\n",
    "1. **Additionne** un entier et un nombre à virgule  \n",
    "2. **Multiplie** un entier par un nombre à virgule  \n",
    "3. **Divise** deux nombres (au moins un avec une virgule)\n",
    "\n",
    "💡 Utilise `print()` pour afficher les résultats.\n",
    "\n",
    "---\n",
    "\n",
    "👉 Exemple :\n",
    "```python\n",
    "print(5 + 2.5)\n",
    "print(3 * 1.2)\n",
    "print(10 / 4)\n",
    "```\n",
    "\n",
    "À toi de créer tes propres opérations maintenant ! 🧠✨\n",
    "\n",
    "-\n"
   ]
  },
  {
   "cell_type": "code",
   "execution_count": null,
   "metadata": {
    "id": "pmUNSX7st0ds"
   },
   "outputs": [],
   "source": [
    "\n"
   ]
  },
  {
   "cell_type": "markdown",
   "metadata": {
    "id": "42gHvr41t0dt"
   },
   "source": [
    "\n",
    "\n",
    "### 💡 Petit conseil de pro\n",
    "\n",
    "Tu n’as **pas toujours besoin de `print()`** pour voir le résultat d’un calcul !\n",
    "\n",
    "👉 Si tu fais **un seul calcul** dans une cellule, Python affiche le résultat tout seul.  \n",
    "👉 Mais si tu fais **plusieurs calculs**, **seul le dernier** sera affiché automatiquement.\n",
    "\n",
    "---\n",
    "\n",
    "### 🔍 Exemple à tester :\n",
    "\n",
    "Lance la cellule ci-dessous pour voir comment Python se comporte selon le nombre d'opérations.\n",
    "\n",
    "---"
   ]
  },
  {
   "cell_type": "code",
   "execution_count": null,
   "metadata": {
    "id": "dwQZrP4Lt0dt"
   },
   "outputs": [],
   "source": [
    "1/1\n",
    "4/2"
   ]
  },
  {
   "cell_type": "markdown",
   "metadata": {
    "id": "p1Ie2Jt-t0dt"
   },
   "source": [
    "\n",
    "\n",
    "### 💡 Astuce de codeur\n",
    "\n",
    "Pas besoin de `print()` tout le temps ! 😌\n",
    "\n",
    "👉 Si tu fais **un seul calcul** dans une cellule, Python affiche le résultat tout seul.  \n",
    "👉 Si tu fais **plusieurs calculs**, **seul le dernier** apparaîtra.\n",
    "\n",
    "---\n",
    "\n",
    "### 🎬 Exemple :  \n",
    "Teste la cellule ci-dessous pour voir comment ça marche en pratique !\n",
    "\n",
    "---\n",
    "\n",
    "\n"
   ]
  },
  {
   "cell_type": "code",
   "execution_count": null,
   "metadata": {
    "id": "fv-qua1st0dt"
   },
   "outputs": [],
   "source": [
    "longeur=17.26\n",
    "largeur=8.97\n",
    "perimetre=2*(longeur+largeur)\n",
    "print (\"le perimetre du rectangle est\", perimetre, \"cm\")\n"
   ]
  },
  {
   "cell_type": "markdown",
   "metadata": {
    "id": "zdUOrl1Nt0du",
    "jp-MarkdownHeadingCollapsed": true
   },
   "source": [
    "### Correction"
   ]
  },
  {
   "cell_type": "markdown",
   "metadata": {
    "id": "o8NEm2JJt0du"
   },
   "source": [
    "\n",
    "\n",
    "### 💡 Bon à savoir\n",
    "\n",
    "Pas besoin de toujours utiliser `print()` !\n",
    "\n",
    "✅ Si ton code fait **un seul calcul**, Python affiche le résultat tout seul.  \n",
    "⚠️ Mais s’il y a **plusieurs calculs**, **seul le dernier** sera affiché automatiquement.\n",
    "\n",
    "---\n",
    "\n",
    "### 🧪 Exemple :  \n",
    "Lance la cellule suivante pour voir ce que Python affiche (et ce qu’il cache 😉) !  \n"
   ]
  },
  {
   "cell_type": "code",
   "execution_count": null,
   "metadata": {
    "id": "KfFoNq-s9f6N"
   },
   "outputs": [],
   "source": []
  },
  {
   "cell_type": "markdown",
   "metadata": {
    "id": "2f3KRMagt0du"
   },
   "source": [
    "\n",
    "\n",
    "## 🧠 À toi de jouer ! 🤠\n",
    "\n",
    "### 📦 Exercice 4 : Calcul du prix total ⭐⭐\n",
    "\n",
    "Tu ouvres une petite boutique en ligne 💻📦 et tu veux calculer le **prix total** d’une commande en incluant la **TVA** (taxe ajoutée).\n",
    "\n",
    "---\n",
    "\n",
    "### 🎯 Mission :\n",
    "\n",
    "1. Crée une variable `prix_ht` (hors taxes) avec un prix de ton choix (par exemple : `42.0`)  \n",
    "2. Calcule le prix **TTC** (toutes taxes comprises) avec une TVA de **20%**  \n",
    "   👉 Formule : `prix_ttc = prix_ht * 1.20`  \n",
    "3. Affiche un message clair du type :  \n",
    "   `\"Le prix TTC est de 50.4 euros\"`\n",
    "\n"
   ]
  },
  {
   "cell_type": "code",
   "execution_count": null,
   "metadata": {
    "id": "UghZUgJjt0du"
   },
   "outputs": [],
   "source": [
    "\n"
   ]
  },
  {
   "cell_type": "markdown",
   "metadata": {
    "id": "u_97iq7Et0dv"
   },
   "source": [
    "\n",
    "## 🐢 Exercice 5 : Suivi de croissance d’une tortue ⭐⭐⭐\n",
    "\n",
    "Tu travailles dans une réserve naturelle et tu dois suivre la **croissance d’une tortue géante** 🐢.  \n",
    "On sait qu’à 2 ans, elle pèse **5 kg**, et qu’elle **prend 1.2 kg par an** ensuite.\n",
    "\n",
    "---\n",
    "\n",
    "### 🎯 Mission :\n",
    "\n",
    "1. Crée une variable `age` avec l’âge de la tortue (par exemple : `7`)  \n",
    "2. Calcule son poids en fonction de son âge :  \n",
    "   - Si elle a plus de 2 ans : `poids = 5 + (âge - 2) * 1.2`  \n",
    "   - Sinon, son poids reste `5 kg`\n",
    "3. Affiche un message clair du type :  \n",
    "   `\"À 7 ans, la tortue pèse 11 kg.\"`\n",
    "\n"
   ]
  },
  {
   "cell_type": "code",
   "execution_count": null,
   "metadata": {
    "id": "vnEciwl0t0dv"
   },
   "outputs": [],
   "source": []
  },
  {
   "cell_type": "markdown",
   "metadata": {
    "id": "Ss9e2fIct0dv"
   },
   "source": [
    "\n",
    "\n",
    "## ✨ 7. Les puissances\n",
    "\n",
    "Tu veux faire des maths de super-héros ? 🦸‍♂️💥  \n",
    "Avec Python, tu peux calculer des **puissances** en utilisant `**`.\n",
    "\n",
    "🧠 Le chiffre **à droite** de `**` s’appelle un **exposant**.  \n",
    "Il peut être un nombre positif, négatif, ou même un nombre à virgule !\n",
    "\n",
    "---\n",
    "\n",
    "### 🔍 Exemple à tester :\n",
    "\n",
    "Exécute les cellules suivantes pour voir comment Python élève un nombre à une puissance.\n",
    "\n",
    "👉 Exemple :\n",
    "```python\n",
    "print(2 ** 3)  # 2 puissance 3 = 8\n",
    "```\n",
    "\n"
   ]
  },
  {
   "cell_type": "markdown",
   "metadata": {
    "id": "cmnZydI_1MDZ"
   },
   "source": []
  },
  {
   "cell_type": "code",
   "execution_count": null,
   "metadata": {
    "id": "EH49Ba4At0dw"
   },
   "outputs": [],
   "source": [
    "print(2 ** 10)"
   ]
  },
  {
   "cell_type": "code",
   "execution_count": null,
   "metadata": {
    "id": "6fnUrQRIt0dw"
   },
   "outputs": [],
   "source": [
    "print(8 ** 2)"
   ]
  },
  {
   "cell_type": "code",
   "execution_count": null,
   "metadata": {
    "id": "V7XOuHEKt0dw"
   },
   "outputs": [],
   "source": [
    "print(9 ** 3)"
   ]
  },
  {
   "cell_type": "code",
   "execution_count": null,
   "metadata": {
    "id": "9BD5VfHFt0dw"
   },
   "outputs": [],
   "source": [
    "print(4 ** 0.5)"
   ]
  },
  {
   "cell_type": "markdown",
   "metadata": {
    "id": "Fu0A1pgJt0dx"
   },
   "source": [
    "\n",
    "\n",
    "## 🕹️ À toi de jouer ! 🤠\n",
    "\n",
    "### ⚡ Exercice 1 : Puissances magiques ⭐\n",
    "\n",
    "Tu vas maintenant utiliser `**` pour faire des **calculs de puissances** comme un(e) magicien(ne) des maths ! ✨\n",
    "\n",
    "---\n",
    "\n",
    "### 🎯 Mission :\n",
    "\n",
    "1. Calcule **3 puissance 4** (`3 ** 4`) et affiche le résultat  \n",
    "2. Calcule **10 puissance -3** (`10 ** -3`) et affiche le résultat\n",
    "\n",
    "💡 N’oublie pas d’utiliser `print()` pour bien voir les deux résultats.\n",
    "\n"
   ]
  },
  {
   "cell_type": "code",
   "execution_count": null,
   "metadata": {
    "id": "zx-iLqJct0dx"
   },
   "outputs": [],
   "source": []
  },
  {
   "cell_type": "markdown",
   "metadata": {
    "id": "Y2wLPRDZt0dx"
   },
   "source": [
    "\n",
    "\n",
    "## 🧫 À toi de jouer, scientifique ! 🤠\n",
    "\n",
    "### 🧠 Exercice 2 : Surface des cellules ⭐⭐\n",
    "\n",
    "Tu travailles dans un laboratoire de biologie et tu dois calculer la **surface de cellules rondes** vues au microscope 🔬.  \n",
    "Chaque cellule est un **disque**, et tu vas utiliser la formule de l’aire :  \n",
    "**A = π × r²**\n",
    "\n",
    "---\n",
    "\n",
    "### 🎯 Mission :\n",
    "\n",
    "1. Utilise **π ≈ 3.141**  \n",
    "2. Les rayons des cellules sont en **micromètres** :  \n",
    "   - `r1 = 1`, `r2 = 2`, `r3 = 3`  \n",
    "3. Un micromètre vaut `10⁻⁶` m (⚠️ ne pas oublier de convertir les rayons en mètres !)  \n",
    "4. Calcule et stocke les aires des cellules dans `A1`, `A2`, `A3`  \n",
    "5. Affiche chaque aire avec une phrase du type :  \n",
    "   `\"La surface de la cellule de rayon 1 μm est de ... m²\"`\n",
    "\n"
   ]
  },
  {
   "cell_type": "markdown",
   "metadata": {
    "id": "NSonUUY8lQrO"
   },
   "source": []
  },
  {
   "cell_type": "markdown",
   "metadata": {
    "id": "-fxJRykWlSWO"
   },
   "source": []
  },
  {
   "cell_type": "code",
   "execution_count": null,
   "metadata": {
    "id": "xukE2VwEt0dy"
   },
   "outputs": [],
   "source": []
  },
  {
   "cell_type": "markdown",
   "metadata": {
    "id": "wyExt7e0t0dy"
   },
   "source": [
    "\n",
    "## ➕ 8. L’assignation augmentée\n",
    "\n",
    "Parfois, on veut **mettre à jour une variable** à partir de sa propre valeur.  \n",
    "Par exemple, ajouter quelque chose à un nombre déjà stocké. 🧠📦\n",
    "\n",
    "C’est ce qu’on appelle **l’assignation augmentée** !\n",
    "\n",
    "---\n",
    "\n",
    "### 🔍 Exemple :\n",
    "\n",
    "Regarde ce qui se passe quand on exécute la cellule suivante 👇  \n",
    "Python va prendre la valeur actuelle, y ajouter quelque chose, et **mettre à jour** la variable !\n",
    "\n",
    "```python\n",
    "compte = 10\n",
    "compte += 5  # équivaut à : compte = compte + 5\n",
    "print(compte)\n",
    "```\n"
   ]
  },
  {
   "cell_type": "code",
   "execution_count": null,
   "metadata": {
    "id": "XDxV2M04t0dy"
   },
   "outputs": [],
   "source": []
  },
  {
   "cell_type": "markdown",
   "metadata": {
    "id": "Pi_GYXuUt0dy"
   },
   "source": [
    "Dans cet exemple, l'ordinateur crée la nouvelle chaîne de caractère \"Bonjour, Adios amigo\", puis il écrase l'ancienne valeur de la variable `message` qui était \"Bonjour\" pour lui  donner sa nouvlle valeur : \"Bonjour, Adios amigo\"."
   ]
  },
  {
   "cell_type": "markdown",
   "metadata": {
    "id": "Nn3Qh6g0t0dz"
   },
   "source": [
    "<u> Exemple : Comptage de tours de piste d'un athlète aux JO"
   ]
  },
  {
   "cell_type": "code",
   "execution_count": null,
   "metadata": {
    "id": "RWFKMNXmt0dz"
   },
   "outputs": [],
   "source": [
    "#Initialisation\n",
    "nombre_de_tours=0\n",
    "print(nombre_de_tours)\n",
    "\n",
    "# premier tour de piste\n",
    "nombre_de_tours=nombre_de_tours+1\n",
    "print(nombre_de_tours)\n",
    "\n",
    "#deuxième tour de piste\n",
    "nombre_de_tours=nombre_de_tours+1\n",
    "print(nombre_de_tours)"
   ]
  },
  {
   "cell_type": "markdown",
   "metadata": {
    "id": "K5Lb63D1t0dz"
   },
   "source": [
    "## Bon à savoir\n",
    "Python propose une abréviation pour l'assignation augmentée, c'est l'opérateur `+=`.\n",
    "\n",
    "<u>Exemple </u>: Exécutez la cellule suivante."
   ]
  },
  {
   "cell_type": "code",
   "execution_count": null,
   "metadata": {
    "id": "wSleRNDlt0dz"
   },
   "outputs": [],
   "source": [
    "message = \"Bonjour\"\n",
    "\n",
    "message +=\", Adios amigo\"\n",
    "\n",
    "print(message)"
   ]
  },
  {
   "cell_type": "code",
   "execution_count": null,
   "metadata": {
    "id": "lLlHAOP5t0d0"
   },
   "outputs": [],
   "source": []
  },
  {
   "cell_type": "markdown",
   "metadata": {
    "id": "i9TktIo-t0d0"
   },
   "source": [
    "\n",
    "\n",
    "## 🗨️ 9. Les commentaires\n",
    "\n",
    "🧠 **Les commentaires**, ce sont des lignes qu’on écrit dans le code pour **expliquer** ce qu’on fait, ou pour **désactiver** une ligne temporairement.  \n",
    "👉 L’ordinateur les **ignore complètement** !\n",
    "\n",
    "Pour faire un commentaire, il suffit de commencer la ligne avec un `#`.\n",
    "\n",
    "---\n",
    "\n",
    "### 🔍 Exemple à tester :\n",
    "\n",
    "Tu vas devoir :\n",
    "\n",
    "1. Mettre un `#` **au bon endroit** pour que le code fonctionne  \n",
    "2. **Lire les commentaires** déjà présents  \n",
    "3. **Ajouter ou enlever** des `#` pour transformer un 😠 en 😄 !\n",
    "\n",
    "---\n",
    "\n",
    "💡 Les commentaires sont utiles pour mieux s’y retrouver dans son code… ou pour cacher des lignes sans les supprimer !\n"
   ]
  },
  {
   "cell_type": "code",
   "execution_count": 8,
   "metadata": {
    "colab": {
     "base_uri": "https://localhost:8080/",
     "height": 435
    },
    "id": "RsLhptgYt0d0",
    "outputId": "c5774f93-bd73-4a52-d53c-9dd83accbbc8"
   },
   "outputs": [
    {
     "data": {
      "image/png": "[encoded data removed]",
      "text/plain": [
       "<Figure size 640x480 with 1 Axes>"
      ]
     },
     "metadata": {},
     "output_type": "display_data"
    }
   ],
   "source": [
    "import matplotlib.pyplot as plt\n",
    "import matplotlib.patches as patches\n",
    "import numpy as np\n",
    "\n",
    "# Créer une figure et un ensemble de sous-graphiques\n",
    "fig, ax = plt.subplots()\n",
    "\n",
    "#Dessiner le visage (cercle)\n",
    "face = plt.Circle((0.5, 0.5), 0.4, color='yellow', ec='black', lw=2)\n",
    "\n",
    "ax.add_patch(face)\n",
    "\n",
    "# Dessiner l'œil gauche\n",
    "left_eye = plt.Circle((0.35, 0.65), 0.05, color='black')\n",
    "ax.add_patch(left_eye)\n",
    "# Dessiner l'œil droit\n",
    "right_eye = plt.Circle((0.65, 0.65), 0.05, color='black')\n",
    "ax.add_patch(right_eye)\n",
    "\n",
    "# Dessiner la bouche (arc)\n",
    "# visage pas content\n",
    "mouth = patches.Arc((0.5, 0.4), 0.5, 0.3, angle=0, theta1=0, theta2=180, color='black', lw=6)\n",
    "\n",
    "# visage content\n",
    "# mouth = patches.Arc((0.5, 0.4), 0.5, 0.3, angle=0, theta1=180, theta2=360, color='black', lw=6)\n",
    "ax.add_patch(mouth)\n",
    "\n",
    "#Définir les limites du graphique\n",
    "ax.set_xlim(0, 1)\n",
    "ax.set_ylim(0, 1)\n",
    "\n",
    "#  Supprimer les axes\n",
    "ax.axis('off')\n",
    "\n",
    "# Afficher le graphique\n",
    "plt.gca().set_aspect('equal', adjustable='box')\n",
    "plt.show()\n"
   ]
  },
  {
   "cell_type": "markdown",
   "metadata": {
    "id": "Rkc52uSSt0d1"
   },
   "source": [
    "Comme on peut le voir dans l'exemple précédent, le commentaire est généralement utilisé pour :\n",
    "1. Ignorer temporairement une ligne de code\n",
    "2. Expliquer le code\n",
    "\n",
    "Il faut **absolument** commenter chaque étape de votre code pour qu'il puisse être lu par un tiers.\n",
    "\n",
    "Usez et abusez des commentaires dans tous vos codes !!"
   ]
  },
  {
   "cell_type": "markdown",
   "metadata": {
    "id": "93JYwWYc5Hfu"
   },
   "source": []
  },
  {
   "cell_type": "markdown",
   "metadata": {
    "id": "4fPAbXApt0d1"
   },
   "source": [
    "\n",
    "\n",
    "## 📝 Exercice : Remets de l’ordre dans les commentaires ! ⭐\n",
    "\n",
    "Un programme a été écrit, mais les commentaires ont été mélangés ou oubliés… À toi de les ajouter ou de les corriger pour que le code soit **facile à comprendre** !\n",
    "\n",
    "---\n",
    "\n",
    "### 🎯 Mission :\n",
    "\n",
    "1. Lis le code ci-dessous  \n",
    "2. Ajoute les bons commentaires pour expliquer **chaque ligne**  \n",
    "3. Utilise `#` au début de chaque commentaire\n",
    "\n",
    "---\n",
    "\n",
    "### 🔧 Code à commenter :\n",
    "```python\n",
    "temperature = 22\n",
    "temperature += 3\n",
    "print(temperature)\n",
    "```\n",
    "\n",
    "---\n",
    "\n",
    "💬 À toi d’écrire les bons commentaires pour dire ce que fait chaque ligne.  \n",
    "Exemple :  \n",
    "```python\n",
    "# On crée une variable température avec la valeur 22\n",
    "# ...\n",
    "```\n",
    "\n"
   ]
  },
  {
   "cell_type": "code",
   "execution_count": null,
   "metadata": {
    "id": "ZelneKby540T"
   },
   "outputs": [],
   "source": []
  },
  {
   "cell_type": "markdown",
   "metadata": {
    "id": "ACAwdtQI5WsV"
   },
   "source": [
    "\n",
    "\n",
    "## 📝 Exercice  : Code mystérieux à expliquer ⭐⭐\n",
    "\n",
    "Un programme fonctionne très bien… mais il est **totalement silencieux** : aucun commentaire n’explique ce qu’il fait 😱  \n",
    "À toi de **jouer les détectives** et d’ajouter les commentaires nécessaires pour le rendre clair pour tous.\n",
    "\n",
    "---\n",
    "\n",
    "### 🎯 Mission :\n",
    "\n",
    "Lis le code ci-dessous et ajoute un commentaire **pour chaque ligne**, pour expliquer ce qu’il fait.\n",
    "\n",
    "---\n",
    "\n",
    "### 🔧 Code à commenter :\n",
    "```python\n",
    "nom = \"Alex\"\n",
    "age = 25\n",
    "message = nom + \" a \" + str(age) + \" ans.\"\n",
    "print(message)\n",
    "```\n",
    "\n",
    "---\n",
    "\n",
    "💬 Indice : il y a une **concaténation de texte** (assemblage), une **conversion de type**, et une **affichage**.  \n",
    "À toi d’expliquer tout ça ligne par ligne comme si tu l’écrivais pour un(e) camarade qui débute ! 👩‍💻👨‍💻\n",
    "\n"
   ]
  },
  {
   "cell_type": "markdown",
   "metadata": {},
   "source": [
    "## 🔹 Mini-Jeu\n",
    "\n",
    "Nous allons finir par un petit jeu interactif :\n",
    "\n",
    "Uniquement quand on a fini le programme !\n",
    "\n",
    "Un jeu où l’utilisateur doit deviner un nombre compris entre 1 et 10.\n",
    "\n",
    "💡 Rendre l’apprentissage ludique avec un jeu simple."
   ]
  },
  {
   "cell_type": "code",
   "execution_count": 6,
   "metadata": {},
   "outputs": [
    {
     "name": "stdin",
     "output_type": "stream",
     "text": [
      "Devine un nombre entre 1 et 10 :  1\n"
     ]
    },
    {
     "name": "stdout",
     "output_type": "stream",
     "text": [
      "Dommage, le nombre était 10\n"
     ]
    }
   ],
   "source": [
    "import random\n",
    "\n",
    "nombre_secret = random.randint(1, 10)\n",
    "essai = int(input(\"Devine un nombre entre 1 et 10 : \"))\n",
    "\n",
    "if essai == nombre_secret:\n",
    "    print(\"Bravo ! Tu as trouvé le bon nombre !\")\n",
    "else:\n",
    "    print(\"Dommage, le nombre était\", nombre_secret)"
   ]
  },
  {
   "cell_type": "markdown",
   "metadata": {
    "id": "-dnYQfcJ56W7"
   },
   "source": [
    "# Résumé\n",
    "\n",
    "\r\n",
    "1. **Les variables** :  \r\n",
    "Une variable est un endroit où l’on peut stocker des informations (comme des nombres ou des mots). On peut donner un nom à chaque variable. Par exemple, `age = 12` stocke le nombre 12 dans la variable `age`. Les variables peuvent être mises à jour avec de nouvelles valeurs.\r\n",
    "\r\n",
    "2. **Les types de données** :  \r\n",
    "Python travaille avec différents types de données :\r\n",
    "   - **Les entiers (int)** : Ce sont des nombres sans décimale (ex. 5, -3).\r\n",
    "   - **Les nombres flottants (float)** : Ce sont des nombres avec une virgule (ex. 3.14, -2.5).\r\n",
    "   - **Les chaînes de caractères (string)** : Ce sont des mots ou phrases entourés de guillemets (ex. \"Bonjour\").\r\n",
    "\r\n",
    "3. **Les opérations mathématiques** :  \r\n",
    "Python permet de faire des calculs comme additionner, soustraire, multiplier, diviser ou même calculer des puissances (ex. `2 ** 3` pour 2 à la puissance 3).\r\n",
    "\r\n",
    "4. **Afficher du texte** :  \r\n",
    "On utilise `print()` pour afficher du texte ou des résultats à l'écran. Exemple : `print(\"Bonjour\")`.\r\n",
    "\r\n",
    "5. **Les commentaires** :  \r\n",
    "Les commentaires sont des notes dans le code qui aident à expliquer ce que fait chaque partie du programme. Ils commencent par un `#` et ne sont pas exécutés par l'ordinateur. Par exemple :  \r\n",
    "`# Ceci est un commentaire`  \r\n",
    "Les commentaires sont très importants pour que d'autres personnes comprennent ton code.\r\n",
    "\r\n",
    "6. **Les puissances** :  \r\n",
    "Une puissance est un nombre multiplié plusieurs fois par lui-même. Exemple : `2 ** 3` donne 8, car 2 x 2 x 2 = 8.\r\n",
    "\r\n",
    "7. **Les erreurs (bugs)** :  \r\n",
    "Les erreurs peuvent arriver dans le code. Python t’indique où elles sont pour que tu puisses les corriger. Ce processus s'appelle le **débogage**.\r\n",
    "\r\n",
    "8. **Les expressions booléennes** :  \r\n",
    "Les expressions qui renvoient soit `True` (vrai) soit `False` (faux) sont appelées booléennes. Elles sont souvent utilisées pour vérifier des conditions.\r\n",
    "\r\n"
   ]
  },
  {
   "cell_type": "code",
   "execution_count": null,
   "metadata": {},
   "outputs": [],
   "source": []
  }
 ],
 "metadata": {
  "colab": {
   "provenance": []
  },
  "kernelspec": {
   "display_name": "Python 3 (ipykernel)",
   "language": "python",
   "name": "python3"
  },
  "language_info": {
   "codemirror_mode": {
    "name": "ipython",
    "version": 3
   },
   "file_extension": ".py",
   "mimetype": "text/x-python",
   "name": "python",
   "nbconvert_exporter": "python",
   "pygments_lexer": "ipython3",
   "version": "3.9.5"
  }
 },
 "nbformat": 4,
 "nbformat_minor": 4
}

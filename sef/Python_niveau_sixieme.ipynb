{
 "cells": [
  {
   "cell_type": "markdown",
   "metadata": {
    "id": "b3ET8cU3sGYI"
   },
   "source": [
    "[![Open In Colab](https://colab.research.google.com/assets/colab-badge.svg)](https://colab.research.google.com/github/UCLy/cours/blob/master/sef/Python_niveau_sixieme.ipynb)"
   ]
  },
  {
   "cell_type": "markdown",
   "metadata": {
    "id": "lUIHxEDysGYN",
    "jp-MarkdownHeadingCollapsed": true
   },
   "source": [
    "# Comprendre les bases de Python (Niveau 6ème)\n",
    "\n",
    "Python, c’est un langage de programmation super connu dans le monde entier. Pourquoi ? Parce qu’il est facile à apprendre, très puissant et gratuit ! On l’utilise pour plein de choses : créer des sites web, faire des calculs scientifiques, analyser des données ou même développer de l’intelligence artificielle. Et le meilleur dans tout ça ? Il continue de s’améliorer grâce à une énorme communauté de programmeurs qui partagent leurs idées et créent des outils pratiques pour tout le monde.  \n",
    "\n",
    "### 🎯 Objectif  \n",
    "Dans cette première activité, tu vas apprendre à afficher du texte et des nombres avec Python. Enfaite, tu vas coder ce que tu fais déjà facilement avec un crayon et du papier. Mais bientôt, tu verras comment programmer des trucs que tu n’aurais jamais envie de faire à la main (parce que ce serait **beaucoup** trop long !).  \n",
    "\n",
    "### 💡 Les exercices  \n",
    "- ⭐ ou ⭐⭐ → faciles, presque automatiques, et **obligatoires**.  \n",
    "- ⭐⭐⭐ → un peu plus compliqués, mais pas impossibles ! Si tu bloques, pas de stress, tu peux les mettre de côté.  \n",
    "\n",
    "Prêt(e) ? C’est parti ! 🚀\n",
    "\n",
    "\n",
    "## Table des matières obligatoires\n",
    "1. Affichage\r\n",
    "2. Suite de mots 🔤\r\n",
    "3. Variables\r\n",
    "4. Erreurs ❌\r\n",
    "5. Nombres 🔢\r\n",
    "6. Calculs 🧮\r\n",
    "7. Puissances 💪\r\n",
    "8. Assignation Augmentée\r\n",
    "9. Commentaires 🗣️"
   ]
  },
  {
   "cell_type": "markdown",
   "metadata": {
    "id": "g5nj8oqCsGYO"
   },
   "source": [
    "# 1 Affichage\n",
    "\n",
    "Dans la cellule suivante, utilise la fonction **`print()`** en ajoutant dans les parenthèses le message de ton choix encadré par des guillemets.\n",
    "\n",
    "<u>Remarque :</u> Tu peux exécuter une cellule en cliquant dessus avec la souris, puis en appuyant en même temps sur `shift`(la petite flèche pour faire les majuscules) +`entrée`."
   ]
  },
  {
   "cell_type": "code",
   "execution_count": null,
   "metadata": {
    "id": "5x-AurGEsGYP"
   },
   "outputs": [],
   "source": [
    "print(\"coucou\")"
   ]
  },
  {
   "cell_type": "markdown",
   "metadata": {
    "id": "yNrmCrht2hK0"
   },
   "source": []
  },
  {
   "cell_type": "markdown",
   "metadata": {
    "id": "hBnK_K7NsGYR"
   },
   "source": [
    "### La fonction **`print()`** permet au code d'**afficher un message**."
   ]
  },
  {
   "cell_type": "markdown",
   "metadata": {
    "id": "aMnCotWzsGYR"
   },
   "source": [
    "### <u>Remarque</u>\n",
    "\n",
    "Il est possible d'afficher plusieurs messages à la suite en utilisant une seule fois la fonction `print()`. Dans les parenthèses, il suffit de séparer les deux messages entre guillemets par une virgule.\n",
    "<u>Exemple </u>: Dans votre print(), tu écris un message entre guillement \"\", tu sépare par une virgule hors guillemets, et a la suite tu y ajoute ton deuxième message entre guillemet \"\". Cela donnerait:"
   ]
  },
  {
   "cell_type": "code",
   "execution_count": null,
   "metadata": {
    "id": "jqyN0FO7sGYS"
   },
   "outputs": [],
   "source": [
    "print(\"ta première phrase\",\"ta deuxième phrase\")"
   ]
  },
  {
   "cell_type": "markdown",
   "metadata": {
    "id": "EQgcNpmnsGYT"
   },
   "source": [
    "### À toi de jouer ! 🤠\n",
    "2. Ecris une phrase complète en utilisant une seule fonction `print()` et avec un seul mot par paire de guillemets. Soyez créatifs ! ⭐"
   ]
  },
  {
   "cell_type": "code",
   "execution_count": null,
   "metadata": {
    "id": "sJ9IyuBA4dMT"
   },
   "outputs": [],
   "source": []
  },
  {
   "cell_type": "markdown",
   "metadata": {
    "id": "I2t5BqZH3b-U"
   },
   "source": [
    "Utilise la fonction print() pour afficher une petite présentation de toi en Python.\n",
    "\n",
    "💻 Consigne : Écris un programme qui affiche :\n",
    "\n",
    "Ton prénom:\n",
    "Ton âge\n",
    "Ton activité ou ce que tu aimes faire\n",
    "\n",
    "❗Pense bien à revenir à la ligne et à réutiliser la fonction print() pour chacune de tes nouvelles phrases\n",
    "\n",
    "🔹 Exemple de résultat attendu :\n",
    "\n",
    "![python présentation.png](data:image/png;base64,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)"
   ]
  },
  {
   "cell_type": "code",
   "execution_count": null,
   "metadata": {
    "id": "qAvvkd_g4hMl"
   },
   "outputs": [],
   "source": []
  },
  {
   "cell_type": "markdown",
   "metadata": {
    "id": "AVL7AJOLsGYU"
   },
   "source": [
    "# 2 Suite de mots 🔤 (Chaîne de caractères)\n",
    "Essaye d'afficher un texte sans mettre de guillemets pour voir ce qu'il se passe."
   ]
  },
  {
   "cell_type": "code",
   "execution_count": null,
   "metadata": {
    "id": "zYWjtztBsGYV"
   },
   "outputs": [],
   "source": [
    "print(coucou)"
   ]
  },
  {
   "cell_type": "markdown",
   "metadata": {
    "id": "_W769_CEsGYV"
   },
   "source": [
    "Dans cet exemple, tu vois qu’il faut toujours mettre ton texte entre guillemets, sinon Python ne comprend pas que c’est un message. Sans les guillemets, il pourrait croire que c’est une commande ou une variable, et ça risque de provoquer une erreur.\n",
    "\n",
    "###                             Tout ce qui est entre guillemets est appelé ✅**chaîne de caractères**✅."
   ]
  },
  {
   "cell_type": "markdown",
   "metadata": {
    "id": "NS-KHQUZsGYV"
   },
   "source": [
    "# 3 Variables\n",
    "### Exécute la cellule de code juste en dessous."
   ]
  },
  {
   "cell_type": "code",
   "execution_count": null,
   "metadata": {
    "id": "b0SXvZYtsGYV"
   },
   "outputs": [],
   "source": [
    "message = \"Bonjour, je suis heureux.\""
   ]
  },
  {
   "cell_type": "markdown",
   "metadata": {
    "id": "jzhBqq1zsGYW"
   },
   "source": [
    "### À présent, écris `print(message)` dans la cellule juste en dessous et laisse la magie opérer."
   ]
  },
  {
   "cell_type": "code",
   "execution_count": null,
   "metadata": {
    "id": "LGNw5OIpsGYW"
   },
   "outputs": [],
   "source": [
    "print(message)"
   ]
  },
  {
   "cell_type": "markdown",
   "metadata": {
    "id": "WSI3O8s6sGYW"
   },
   "source": [
    "Tada ☝! Si tu as bien suivi les étapes, tu devrais voir s’afficher **Bonjour, je suis heureux.** 🎉 Ici, Python ne lit pas `message` comme du texte, mais comme une **variable** qui contient le texte à afficher !\n",
    "\n",
    "\n",
    "Les variables stockent des données pour les réutiliser plus tard. En Python, on les crée de la façon suivante :\n",
    "```python\n",
    "variable = données_à_stocker\n",
    "```\n",
    "\n",
    "Le signe `=` sépare la variable <u>à gauche</u> des données <u>à droite</u>.\n",
    "\n",
    "Ces données peuvent être de multiples formes :\n",
    "1. Chaînes de caractères\n",
    "2. Nombres\n",
    "3. expressions booléennes\n",
    "4. tableaux\n",
    "5. listes\n",
    "6. et j'en passe\n",
    "\n",
    "<u>Remarque :</u> Nous verrons les points 3, 4, 5 et 6 dans d'autres activités.\n",
    "### À toi de jouer ! 🤠\n",
    "### Exécute les cellules de code suivantes et vois ce qui se passe."
   ]
  },
  {
   "cell_type": "code",
   "execution_count": null,
   "metadata": {
    "id": "UDKo80uwsGYW"
   },
   "outputs": [],
   "source": [
    "variable_1= \"il fait moche ajd\"\n",
    "print(variable_1)"
   ]
  },
  {
   "cell_type": "code",
   "execution_count": null,
   "metadata": {
    "id": "HlARGyDosGYW"
   },
   "outputs": [],
   "source": [
    "variable_2= 127483783767567 + 27484763762946\n",
    "print(variable_2)"
   ]
  },
  {
   "cell_type": "code",
   "execution_count": null,
   "metadata": {
    "id": "0bxYzD-QsGYX"
   },
   "outputs": [],
   "source": [
    "from typing_extensions import LiteralString\n",
    "variable_3= [(2,2,2),(3,3,3),(5,5,5)]\n",
    "print(variable_3)"
   ]
  },
  {
   "cell_type": "markdown",
   "metadata": {
    "id": "TXgcxb9EsGYX"
   },
   "source": [
    "⚠️ Les noms de variables ne peuvent pas être choisis au hasard !\n",
    "\n",
    "Quand tu crées une variable en Python, il y a des règles à respecter :\n",
    "\n",
    "✅ Tu peux utiliser des lettres, des chiffres et le symbole _ (underscore).\n",
    "\n",
    "❌ Mais tu ne peux pas commencer par un chiffre, ni utiliser d’espaces ou de caractères spéciaux (@, $, %, etc.).\n",
    "\n",
    "❌ Certains mots sont interdits parce qu’ils ont déjà une signification en Python (comme print, if, while...).\n",
    "\n",
    "### À toi de jouer ! 🤠\n",
    "### Execute les cellules suivantes et essaye de deviner quels étaient les problèmes dans le nom des variables."
   ]
  },
  {
   "cell_type": "code",
   "execution_count": null,
   "metadata": {
    "id": "8WEylkZVsGYX"
   },
   "outputs": [],
   "source": [
    "me$$age = \"Bonjour, je suis heureux.\"\n",
    "print(message)"
   ]
  },
  {
   "cell_type": "code",
   "execution_count": null,
   "metadata": {
    "id": "ApLCgkzLsGYY"
   },
   "outputs": [],
   "source": [
    "2message = \"Bonjour, je suis heureux.\"\n",
    "print(message)"
   ]
  },
  {
   "cell_type": "code",
   "execution_count": null,
   "metadata": {
    "id": "UlUAAQZrsGYY"
   },
   "outputs": [],
   "source": [
    "mess_age = \"Bonjour, je suis heureux.\"\n",
    "print(message)\n",
    "\n",
    "message = \"Bonjour, je suis, mais alors, vraiment très heureux!\"\n",
    "print(message)"
   ]
  },
  {
   "cell_type": "markdown",
   "metadata": {
    "id": "tCbTmyUisGYY"
   },
   "source": [
    "**Dans ces exemples, nous avons pu voir que :**\n",
    "\n",
    "![image.png](data:image/png;base64,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)\n",
    "\n",
    "\n",
    "👉 Retiens bien ces règles pour éviter les erreurs en programmant ! 🚀\n",
    "\n",
    "Les noms de variables ne peuvent pas avoir d'espaces ni de symboles (sauf le `_`), et ils ne peuvent pas commencer par un chiffre.  \n",
    "\n",
    "- Dans le dernier code, on a vu qu'on peut changer la valeur d’une variable plusieurs fois dans le même programme. C’est pour ça qu’on les appelle des **variables**.  \n",
    "- Le code est lu **ligne par ligne** par l'ordinateur. Il commence par la première ligne, puis passe à la suivante, et ainsi de suite."
   ]
  },
  {
   "cell_type": "markdown",
   "metadata": {
    "id": "uLIHJQTjsGYY"
   },
   "source": [
    "## À vous de jouer ! 🤠\n",
    "\n",
    "### Exercice de Météorologie ⭐\n",
    "\n",
    "**Exercice de Météorologie ⭐**\n",
    "\n",
    "Tu es un météorologue chargé de donner les prévisions météo pour plusieurs villes en France. Tu vas utiliser une variable appelée `meteo` pour stocker et afficher la météo de Paris, Nice et Quimper, un par un.\n",
    "\n",
    "**Instructions**\n",
    "\n",
    "*Météo à Paris*\n",
    "\n",
    "1. Écris un code qui initialise la variable `meteo` avec l'état \"Nuageux\".\n",
    "2. Affiche cette météo avec la fonction `print()`.\n",
    "3. Ensuite, avec `print()`, affiche \"Météo à Paris :\" suivi de la météo à Paris. N'oublie pas d'utiliser la variable `meteo` !\n",
    "\n",
    "❗Rappel:\n",
    "\n",
    "\n",
    "*   une variable est un mot seul, suivit d'un espace, du symbole =, puis du message entre guillemets\n",
    "*   Une variable dans la fonction print() n'est pas entre guillemets, mais si elle doit être présentée par un message, il faut bien commencer par le message entre guillemets, suivit d'une virgule et de la variable.\n",
    "\n",
    "Exemple: print(\"je veux annoncer la variable :\", variable)\n",
    "\n",
    "\n",
    "\n"
   ]
  },
  {
   "cell_type": "code",
   "execution_count": null,
   "metadata": {
    "id": "oT5lE5f8Cnu8"
   },
   "outputs": [],
   "source": []
  },
  {
   "cell_type": "markdown",
   "metadata": {
    "id": "y2bGwxD5xtHV"
   },
   "source": [
    "\n",
    "## À toi de jouer ! 🤠\n",
    "\n",
    "### Exercice de Météorologie ⭐\n",
    "\n",
    "Tu es un.e météorologue et ta mission est de donner les prévisions météo pour différentes villes de France. Utilise une seule variable appelée `meteo` pour garder et afficher les prévisions de Paris, Nice et Quimper, au fur et à mesure que tu les mets à jour.\n",
    "\n",
    "### Instructions\n",
    "**Météo à Paris**\n",
    "1. Crée un code qui met la variable `meteo` à \"Nuageux\".\n",
    "2. Affiche cette météo avec la fonction `print()`.\n",
    "3. Utilise `print()` pour afficher `\"Météo à Paris :\"` suivi de la météo de Paris en utilisant la variable `meteo`.\n",
    "\n",
    "Le résultat doit correspondre à ça: 👍\n",
    "\n",
    "\n",
    "![image.png](data:image/png;base64,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)"
   ]
  },
  {
   "cell_type": "code",
   "execution_count": null,
   "metadata": {
    "id": "i8VPQfWVwqmQ"
   },
   "outputs": [],
   "source": []
  },
  {
   "cell_type": "markdown",
   "metadata": {
    "id": "4dDxrSjvsGYZ"
   },
   "source": [
    "**Pour la météo à Nice et à Quimper :**\n",
    "\n",
    "3. Faire de même avec Nice qui est ensoleillé et Quimper qui est pluvieux.\n",
    "\n",
    "\n",
    "⚠️ **Les instructions doivent être contenues dans la même cellule de code.**"
   ]
  },
  {
   "cell_type": "code",
   "execution_count": null,
   "metadata": {
    "id": "2hAyWrXpsGYZ"
   },
   "outputs": [],
   "source": []
  },
  {
   "cell_type": "markdown",
   "metadata": {
    "id": "sHVDysn8sGYZ",
    "jp-MarkdownHeadingCollapsed": true
   },
   "source": [
    "### Correction"
   ]
  },
  {
   "cell_type": "markdown",
   "metadata": {
    "id": "3e-oVXK7sGYZ",
    "jp-MarkdownHeadingCollapsed": true
   },
   "source": [
    "Il est censé s'afficher :\n",
    "```python\n",
    "Météo à Paris :\n",
    "Nuageux\n",
    "Météo à Nice :\n",
    "Ensoleillé\n",
    "Météo à Quimper :\n",
    "Pluvieux\n",
    "```"
   ]
  },
  {
   "cell_type": "markdown",
   "metadata": {
    "id": "PeYxTN-xsGYZ"
   },
   "source": [
    "# 4 Erreurs ❌\n",
    "\n",
    "Les erreurs (ou \"bugs\") sont normales quand on programme. Python aide les programmeurs en montrant où l'erreur se trouve avec un petit symbole ^. Corriger ces erreurs s'appelle \"déboguer\".\n",
    "\n",
    "⚠️ Erreurs courantes en Python :\n",
    "\n",
    "    SyntaxError (Erreur de syntaxe) : Quelque chose est mal écrit dans ton code (ponctuation incorrecte, commande inattendue, parenthèse manquante, etc.).\n",
    "\n",
    "    \n",
    "    NameError : L'interpréteur Python voit un mot qu'il ne reconnaît pas (variable non définie, etc.).\n",
    "\n",
    "## À toi de jouer ! 🤠\n",
    "\n",
    "### Exercice 1 : Exécute la cellule de code suivante, puis corrige-le pour éviter les erreurs. ⭐"
   ]
  },
  {
   "cell_type": "code",
   "execution_count": null,
   "metadata": {
    "id": "y3SQ2dyisGYa"
   },
   "outputs": [],
   "source": [
    "print('Ce message n'a pas les mêmes guillemets !\")\n",
    "print('Abracadabra\")"
   ]
  },
  {
   "cell_type": "code",
   "execution_count": null,
   "metadata": {
    "id": "6veTr9d9yEJv"
   },
   "outputs": [],
   "source": []
  },
  {
   "cell_type": "markdown",
   "metadata": {
    "id": "Qtq8Uc4oxwMX"
   },
   "source": [
    "❗Comme tu le vois, il est impératif de mettre exactement  les mêmes guillemets entre les parenthèse de l'option print() pour que le message fonctionne !"
   ]
  },
  {
   "cell_type": "markdown",
   "metadata": {
    "id": "TuRVjlFssGYa"
   },
   "source": [
    "### Exercice 2 : Analyse de la séquence ADN ⭐⭐\n",
    "\n",
    "Tu vas maintenant corriger un programme qui examine une séquence d'ADN pour compter combien de fois il y a la base Adénine (A).\n",
    "\n",
    "(L'ADN est comme un code qui contient des informations sur les êtres vivants, et les \"bases\" sont des lettres spéciales utilisées dans ce code, comme A pour Adénine, T pour Thymine, C pour Cytosine, et G pour Guanine.)"
   ]
  },
  {
   "cell_type": "code",
   "execution_count": null,
   "metadata": {
    "id": "y9BhOu2fsGYa"
   },
   "outputs": [],
   "source": [
    "# séquence adn à analyser\n",
    "sequence_adn = \"AGCTTAGCTA'\n",
    "\n",
    "# Compte le nombre de bases adénine (A) dans la séquence : sequence_adn\n",
    "count_a = sequence_dna.count(\"A\")\n",
    "\n",
    "# Affiche le résultat\n",
    "print(\"Nombre de bases adénine : \" + str(counnt_a))\n"
   ]
  },
  {
   "cell_type": "markdown",
   "metadata": {
    "id": "K3KQVYgpy6q6"
   },
   "source": [
    "❗Vérifie bien la cohérence des guillemets, que les noms des variables soit les mêmes :\n",
    "- Oublier\n",
    "- Doubler\n",
    "- Inverser\n",
    "\n",
    "des lettres créer une erreur dans ta ligne de code !"
   ]
  },
  {
   "cell_type": "markdown",
   "metadata": {
    "id": "Ps3UZ0Y4sGYa"
   },
   "source": [
    "# 5 Nombres\n",
    "\n",
    "Python peut utiliser différents types de nombres :\n",
    "\n",
    "- Un **entier** (int) : C'est un nombre sans virgule (ex. : -3, 0, 5). On l'utilise pour compter des choses, comme le nombre de personnes.\n",
    "- Un **nombre décimal** (float) : C'est un nombre avec une virgule (ex. : 2.1, 54.7, -5.6). On l'utilise pour des mesures précises, comme une moyenne.\n",
    "\n",
    "Ces nombres peuvent être stockés dans des variables ou utilisés directement dans le programme.\n",
    "\n",
    "**Exemple** : Exécute la cellule suivante.\n"
   ]
  },
  {
   "cell_type": "code",
   "execution_count": null,
   "metadata": {
    "id": "nphE8TIHsGYa"
   },
   "outputs": [],
   "source": [
    "entier = 2\n",
    "flottant = 2.1\n",
    "\n",
    "print(entier + 3)\n",
    "print(flottant + 3)"
   ]
  },
  {
   "cell_type": "markdown",
   "metadata": {
    "id": "3mH9xdI_sGYb"
   },
   "source": [
    "# 6 Calculs  🧮\n",
    "\n",
    "Les ordinateurs ont été créés avant tout pour effectuer des calculs.\n",
    "Python effectue l'addition, la soustraction, la multiplication et la division avec `+`, `-`, `*`, et `/`.\n",
    "\n",
    "<u>Exemple </u>: Exécute la cellule suivante."
   ]
  },
  {
   "cell_type": "code",
   "execution_count": null,
   "metadata": {
    "id": "mAh86Q62sGYb"
   },
   "outputs": [],
   "source": [
    "print(573 - 74 + 1)"
   ]
  },
  {
   "cell_type": "code",
   "execution_count": null,
   "metadata": {
    "id": "8YyJ1UBGsGYh"
   },
   "outputs": [],
   "source": [
    "print(25 * 2)"
   ]
  },
  {
   "cell_type": "code",
   "execution_count": null,
   "metadata": {
    "id": "CBT22fHusGYh"
   },
   "outputs": [],
   "source": [
    "print(10 / 5)"
   ]
  },
  {
   "cell_type": "markdown",
   "metadata": {
    "id": "_Nu_HDX7sGYh"
   },
   "source": [
    "## À toi de jouer ! 🤠\n",
    "### Exercice 1 : Opérations entre nombres flottants et entiers ⭐\n",
    "\n",
    "Vérifie si on peut additionner, multiplier et diviser des nombres flottants (comme 3.5 ou 7.2) avec des nombres entiers (comme 2 ou 5).\n",
    "\n",
    "(Les nombres flottants sont des nombres avec des décimales, et les entiers sont des nombres sans décimales.)"
   ]
  },
  {
   "cell_type": "code",
   "execution_count": null,
   "metadata": {
    "id": "Qqmbk6L-1VTi"
   },
   "outputs": [],
   "source": []
  },
  {
   "cell_type": "markdown",
   "metadata": {
    "id": "JTj7uLxCsGYh"
   },
   "source": [
    "**Remarque :** Tu n'as pas besoin d'utiliser `print()` à chaque fois pour voir le résultat d'un calcul. Si tu exécutes un code avec juste un calcul, le résultat s'affichera directement. Si ton code contient plusieurs calculs, seul le résultat du dernier calcul sera affiché.\n",
    "\n",
    "<u>Exemple </u>: Exécute la cellule suivante."
   ]
  },
  {
   "cell_type": "code",
   "execution_count": null,
   "metadata": {
    "id": "i8wau_j4sGYl"
   },
   "outputs": [],
   "source": [
    "1/1\n",
    "4/2"
   ]
  },
  {
   "cell_type": "markdown",
   "metadata": {
    "id": "Au0M8AQasGYm"
   },
   "source": [
    "### Exercice 2 : Calcul du périmètre d'un rectangle ⭐⭐\n",
    "On cherche à calculer avec précision le périmètre d'un rectangle dont la longueur fait 17.26 cm et la largeur fait 8.97 cm.\n",
    "1. Définis les variables pour la longueur et la largeur d'un rectangle.\n",
    "2. Calcule le périmètre du rectangle (La longueur plus la largeur multipliées par deux).\n",
    "3. Affiche le périmètre avec un texte qui présente ce qui est affiché. (par exemple \"Le périmètre du rectangle est de :\")\n",
    "\n",
    "❗Remarque, quand tu affichera le texte, n'oublie pas de préciser la mesure après avoir écrit la variable !\n",
    "\n",
    "Par exemple si tu cherches le poids d'un chien :\n",
    "\n",
    "print(\"le poid du chien\", poids, \"kg\")"
   ]
  },
  {
   "cell_type": "code",
   "execution_count": null,
   "metadata": {
    "id": "t2vp64H920uf"
   },
   "outputs": [],
   "source": []
  },
  {
   "cell_type": "markdown",
   "metadata": {
    "id": "uVTyBf2NsGYm",
    "jp-MarkdownHeadingCollapsed": true
   },
   "source": [
    "### Correction"
   ]
  },
  {
   "cell_type": "markdown",
   "metadata": {
    "id": "Dn9YG2QFsGYm"
   },
   "source": [
    "```python\n",
    "# Définir les longueur et largeur\n",
    "longueur=17.26\n",
    "largeur=8.97\n",
    "# Calculer le périmètre\n",
    "perimetre=2*(longueur+largeur)\n",
    "# Afficher le résultat correctement\n",
    "print(\"le prérimètre du rectangle est de\", perimetre, \"cm.\")\n",
    "```"
   ]
  },
  {
   "cell_type": "markdown",
   "metadata": {
    "id": "LNoiWm6MsGYn"
   },
   "source": [
    "### Exercice 3 : Conversion de température ⭐⭐\n",
    "\n",
    "Tu travailles dans un laboratoire de biologie où tu dois souvent convertir des températures entre Celsius (°C) et Fahrenheit (°F) pour différentes expériences. Tu veux créer un programme qui fait cette conversion automatiquement pour gagner du temps.\n",
    "\n",
    "1. Crée une variable pour la température en degrés Celsius (choisis un nombre que tu veux).\n",
    "2. Utilise la formule pour convertir cette température en Fahrenheit.\n",
    "3. Affiche la température en Fahrenheit avec un texte qui explique ce que tu affiches.\n",
    "\n",
    "Voici la formule pour faire la conversion :\n",
    "\n",
    "![image.png](data:image/png;base64,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)\n",
    "\n",
    "(TFa est la température en Fahrenheit et TCe est la température en Celsius.)\n",
    "\n",
    "Si tu rencontres des difficultés, n’hésite pas à demander de l’aide à ton professeur."
   ]
  },
  {
   "cell_type": "code",
   "execution_count": null,
   "metadata": {
    "id": "mpfaQjXO5KwV"
   },
   "outputs": [],
   "source": []
  },
  {
   "cell_type": "markdown",
   "metadata": {
    "id": "SIJ_Zdkx4b8u"
   },
   "source": [
    "Aide !\n",
    "\n",
    "Définie bien la variable TCe pour donner le nombre de degré celcius,\n",
    "\n",
    "Définie bien la variable TFa pour convertir en fahrenheit,\n",
    "\n",
    "Ecris une phrase pour présenter la variable, toujours bien suivie de l'unité de mesure à la fin !"
   ]
  },
  {
   "cell_type": "markdown",
   "metadata": {
    "id": "wsBdn08JsGYn"
   },
   "source": [
    "### Exercice 4 : Calcul du poids d'un animal ⭐⭐⭐\n",
    "\n",
    "Tu es un vétérinaire et tu dois calculer le poids idéal d'un chien qui mesure 60 cm.\n",
    "Tu sais qu'un chien de 30 cm doit peser 10 kg, et que pour chaque centimètre en plus au-dessus de 30 cm, le poids idéal augmente de 0,5 kg :\n",
    "\n",
    "10 + (hauteur - 30) * 0.5\n",
    "\n",
    "1. Crée une variable pour la taille du chien en centimètres.\n",
    "2. Calcule le poids idéal en fonction de la taille du chien.\n",
    "3. Affiche le poids idéal avec un texte expliquant ce que tu affiches.\n",
    "\n",
    "Voici une explication simple de fonctions Python dont tu pourrais avoir besoin:\n",
    "\n",
    "▶▶▶ 1. float(input()) :  \n",
    "\n",
    "   Cette ligne demande à l'utilisateur de rentrer un nombre pour la hauteur du chien. Le `input()` permet à l'utilisateur de taper quelque chose, et `float()` transforme ce que l'utilisateur tape en un nombre avec une virgule (décimal). Par exemple, si l'utilisateur tape \"35\", Python va enregistrer ce nombre comme 35.\n",
    "   Si le résultat dépend d'autre critères aléatoires dans les lignes de codes, le `input()` reste vide et suit les lignes de code suivantes pour générer un résultat.\n",
    "\n",
    "▶▶▶ 2. `if (ta variable) == 30:`\n",
    "\n",
    "Par exemple si ta variable est la hauteur, tu vas écrire:\n",
    "\n",
    "if hauteur ==30\n",
    "\n",
    "   C'est une condition (une sorte de \"si\") qui vérifie **si** la hauteur du chien est exactement de 30 cm.  \n",
    "   Si la hauteur est bien 30 cm, alors le programme exécute ce qui se trouve juste en dessous (la ligne suivante) :  \n",
    "   Tu peux y écrire le poid idéal comme variable.\n",
    "   Cela veut dire que si le chien mesure 30 cm, son poids idéal sera de 10 kg.\n",
    "\n",
    "▶▶▶ 3. elif (ta variable) > 30:  \n",
    "\n",
    "Par exemple si ta variable est la hauteur, tu vas écrire:\n",
    "\n",
    "elif hauteur > 30\n",
    "\n",
    "   Cela veut dire que **si** la hauteur du chien est plus grande que 30 cm (mais pas égale à 30) **alors** la ligne suivante de code s'éxecute:\n",
    "   Tu peux utiliser l'équation donnée.\n",
    "   Cela veut dire que pour chaque centimètre supplémentaire au-dessus de 30 cm, on ajoute 0,5 kg au poids idéal. Par exemple, si le chien mesure 35 cm, le poids idéal sera de 10 kg + (35 - 30) * 0,5 = 12,5 kg.\n",
    "\n",
    "▶▶▶ En résumé :\n",
    "- Si la hauteur du chien est de 30 cm, son poids idéal est 10 kg.\n",
    "- Si le chien mesure plus de 30 cm, on ajoute 0,5 kg pour chaque centimètre en plus.\n",
    "\n"
   ]
  },
  {
   "cell_type": "code",
   "execution_count": null,
   "metadata": {
    "id": "WFGt41wi-Ts9"
   },
   "outputs": [],
   "source": []
  },
  {
   "cell_type": "code",
   "execution_count": null,
   "metadata": {
    "cellView": "form",
    "id": "AXhQqgk5sGYn"
   },
   "outputs": [],
   "source": [
    "# @title Correction\n",
    "hauteur = float(input())\n",
    "if hauteur == 30:\n",
    "  poids_idéal = 10\n",
    "elif hauteur > 30:\n",
    "  poids_idéal = 10 + (hauteur - 30) * 0.5\n",
    "\n",
    "print(\"Le poid idéal pour un chient de\", [hauteur], \"est de :\", [poids_idéal], \"kg\")"
   ]
  },
  {
   "cell_type": "markdown",
   "metadata": {
    "id": "P0mewRUlsGYn"
   },
   "source": [
    "## 7 Puissances 💪\n",
    "Python peut effectuer des calculs avec les puissances en utilisant la notation `**`. Le nombre à droite de `**` est appelé **exposant**. Il peut être un nombre flottant positif ou négatif.\n",
    "\n",
    "<u>Exemple </u>: Exécutez les cellules suivantes."
   ]
  },
  {
   "cell_type": "code",
   "execution_count": null,
   "metadata": {
    "id": "AxWuXCHEsGYn"
   },
   "outputs": [],
   "source": [
    "print(2 ** 10)"
   ]
  },
  {
   "cell_type": "code",
   "execution_count": null,
   "metadata": {
    "id": "yWFl3DItsGYo"
   },
   "outputs": [],
   "source": [
    "print(8 ** 2)"
   ]
  },
  {
   "cell_type": "code",
   "execution_count": null,
   "metadata": {
    "id": "lLfKXvt2sGYo"
   },
   "outputs": [],
   "source": [
    "print(9 ** 3)"
   ]
  },
  {
   "cell_type": "code",
   "execution_count": null,
   "metadata": {
    "id": "BIg4x9KCsGYo"
   },
   "outputs": [],
   "source": [
    "print(4 ** 0.5)"
   ]
  },
  {
   "cell_type": "markdown",
   "metadata": {
    "id": "ZpteMbSUsGYo"
   },
   "source": [
    "## À toi de jouer ! 🤠\n",
    "### Exercice 1 : Calcul de puissances de base ⭐\n",
    "1. Calcule et affiche le résultat de 3 à la puissance 4.\n",
    "2. Calcule et affiche le résultat de 10 à la puissance -3."
   ]
  },
  {
   "cell_type": "code",
   "execution_count": null,
   "metadata": {
    "id": "Z-9thdWasGYo"
   },
   "outputs": [],
   "source": [
    "print(3**4)\n",
    "print(10**-3)"
   ]
  },
  {
   "cell_type": "markdown",
   "metadata": {
    "id": "6dB9yJD8sGYp"
   },
   "source": [
    "### Exercice 2 : Calcul de surface des cellules ⭐⭐\n",
    "**Exercice 2 : Calcul de la surface des cellules ⭐⭐**\n",
    "\n",
    "L'objectif de cet exercice est de calculer et afficher la surface d'une cellule en utilisant la formule de l'aire d'un disque :  \n",
    "\n",
    "![image.png](data:image/png;base64,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)\n",
    "\n",
    "ou (A) est l'aire et (r) est le rayon de la cellule.\n",
    "\n",
    "Tu dois calculer cela pour des rayons de cellules (r) qui sont 1, 2 et 3 micromètres.\n",
    "\n",
    "### Indications :\n",
    "- On va utiliser une valeur approximative de (pi) qui est 3.141.\n",
    "- Un micromètre est égal à 10**-6 mètres (c'est un tout petit nombre).\n",
    "- Tu peux définir trois variables pour les rayons, appelées (r1), (r2) et (r3).\n",
    "- Ensuite, tu peux calculer les surfaces et les stocker dans des variables (A1), (A2) et (A3).\n",
    "\n",
    "Bonne chance ! ⚡"
   ]
  },
  {
   "cell_type": "code",
   "execution_count": null,
   "metadata": {
    "id": "2X8oVgse_hq5"
   },
   "outputs": [],
   "source": []
  },
  {
   "cell_type": "code",
   "execution_count": null,
   "metadata": {
    "id": "EVfs8IfosGYp"
   },
   "outputs": [],
   "source": [
    "# @title Correction {\"display-mode\":\"code\"}\n",
    "Pi = 3.141\n",
    "r1 = 1 * 10**-6\n",
    "r2 = 2 * 10**-6\n",
    "r3 = 3 * 10**-6\n",
    "A1 = Pi * r1**2\n",
    "A2 = Pi * r2**2\n",
    "A3 = Pi * r3**2\n",
    "print(\"A1 =\", A1)\n",
    "print(\"A2 =\", A2)\n",
    "print(\"A3 =\", A3)"
   ]
  },
  {
   "cell_type": "markdown",
   "metadata": {
    "id": "YSxEhkFIsGYr"
   },
   "source": [
    "# 9 Commentaires 🗣️\n",
    "Enfin, les **commentaires** sont des lignes dans le code que l'ordinateur ignore. Ces lignes commencent par un **#**.\n",
    "\n",
    "### Exemple :\n",
    "\n",
    "Tu peux mettre un **#** là où tu veux que l'ordinateur ignore une ligne.\n",
    "\n",
    "**Objectif** :\n",
    "Lis les commentaires et, en ajoutant ou en enlevant des **#**, fais en sorte que le smiley triste devienne un smiley heureux. 😀\n",
    "\n",
    "(Au cas ou si tu ne le savais pas ! En anglais la traduction de ces mots est:\n",
    "\n",
    " fig = figure\n",
    "\n",
    " face = visage\n",
    "\n",
    " left eye = oeil gauche\n",
    "\n",
    " right eye = oeil droit\n",
    "\n",
    " mouth = bouche)"
   ]
  },
  {
   "cell_type": "code",
   "execution_count": 11,
   "metadata": {
    "id": "GRUzTR-ysGYr"
   },
   "outputs": [
    {
     "data": {
      "image/png": "[encoded data removed]",
      "text/plain": [
       "<Figure size 640x480 with 1 Axes>"
      ]
     },
     "metadata": {},
     "output_type": "display_data"
    }
   ],
   "source": [
    "import matplotlib.pyplot as plt\n",
    "import matplotlib.patches as patches\n",
    "import numpy as np\n",
    "\n",
    "# Créer une figure et un ensemble de sous-graphiques\n",
    "fig, ax = plt.subplots()\n",
    "\n",
    "# Dessiner le soleil (cercle jaune)\n",
    "soleil = plt.Circle((0.5, 0.5), 0.3, color='yellow', ec='orange', lw=2)\n",
    "ax.add_patch(soleil)\n",
    "\n",
    "#AAAAAAAAAAAAAAAAAAAAAAAAAAAAAAAAAAAA\n",
    "\n",
    "# Ajouter des rayons de soleil\n",
    "for angle in np.linspace(0, 360, num=12, endpoint=False):\n",
    "    x1 = 0.5 + 0.35 * np.cos(np.radians(angle))\n",
    "    y1 = 0.5 + 0.35 * np.sin(np.radians(angle))\n",
    "    x2 = 0.5 + 0.45 * np.cos(np.radians(angle))\n",
    "    y2 = 0.5 + 0.45 * np.sin(np.radians(angle))\n",
    "    ax.plot([x1, x2], [y1, y2], color='orange', lw=3)\n",
    "\n",
    "# Dessiner l'œil gauche\n",
    "left_eye = plt.Circle((0.42, 0.55), 0.04, color='black')\n",
    "ax.add_patch(left_eye)\n",
    "\n",
    "# Dessiner l'œil droit\n",
    "right_eye = plt.Circle((0.58, 0.55), 0.04, color='black')\n",
    "ax.add_patch(right_eye)\n",
    "\n",
    "# Dessiner la bouche souriante\n",
    "mouth = patches.Arc((0.5, 0.45), 0.2, 0.1, angle=0, theta1=180, theta2=360, color='black', lw=3)\n",
    "\n",
    "# visage pas content\n",
    "mouth = patches.Arc((0.5, 0.4), 0.2, 0.1, angle=0, theta1=0, theta2=180, color='black', lw=3)\n",
    "\n",
    "ax.add_patch(mouth)\n",
    "\n",
    "# Définir les limites du graphique\n",
    "ax.set_xlim(0, 1)\n",
    "ax.set_ylim(0, 1)\n",
    "\n",
    "# Supprimer les axes\n",
    "ax.axis('off')\n",
    "\n",
    "# Afficher le graphique\n",
    "plt.gca().set_aspect('equal', adjustable='box')\n",
    "plt.show()\n",
    "\n",
    "\n"
   ]
  },
  {
   "cell_type": "markdown",
   "metadata": {
    "id": "PJFo2gXFsGYr"
   },
   "source": [
    "Comme on peut le voir dans l'exemple précédent, le commentaire est généralement utilisé pour :\n",
    "1. Ignorer temporairement une ligne de code\n",
    "2. Expliquer le code\n",
    "\n",
    "Il faut **absolument** commenter chaque étape de ton code pour qu'il puisse être lu par un tiers.\n",
    "\n",
    "Use et abuse des commentaires dans tous tes codes !!"
   ]
  },
  {
   "cell_type": "markdown",
   "metadata": {
    "id": "vLPKwmQ8Bxac"
   },
   "source": [
    "🎉 **Merci à toi d'avoir participé à cette initiation à Python** ! 🎉\n",
    "\n",
    "Tu as appris des bases super importantes, comme comment utiliser des variables, faire des calculs, et même résoudre des problèmes avec du code. Tu as découvert que programmer peut être à la fois amusant et utile. Continue à explorer, à poser des questions, et surtout à t'amuser avec le code !\n",
    "\n",
    "Bravo pour tes efforts et n'oublie pas : la programmation, c'est comme un jeu où chaque problème résolu est une victoire ! 🚀\n",
    "\n",
    "À bientôt pour de nouvelles aventures en Python !"
   ]
  }
 ],
 "metadata": {
  "colab": {
   "provenance": []
  },
  "kernelspec": {
   "display_name": "Python 3 (ipykernel)",
   "language": "python",
   "name": "python3"
  },
  "language_info": {
   "codemirror_mode": {
    "name": "ipython",
    "version": 3
   },
   "file_extension": ".py",
   "mimetype": "text/x-python",
   "name": "python",
   "nbconvert_exporter": "python",
   "pygments_lexer": "ipython3",
   "version": "3.9.5"
  }
 },
 "nbformat": 4,
 "nbformat_minor": 4
}

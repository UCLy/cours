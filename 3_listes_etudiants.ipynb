{
 "cells": [
  {
   "cell_type": "markdown",
   "metadata": {},
   "source": [
    "[![Open In Colab](https://colab.research.google.com/assets/colab-badge.svg)](https://colab.research.google.com/github/UCLy/cours/blob/master/3_listes_etudiants.ipynb)"
   ]
  },
  {
   "cell_type": "markdown",
   "metadata": {},
   "source": [
    "# Les listes en Python\n",
    "\n",
    "\n",
    "Les listes sont des objets très puissants et omniprésents en Python, utilisés dans de nombreux domaines du codage. Elles permettent de manipuler un grand nombre de données simultanément. Python se distingue par la richesse des fonctions qu'il propose pour travailler avec les listes.\n",
    "\n",
    "Dans cette activité, vous allez apprendre à construire, analyser et manipuler des listes.\n",
    "\n",
    "Cette activité introduit de nombreuses fonctions. Pas besoin de les mémoriser par cœur ! C'est en pratiquant que vous les retiendrez. Concentrez-vous sur la logique, et quand vous aurez besoin d'une fonction particulière, vous pourrez toujours revenir à cette activité ou consulter des ressources en ligne pour vérifier la syntaxe.\n",
    "\n",
    "\n",
    "# 1 Construire des listes\n",
    "## 1.1 Définition\n",
    "\n",
    "Admettons que vous devez analyser à l'ordinateur des séquences ADN sur 100 patients. Il vous faut donc créer 100 variables. C'est long, fastidieux et surtout, il y a plus simples, ce sont les **listes**.  \n",
    "\n",
    "Une liste est un **ensemble ordonné d'objets** en Python. Elle s'écrit avec les crochets `[` et `]` de la façon suivante :\n",
    "\n",
    "```python\n",
    "liste = [objet_1, objet_2, objet_3, ...]\n",
    "```\n",
    "Chaque objet est séparé par une **virgule**. \n",
    "\n",
    "<u>Exemple :</u> Pour un échantillon de 3 patients ayant les séquences ADN suivantes :\n",
    "\n",
    "- patient 1 : \"ATCGTTGACCTGAACTGACTGACCG\"\n",
    "- patient 2 : \"GTGAACTAGGCTGACGTCAGTCGGA\"\n",
    "- patient 3 : \"ACTGACCTGAACTGACTGACCGTAG\"\n",
    "\n",
    "Au lieu de faire (C'est long et vraiment ennuyant, ne le faite pas) :"
   ]
  },
  {
   "cell_type": "code",
   "execution_count": null,
   "metadata": {
    "jp-MarkdownHeadingCollapsed": true
   },
   "outputs": [],
   "source": [
    "sequence_1 = \"ATCGTTGACCTGAACTGACTGACCG\"\n",
    "sequence_2 = \"GTGAACTAGGCTGACGTCAGTCGGA\"\n",
    "sequence_3 = \"ACTGACCTGAACTGACTGACCGTAG\"\n",
    "print(sequence_1,sequence_2, sequence_3)"
   ]
  },
  {
   "cell_type": "markdown",
   "metadata": {
    "jp-MarkdownHeadingCollapsed": true
   },
   "source": [
    "Vous pouvez créer la liste :"
   ]
  },
  {
   "cell_type": "code",
   "execution_count": null,
   "metadata": {
    "jp-MarkdownHeadingCollapsed": true
   },
   "outputs": [],
   "source": [
    "sequences = [\"ATCGTTGACCTGAACTGACTGACCG\", \"GTGAACTAGGCTGACGTCAGTCGGA\", \"GTGAACTAGGCTGACGTCAGTCGGA\"]\n",
    "print(sequences)"
   ]
  },
  {
   "cell_type": "markdown",
   "metadata": {
    "jp-MarkdownHeadingCollapsed": true
   },
   "source": [
    "C'est nettement plus simple si vous n'avez que trois patients, mais ça reste bien fastidieux si vous en avez 100. Dans une autre activité, nous verrons comment demander à python d'**importer une collection de données** (comme un tableau Excel) directement dans une liste en une seule ligne de code. \n",
    "\n",
    "#### Bon à savoir : Python, le maître des listes\n",
    "\n",
    "Python propose une grande variété de fonctions très simples pour **fabriquer, analyser et manipuler** des listes. C'est l'une des raisons qui fait que python est particulièrement pratique pour l'analyse de données. Nous en verrons quelques-unes dans cette activité, garder en tête qu'il en existe pleins d'autres et qu'elles sont trouvables sur internet ou en demandant poliment à ChatGPT."
   ]
  },
  {
   "cell_type": "markdown",
   "metadata": {},
   "source": [
    "### À vous de jouer ! 🤠\n",
    "Exécutez les cellules suivantes pour vérifier si ce sont des listes ou non. Si un message d'erreur s'affiche, corrigez le code de la cellule pour qu'elle fonctionne."
   ]
  },
  {
   "cell_type": "code",
   "execution_count": null,
   "metadata": {},
   "outputs": [],
   "source": [
    "liste_1 = []\n",
    "print(liste_1)"
   ]
  },
  {
   "cell_type": "code",
   "execution_count": null,
   "metadata": {},
   "outputs": [],
   "source": [
    "liste_2 = [\"un\", \"deux\", \"trois\"]\n",
    "print(liste_2)"
   ]
  },
  {
   "cell_type": "code",
   "execution_count": null,
   "metadata": {},
   "outputs": [],
   "source": [
    "liste_3 = [1, 2, 3]\n",
    "print(liste_3)"
   ]
  },
  {
   "cell_type": "code",
   "execution_count": null,
   "metadata": {},
   "outputs": [],
   "source": [
    "liste_4 = [1; 2; 3]\n",
    "print(liste_4)"
   ]
  },
  {
   "cell_type": "code",
   "execution_count": null,
   "metadata": {},
   "outputs": [],
   "source": [
    "liste_5 = [1 2 \"trois\"]\n",
    "print(liste_5)"
   ]
  },
  {
   "cell_type": "code",
   "execution_count": null,
   "metadata": {},
   "outputs": [],
   "source": [
    "sequence_1 = \"ATCGTTGACCTGAACTGACTGACCG\"\n",
    "sequence_2 = \"GTGAACTAGGCTGACGTCAGTCGGA\"\n",
    "sequence_3 = \"ACTGACCTGAACTGACTGACCGTAG\"\n",
    "\n",
    "liste_6 = [[\"patient 1\", sequence_1], [\"patient 2\", sequence_2], [\"patient 3\", sequence_3]]\n",
    "print(liste_6)"
   ]
  },
  {
   "cell_type": "code",
   "execution_count": null,
   "metadata": {},
   "outputs": [],
   "source": [
    "expression_bool_1 = 1 < 2\n",
    "expression_bool_2 = 1 == 2\n",
    "expression_bool_3 = 1 < 2 <= 3\n",
    "\n",
    "liste_7=[expression_bool_1, expression_bool_2, expression_bool_3]\n",
    "print(liste_7)"
   ]
  },
  {
   "cell_type": "markdown",
   "metadata": {},
   "source": [
    "## 1.2 Ce que l'on peut mettre dans une liste\n",
    "\n",
    "Avec ces exemples, vous avez vu que :\n",
    "1. la **liste vide** existe, c'est simplement `liste_vide = []`\n",
    "2. **Les objets d'une liste peuvent être n'importe quoi :** une chaîne de caractère, un nombre, une variable, une expression booléenne **et même une liste !** (exemple : listes 6 est une liste de listes)\n",
    "3. une même liste peut contenir des **objets de nature différentes.** (liste 5 : nombres entiers et chaîne de caractères)"
   ]
  },
  {
   "cell_type": "markdown",
   "metadata": {},
   "source": [
    "## 1.3 Faire croître une liste"
   ]
  },
  {
   "cell_type": "markdown",
   "metadata": {},
   "source": [
    "### Ajouter un élément à la dernière position\n",
    "\n",
    "Admettons que vous avez une liste avec vos 100 séquences d'ADN et qu'un de vos collègues arrive avec une 101ᵉ séquence à analyser. C'est ennuyant, mais pas besoin de tout refaire pour autant. \n",
    "\n",
    "Vous pouvez utiliser la fonction **`.append()`** (ajouter) qui permet d'ajouter un objet à votre liste à la dernière position. Elle se rédige de la façon suivante :\n",
    "\n",
    "```python\n",
    "liste.append(objet_a_ajouter)\n",
    "```\n",
    "\n",
    "#### ⚠️ `.append()` se rédige à droite de la liste et est précédé d'un point.\n",
    "\n",
    "<u> Exemples :</u> Lisez et exécutez les cellules suivantes."
   ]
  },
  {
   "cell_type": "code",
   "execution_count": null,
   "metadata": {},
   "outputs": [],
   "source": [
    "liste_vide = []\n",
    "liste_vide.append(1)\n",
    "print(liste_vide)"
   ]
  },
  {
   "cell_type": "code",
   "execution_count": null,
   "metadata": {},
   "outputs": [],
   "source": [
    "liste_vide.append(\"Robert\")\n",
    "print(liste_vide)"
   ]
  },
  {
   "cell_type": "markdown",
   "metadata": {},
   "source": [
    "### À vous de jouer ! 🤠\n",
    "Ajoutez \"ATGAACTAGCCCGACGTGATTCAGA\" à la liste `sequences` dans la cellule en dessous, puis affichez cette liste mise à jour."
   ]
  },
  {
   "cell_type": "code",
   "execution_count": null,
   "metadata": {},
   "outputs": [],
   "source": [
    "sequences = [\"ATCGTTGACCTGAACTGACTGACCG\", \"GTGAACTAGGCTGACGTCAGTCGGA\", \"GTGAACTAGGCTGACGTCAGTCGGA\"]\n",
    "print(sequences)"
   ]
  },
  {
   "cell_type": "markdown",
   "metadata": {},
   "source": [
    "\n"
   ]
  },
  {
   "cell_type": "markdown",
   "metadata": {},
   "source": [
    "### Combiner deux listes\n",
    "Admettons à présent qu'un deuxième collègue arrive avec une liste qui contient les séquences ADN de 3000 patients à analyser avec les 101 premières séquences. \n",
    "\n",
    "Vos collègues semblent avoir une dent contre vous, mais <i> jokes on them </i>, vous êtes un.e AS de python et vous allez juste prendre deux secondes à combiner les deux listes ensembles. \n",
    "\n",
    "Il suffit d'utiliser l'opérateur `+`. La combinaison se rédige de la façon suivante :\n",
    "\n",
    "```python\n",
    "liste_combinee= liste_1 + liste_2\n",
    "```\n",
    "\n",
    "### À vous de jouer ! 🤠\n",
    "#### Combinez et affichez les listes `[1, 2, 3]`, `[\"nous irons aux bois\", 4,]` et `[5, 6, \"cueillir des cerises\"]` "
   ]
  },
  {
   "cell_type": "code",
   "execution_count": null,
   "metadata": {},
   "outputs": [],
   "source": [
    "# votre code ici"
   ]
  },
  {
   "cell_type": "markdown",
   "metadata": {},
   "source": [
    "# 2 Analyser des listes\n",
    "## 2.1 L'indice\n",
    "Votre collègue, qui semble s'épanouir à vous pourrir la journée, vous demande avec un sourire en coin la séquence ADN du 1584ᵉ patient. Puisque les listes sont ordonnées, vous pourriez afficher la liste et chercher la 1584ᵉ ligne, mais évidemment, il y a plus simple. \n",
    "\n",
    "Chaque élément d'une liste possède un **indice**. Le premier élément possède l'indice `0`, le seconde l'indice `1`, le nᵉ élément possède l'indice `n-1`.\n",
    "Pour extraire le nᵉ élément de votre liste `ma_liste`, il suffit de rédiger :\n",
    "```python\n",
    "element_n = ma_liste[n-1]\n",
    "```\n",
    "`ma_liste[n-1]` est le nᵉ élément de `ma_liste` que vous venez d'enregistrer dans la variable `element_n`. \n",
    "\n",
    "Donc, pour satisfaire votre collègue, vous avez juste à écrire :\n",
    "\n",
    "```python\n",
    "patient_1584 = sequences[1583]\n",
    "print(patient_1584)\n",
    "```\n",
    "#### Lecture d'une liste par la fin\n",
    "Si vous ne connaissez pas la taille de la liste et que vous voulez sélectionner son dernier élément, il vous suffit d'entrer l'élément `[-1]` :\n",
    "\n",
    "```python\n",
    "element_fin = ma_liste[-1]\n",
    "```\n",
    "Pour obtenir l'avant-dernier élément, vous pouvez entrer `ma_liste[-2]` etc.\n",
    "\n",
    "Finalement, l'élément `ma_liste[-n]` correspond au nᵉ élément de la liste en partant de la fin.\n",
    "\n",
    "### À vous de jouer ! 🤠\n",
    "1. La cellule juste en dessous permet d'importer la liste des pokémons de la première génération dans la liste `pokedex`, exécutez-la.\n",
    "2. Cherchez les noms des pokémons à la 25ᵉ, 89ᵉ et avant-dernière position dans le pokédex, puis exécutez le test et répondez à ses questions."
   ]
  },
  {
   "cell_type": "code",
   "execution_count": null,
   "metadata": {},
   "outputs": [],
   "source": [
    "import csv\n",
    "\n",
    "# Liste pour stocker les données du fichier CSV\n",
    "pokedex = []\n",
    "\n",
    "# Ouvrir le fichier CSV et lire son contenu\n",
    "with open('tests/pokemon_gen1.csv', newline='', encoding='utf-8') as csvfile:\n",
    "    csvreader = csv.reader(csvfile)  # Créer un lecteur CSV\n",
    "    next(csvreader)  # Sauter l'en-tête (la première ligne)\n",
    "    \n",
    "    for row in csvreader:\n",
    "        # Ajouter chaque élément (ici chaque nom de Pokémon) à la liste\n",
    "        pokedex.append(row[0])"
   ]
  },
  {
   "cell_type": "code",
   "execution_count": null,
   "metadata": {},
   "outputs": [],
   "source": [
    "# votre code ici"
   ]
  },
  {
   "cell_type": "code",
   "execution_count": null,
   "metadata": {},
   "outputs": [],
   "source": [
    "%run tests/test_4.py"
   ]
  },
  {
   "cell_type": "markdown",
   "metadata": {},
   "source": [
    "## 2.2 Les fonctions d'analyse dans python\n",
    "\n",
    "Il en existe **beaucoup** et c'est tant mieux ! En voici certaines.\n",
    "\n",
    "#### Pour tout type de listes\n",
    "1. **`longueur_liste = len(ma_liste)`** La fonction `len()` renvoie le nombre d'éléments contenus dans la liste `ma_liste`. On obtient donc la longueur de la liste.\n",
    "2. **`indice_element = ma_liste.index(element_a_trouver)`** La fonction `.index()` renvoie l'indice de l'élément `element_a_trouver` dans la liste `ma_liste`. De cette façon, vous pouvez retrouver l'indice de n'importe quel élément d'une liste, à condition de connaître cet élément.\n",
    "3. **`classe_element = type(ma_liste[indice_element])`** Quand vous importez une liste, vous ne savez pas forcément si les éléments de cette liste sont eux-mêmes des listes, ou bien des chaînes de caractères ou encore des nombres. Vous pouvez utiliser la fonction `type()` pour déterminer la classe d'un élément. Pour cela, il suffit d'insérer dans les parenthèses l'élément dont la classe est à déterminer.\n",
    "\n",
    "\n",
    "#### Pour les listes à nombres\n",
    "4. **`somme = sum(ma_liste)`** La fonction `sum()` renvoie la somme de tous les éléments de la liste `ma_liste`.\n",
    "\n",
    "<u> Remarque :</u> Pour faire la moyenne d'une liste, il vous suffit de diviser la somme par le nombre d'éléments de la liste :\n",
    "```python\n",
    "moyenne = sum(ma_liste)/len(ma_liste)\n",
    "```\n",
    "5. **`minimum = min(ma_liste)`** La fonction `min()` renvoie le plus petit élément de la liste `ma_liste`.\n",
    "6. **`maximum = max(ma_liste)`** La fonction `max()` renvoie le plus grand élément de la liste `ma_liste`.\n",
    "\n",
    "\n",
    "#### Pour les listes à nombres et à chaînes de caractères\n",
    "7. **`nombre_occurence_element = ma_liste.count(element)`** La fonction `.count()` renvoie le nombre d'occurrences de l'élément `element` dans la liste `ma_liste`.\n",
    "\n",
    "<u> Remarque :</u> La fonction `.count()` fonctionne également sur une chaîne de caractères. Elle se rédige de la manière suivante :\n",
    "\n",
    "```python\n",
    "nombre_occurence_caractere = \"chaîne_de_caractères\".count(\"caractère\")\n",
    "```\n",
    "Ici, la variable `nombre_occurence_caractere` stock le nombre d'occurrences du caractère `\"caractère\"` dans la chaîne de caractères.\n",
    "\n",
    "### À vous de jouer ! 🤠\n",
    "#### La température à Lyon au fil des ans\n",
    "En exécutant la cellule d'en dessous, vous allez importer, dans la liste `temperatures_lyon`, le relevé des températures maximales moyennes à Lyon Saint-Exupéry par décades sur une certaine période de temps. \n",
    "\n",
    "Dans notre cas, une décade correspond à 10 jours, il y a donc trois mesures de températures par mois. Ces données viennent du site internet de météo France. \n",
    "\n",
    "Le but de cet exercice est d'analyser la liste pour comprendre comment elle est organisée et voir ce que l'on peut dire sur ses données.\n",
    "\n",
    "### Instructions\n",
    "#### Première partie : Les éléments de la liste  `temperatures_lyon`\n",
    "1. Exécutez la cellule d'en dessous pour créer la liste `temperatures_lyon`.\n",
    "2. Déterminez le nombre d'éléments de la liste `temperatures_lyon`.\n",
    "3. Déterminez la classe de chaque élément de la liste.\n",
    "4. Répondez au test numéro 5, si vous avez tout bon, passez à la partie suivante."
   ]
  },
  {
   "cell_type": "code",
   "execution_count": null,
   "metadata": {},
   "outputs": [],
   "source": [
    "# Liste pour stocker les données du fichier CSV\n",
    "import csv\n",
    "temperatures_lyon = [[],[]]\n",
    "\n",
    "# Ouvrir le fichier CSV et lire son contenu\n",
    "with open('tests/dates.csv', newline='', encoding='utf-8') as csvfile:\n",
    "    csvreader = csv.reader(csvfile)  # Créer un lecteur CSV\n",
    "    next(csvreader)  # Sauter l'en-tête (la première ligne)\n",
    "    \n",
    "    for row in csvreader:\n",
    "        # Ajouter chaque élément\n",
    "        temperatures_lyon[0].append(row[0])\n",
    "        if len(temperatures_lyon[0]) % 3 == 1 :\n",
    "            temperatures_lyon[0][-1]+=\"00\"\n",
    "\n",
    "        elif len(temperatures_lyon[0]) % 3 == 2 :\n",
    "            temperatures_lyon[0][-1]+=\"01\"\n",
    "\n",
    "        elif len(temperatures_lyon[0]) % 3 == 0 :\n",
    "            temperatures_lyon[0][-1]+=\"02\"\n",
    "            \n",
    "# Ouvrir le fichier CSV et lire son contenu\n",
    "with open('tests/temperatures_lyon.csv', newline='', encoding='utf-8') as csvfile:\n",
    "    csvreader = csv.reader(csvfile)  # Créer un lecteur CSV\n",
    "    next(csvreader)  # Sauter l'en-tête (la première ligne)\n",
    "    \n",
    "    for row in csvreader:\n",
    "        # Ajouter chaque élément\n",
    "        temperatures_lyon[1].append(row[0])\n",
    "        temperatures_lyon[1][-1]=float(temperatures_lyon[1][-1])\n"
   ]
  },
  {
   "cell_type": "code",
   "execution_count": null,
   "metadata": {},
   "outputs": [],
   "source": [
    "# Votre code ici"
   ]
  },
  {
   "cell_type": "code",
   "execution_count": null,
   "metadata": {},
   "outputs": [],
   "source": [
    "%run tests/test_5.py"
   ]
  },
  {
   "cell_type": "markdown",
   "metadata": {},
   "source": [
    "#### Élément d'une sous-liste\n",
    "\n",
    "Si une liste `ma_liste` est composée d'une sous-liste : `ma_liste[0]`, vous pouvez accéder au n<sup>ème</sup> élément de la sous-liste simplement en ajoutant un crochet avec l'indice `n-1` :\n",
    "```python\n",
    "ma_liste[0][n-1]\n",
    "```"
   ]
  },
  {
   "cell_type": "markdown",
   "metadata": {},
   "source": [
    "#### Deuxième partie : Dates et températures\n",
    "5. Déterminez la classe du premier élément de la première sous-liste.\n",
    "6. Déterminez la classe du premier élément de la seconde sous-liste. (rien ne vous interdit de regarder à quoi ressemble ces sous-listes en les affichant)\n",
    "8. Déterminez quelle sous-liste correspond à la date et quelle sous-liste correspond au relevé de températures.\n",
    "9. Combien de fois la température a-t-elle été relevée ?\n",
    "10. La date est de la forme `\"AAAAMMDD\"` avec \"AAAA\" l'année, \"MM\" le mois, et \"DD\" le numéro de la décade du mois (premier 00, deuxième 01, troisième 02). Déterminez les mois et années du premier et du dernier relevé. Déterminez également la température de ces deux dates.\n",
    "11. Répondez au test numéro 6, si vous avez tout bon, passez à la partie suivante."
   ]
  },
  {
   "cell_type": "code",
   "execution_count": null,
   "metadata": {},
   "outputs": [],
   "source": [
    "# votre code ici"
   ]
  },
  {
   "cell_type": "code",
   "execution_count": null,
   "metadata": {},
   "outputs": [],
   "source": [
    "%run tests/test_6.py"
   ]
  },
  {
   "cell_type": "markdown",
   "metadata": {},
   "source": [
    "#### Troisième partie : Analyse des températures\n",
    "10. Déterminez la température la plus froide, puis déterminez la date à laquelle elle s'est produite.\n",
    "11. Faire de même pour la température la plus chaude.\n",
    "12. Déterminez la température moyenne.\n",
    "13. Déterminez le nombre de fois où la température était égale à 30°C.\n",
    "14. Répondez au test numéro 7."
   ]
  },
  {
   "cell_type": "code",
   "execution_count": null,
   "metadata": {},
   "outputs": [],
   "source": [
    "# votre code ici"
   ]
  },
  {
   "cell_type": "code",
   "execution_count": null,
   "metadata": {},
   "outputs": [],
   "source": [
    "%run tests/test_7.py"
   ]
  },
  {
   "cell_type": "markdown",
   "metadata": {},
   "source": [
    "# 3 Manipuler des listes\n",
    "\n",
    "### 3.1 La fonction **`.insert()`**\n",
    "\n",
    "Maintenant, vous savez tout faire en un temps record et plus aucun de vos collègues ne peut vous piéger sur la manipulation de listes ! \n",
    "\n",
    "Enfin, c'est ce que vous pensiez jusqu'à ce que votre collègue préféré vous apprenne qu'il a oublié de vous communiquer la 2345ᵉ séquence ADN à analyser et qu'il est très important qu'elle retrouve sa place à la 2345ᵉ position dans la liste. \n",
    "\n",
    "Ni la fonction `.append()` pour ajouter un élément en fin de liste, ni l'opérateur `+` pour combiner des listes ne peuvent vous aider dans ce cas précis. Mais évidement, il existe tout de même une fonction pour vous sortir de ce mauvais pas et c'est **`.insert()`**. Elle se rédige de la façon suivante :\n",
    "\n",
    "```python\n",
    "ma_liste_augmentee = ma_liste.insert( indice, objet )\n",
    "```\n",
    "`.insert()` vous permet d'insérer l'élément `objet` à la position d'indice `indice`.\n",
    "\n",
    "<u>Exemple :</u>\n",
    "Dans votre cas, pour ajouter la 2345ᵉ séquence ADN, il vous suffit de faire :\n",
    "\n",
    "```python\n",
    "sequences.insert(2344,\"2345ᵉ séquence ADN\")\n",
    "```\n",
    "(Pour rappel, le premier élément de liste a pour indice 0, d'où le décalage de 1 entre l'indice `2344` et la position 2345.)\n",
    "\n",
    "Nous allons à présent découvrir d'autres fonctions de manipulations tout aussi utiles.\n"
   ]
  },
  {
   "cell_type": "markdown",
   "metadata": {},
   "source": [
    "### 3.2 La suppression d'éléments par objet puis par indice\n",
    "1. **`ma_liste.remove(objet)`** La fonction `.remove()` enlève de `ma_liste` la première occurrence de l'élément `objet`. Si vous voulez enlever toutes ses occurrences, il faudra répéter cette tâche autant de fois que la valeur `objet` apparaît dans la liste.\n",
    "2. **`del(ma_liste[indice])`** La fonction `del()` supprime de `ma_liste` l'élément d'indice `indice`. Cette fois, la suppression ne se fait pas en fonction de la valeur de l'élément, mais de **la valeur de son indice**."
   ]
  },
  {
   "cell_type": "markdown",
   "metadata": {},
   "source": [
    "###  3.3 La modification d'éléments\n",
    "1. Pour modifier un seul élément d'indice `indice`, il suffit de faire :\n",
    "```python\n",
    "   ma_liste[indice] = nouvelle_valeur\n",
    "```\n",
    "2. Pour modifier les éléments d'indices `n` à `m`, vous pouvez faire :\n",
    "```python\n",
    "ma_liste[n : m+1] = [nouvel_element_n, nouvel_element_n+1, ..., nouvel_element_m]\n",
    "```"
   ]
  },
  {
   "cell_type": "markdown",
   "metadata": {},
   "source": [
    "### À vous de jouer ! 🤠\n",
    "### Exercice : Affaire sensible, lorsque le cosmos intervient dans les élections belges (histoire vraie).\n",
    "#### Introduction (à lire avec la voix de Fabrice Drouelle)\n",
    "\n",
    "Nous sommes le 18 mai 2003, à Schaerbeek, une commune bruxelloise d’environ 130 000 habitants. C’est le jour des élections législatives fédérales, un jour où la démocratie s’exprime dans les urnes, où les citoyens se déplacent pour élire leurs représentants au Sénat et à la chambre des représentants. Les rues sont calmes, les bureaux de vote se remplissent, les bulletins se glissent dans les urnes sans un bruit. Une journée ordinaire, somme toute.\n",
    "\n",
    "Mais cette apparente tranquillité cache un scandale qui va bientôt éclater. En fin de journée, les résultats tombent, et une surprise de taille se fait jour : 102 400 voix ont été comptabilisées. Le problème ? Ce jour-là, seulement 98 304 citoyens se sont présentés aux urnes. Un mystère inquiétant enveloppe Schaerbeek : 4 096 voix viennent de nulle part. Des votes fantômes ? Une manipulation ? À qui profite ce crime électoral ?\n",
    "\n",
    "La tension monte, les partis politiques s’écharpent. Une enquête est ouverte pour découvrir la source de cette anomalie. Les regards se tournent vers les machines, vers les personnes, vers tout ce qui pourrait expliquer cet excédent de voix. Et puis, l’incroyable est révélé. Non, le coupable n’est pas belge, ni même humain. Il vient de bien plus loin… de l’espace.\n",
    "\n",
    " Les théories les plus folles circulent : une intervention extraterrestre ? Un coup des reptiliens ? Mais la réalité est plus prosaïque, plus scientifique. Une particule isolée, voyageant à travers le cosmos, a terminé sa course dans l’un des transistors de l’ordinateur chargé de compter les voix. Un simple \"bit flip\" – un 0 transformé en 1 – a suffi pour créer cette confusion monumentale. Cet événement, une Perturbation par Particule Isolée (PPI), est rare, mais il n’en reste pas moins réel. Et ainsi, une simple particule de haute énergie a réussi à faire trembler la démocratie bruxelloise, le temps d’un scrutin.\n",
    "\n",
    "Le but de cet exercice est de comprendre comment un bit flip peut changer un nombre, puis de le simuler dans des listes comptabilisant les nombres de votes des différentes villes belges. Enfin, dans une dernière partie, nous verrons comment l'altération d'un bit peut modifier une chaîne de caractère."
   ]
  },
  {
   "cell_type": "markdown",
   "metadata": {},
   "source": [
    "### Partie 1 : le bit et le flip\n",
    "Comme vous le savez probablement, lorsque l'ordinateur fait des calculs ou stock des données, c'est sous forme binaire, c'est-à-dire sous forme de chaînes de 0 et de 1 successif. À chaque nombre, ou chaîne de caractères, est associé une chaîne unique de 0 et de 1. La fonction `bin()` permet de convertir un entier en sa forme binaire. `bin()` renvoie une chaîne de 0 et de 1 sous forme de chaîne de caractère qui commence toujours par `0b`.\n",
    "\n",
    "1. Affichez les représentations binaires de 0, 1, 2, 8, 9, 31, 4096, 98 304 et 102 400 avec la fonction `bin()`."
   ]
  },
  {
   "cell_type": "code",
   "execution_count": null,
   "metadata": {},
   "outputs": [],
   "source": [
    "# votre code ici"
   ]
  },
  {
   "cell_type": "markdown",
   "metadata": {},
   "source": [
    "<u> Remarque :</u> Comme vous avez pu le constater, les nombres qui sont des puissances de 2 (comme 2, 4, 8, 16, etc.) ont une écriture binaire avec un seul `1` suivi de plusieurs `0` car en binaire, chaque position représente une puissance de 2. En lisant une chaîne binaire de droite à gauche, la première position représente 2<sup>0</sup>, la suivante 2<sup>1</sup>, puis 2<sup>2</sup>, et ainsi de suite. On peut donc déduire l'écriture binaire d'un nombre quelconque en le décomposant comme somme de puissances de 2.\n",
    "\n",
    "**Vous avez vu que :**\n",
    "\n",
    "- 2 = 2<sup>1</sup> :  En binaire, cela donne `10`.\n",
    "- 4 = 2<sup>2</sup> :  En binaire, cela donne `100`.\n",
    "- 8 = 2<sup>3</sup> :  En binaire, cela donne `1000`.\n",
    "- 9 = 2<sup>3</sup> + 2<sup>1</sup> :  En binaire, cela donne `1001`.\n",
    "- 31 = 2<sup>4</sup> + 2<sup>3</sup> + 2<sup>2</sup> + 2<sup>1</sup> + 2<sup>0</sup> :  En binaire, cela donne `11111`.\n",
    "- 4 096 = 2<sup>12</sup> :  En binaire, cela donne `1000000000000`.\n",
    "- 98 304 = 2<sup>16</sup> + 2<sup>15</sup>:  En binaire, cela donne `11000000000000000`.\n",
    "- 102 400 = 2<sup>16</sup> + 2<sup>15</sup> + 2<sup>12</sup>:  En binaire, cela donne `11001000000000000`.\n",
    "\n",
    "<u>Analyse :</u> En comparant les expressions binaires de 98 304 et 102 400, on s'aperçoit que **la seul différence est sur le 13<sup>ème</sup> digit en partant de la droite, celui correspondant à 2<sup>12</sup> = 4096**. On comprend alors qu'il est possible de passer de l'un à l'autre en **effectuant un seul bit flip sur ce digit**, et c'est exactement ce qu'a fait la particule cosmique."
   ]
  },
  {
   "cell_type": "markdown",
   "metadata": {},
   "source": [
    "### Partie 2 : Simulation d'un bit flip sur une liste\n",
    "La liste suivante contient 91 villes de Belgique avec le nombre de votants associé à la ville. Votre but est de trouver la ville de Schaerbeek et d'inverser le bit flip pour sauver la démocratie Belge;\n",
    "1. Exécutez la cellule d'en dessous pour créer la liste.\n",
    "2. De la même façon que dans l'exercice des températures, déterminer les caractéristiques de la liste (types d'éléments, taille ...)\n",
    "3. Déterminer l'indice associé à la ville de Schaerbeek.\n",
    "4. Modifier le nombre associé à Schaerbeek pour que cette ville retrouve son juste nombre de participants.\n",
    "5. À cause d'une suite de bit flips extrêmement improbable, la capitale française, s'est glissée dans la liste des villes belges. Remettez-la à sa place en la trouvant puis en la supprimant de la liste. N'oubliez pas de supprimer également son nombre de votants!!\n",
    "6. À l'inverse, Bruxelles a fait sa timide et n'est pas dans la liste. Ajoutez là juste après Aubel. Bruxelles compte 184 916 votants."
   ]
  },
  {
   "cell_type": "code",
   "execution_count": null,
   "metadata": {},
   "outputs": [],
   "source": [
    "# Liste pour stocker les données du fichier CSV\n",
    "import csv\n",
    "listes_votes_villes = [[],[]]\n",
    "\n",
    "# Ouvrir le fichier CSV et lire son contenu\n",
    "with open('tests/villes_belges.csv', newline='', encoding='ISO-8859-1') as csvfile:\n",
    "    csvreader = csv.reader(csvfile)  # Créer un lecteur CSV\n",
    "    next(csvreader)  # Sauter l'en-tête (la première ligne)\n",
    "    for row in csvreader:\n",
    "        # Ajouter chaque élément\n",
    "        listes_votes_villes[0].append(row[0])\n",
    "        listes_votes_villes[1].append(row[1])"
   ]
  },
  {
   "cell_type": "code",
   "execution_count": null,
   "metadata": {},
   "outputs": [],
   "source": [
    "# votre code ici"
   ]
  },
  {
   "cell_type": "markdown",
   "metadata": {},
   "source": [
    "### Partie 3 : Petite digression par les chaînes de caractères\n",
    "La cellule juste en dessous convertie une citation célèbre sous forme de **chaîne de caractère** dans un **langage binaire** en utilisant la norme d'encodage UTF-8.\n",
    "Une norme d'encodage est un dictionnaire qui permet de faire le lien entre un caractère et sa représentation binaire. Il en existe de toutes les sortes.\n",
    "\n",
    "#### Instructions\n",
    "1. Exécutez la cellule en dessous pour créer et afficher la variable `citation_binaire` qui contient la citation sous forme binaire.\n",
    "2. Déterminez quel est le type de la variable `citation_binaire` et déterminez sa longueur.\n",
    "3. La cellule d'encore en dessous permet de faire la conversion inverse : d'une chaîne binaire vers une chaîne de caractère avec la norme UTF-8. Exécutez-la. Pouvez-vous deviner de qui est cette citation ?"
   ]
  },
  {
   "cell_type": "code",
   "execution_count": null,
   "metadata": {},
   "outputs": [],
   "source": [
    "%run tests/citation.py\n",
    "print(citation_binaire) #affiche le code binaire"
   ]
  },
  {
   "cell_type": "code",
   "execution_count": null,
   "metadata": {},
   "outputs": [],
   "source": [
    "# votre code ici"
   ]
  },
  {
   "cell_type": "code",
   "execution_count": null,
   "metadata": {},
   "outputs": [],
   "source": [
    "# Diviser la chaîne en groupes de 8 bits\n",
    "octets = [citation_binaire[i:i+8] for i in range(0, len(citation_binaire), 8)]\n",
    "\n",
    "# Convertir chaque groupe de 8 bits en un caractère ASCII\n",
    "citation = ''.join([chr(int(octet, 2)) for octet in octets])\n",
    "\n",
    "print(citation)  # Sortie : La citation, de qui est-ce selon vous ?\n"
   ]
  },
  {
   "cell_type": "markdown",
   "metadata": {},
   "source": [
    "#### Partie 2 de la partie 3\n",
    "Maintenant, nous allons voir ce qu'un bit flip, la suppression d'un bit et l'ajout d'un bit aléatoire peuvent provoquer comme changements dans une chaîne de caractère.\n",
    "\n",
    "4. La fonction `list()` crée une liste à partir d'une chaîne de caractère. Le premier élément de la liste est le premier caractère de la chaîne, le second élément est le second caractère, etc. Créez la variable `citation_binaire_liste` qui contient une liste fabriquée à partir de la chaîne de caractère `citation_binaire`.\n",
    "5. Effectuez à la main un \"bit-flip\" sur le 500<sup>ème</sup> de la liste.\n",
    "6. Exécutez la cellule d'après pour reconvertir `citation_binaire_liste` en chaîne de caractère et observez ce qui se passe.\n",
    "7. Pour finir, faites la même chose en enlevant ou ajoutant un 1 ou un 0 à la 500<sup>ème</sup> liste. "
   ]
  },
  {
   "cell_type": "code",
   "execution_count": null,
   "metadata": {},
   "outputs": [],
   "source": [
    "# votre code ici"
   ]
  },
  {
   "cell_type": "code",
   "execution_count": null,
   "metadata": {},
   "outputs": [],
   "source": [
    "citation_binaire_corrompue = ''.join(citation_binaire_liste)\n",
    "\n",
    "# Diviser la chaîne en groupes de 8 bits\n",
    "octets_corrompues = [citation_binaire_corrompue[i:i+8] for i in range(0, len(citation_binaire_corrompue), 8)]\n",
    "\n",
    "# Convertir chaque groupe de 8 bits en un caractère ASCII\n",
    "citation_corrompue = ''.join([chr(int(octet, 2)) for octet in octets_corrompues])\n",
    "\n",
    "print(citation_corrompue)  # Sortie : La citation, de qui est-ce selon vous ?\n"
   ]
  },
  {
   "cell_type": "markdown",
   "metadata": {},
   "source": [
    "### 3.4 Le découpage de listes\n",
    "Il est bien souvent utile de prélever des sous-listes d'une liste primaire pour analyser des données particulières. \n",
    "\n",
    "Par exemple, si on souhaitait tester l'hypothèse : <i> les étés à Lyon sont de plus en plus chauds et insoutenables</i>,  on pourrait avoir envie de regarder l'évolution, au fil des ans, des températures à Lyon uniquement au mois de juillet. Il faudrait alors créer une sous-liste de celle étudiée dans l'exercice précédent. (Ce serait vraiment démoniaque de poser cette question dans un prochain exercice 😈)\n",
    "\n",
    "#### les fonctions de découpage ✂️\n",
    "1. **extraction de sous-listes entre les indices `n` et `m` inclus :**\n",
    "```python\n",
    "sous_liste = ma_liste[n : m+1]\n",
    "```\n",
    "2.  **extraction de sous-listes entre le début et l'indice `m` :**\n",
    "```python\n",
    "sous_liste = ma_liste[ : m+1]\n",
    "```\n",
    "3.  **extraction de sous-listes entre l'indice `n` et la fin :**\n",
    "```python\n",
    "sous_liste = ma_liste[n : ]\n",
    "```\n",
    "4. **extraction de sous-listes entre les indices `n` et `m` tous les `p` éléments :**\n",
    "```python\n",
    "sous_liste = ma_liste[n : m+1 : p]\n",
    "```\n",
    "\n",
    "<u>Exemple :</u> Pour illustrer le point 4, voici une cellule dans laquelle est codée une liste qui contient les nombres entiers de 0 à 100. \n",
    "\n",
    "<u>Exécutez cette cellule.</u>"
   ]
  },
  {
   "cell_type": "code",
   "execution_count": null,
   "metadata": {},
   "outputs": [],
   "source": [
    "liste_int_100 = list(range(101)) \n",
    "print(liste_int_100)"
   ]
  },
  {
   "cell_type": "markdown",
   "metadata": {},
   "source": [
    "Pour une raison qui vous appartient, vous souhaiteriez faire une liste qui ne contient que les nombres pairs de 0 à 100. Pour cela, vous pouvez faire une sous-liste qui commence à 0, qui finit à 100 et qui ne contient qu'un nombre sur deux. Cette sous-liste est codée juste en dessous.\n",
    "\n",
    "<u>Lisez et exécutez cette cellule.</u>"
   ]
  },
  {
   "cell_type": "code",
   "execution_count": null,
   "metadata": {},
   "outputs": [],
   "source": [
    "liste_pairs_100 = liste_int_100[0 : 101 : 2]\n",
    "print(liste_pairs_100)"
   ]
  },
  {
   "cell_type": "markdown",
   "metadata": {},
   "source": [
    "### À vous de jouer ! 🤠\n",
    "1. Fabriquez une sous-liste qui contient uniquement les **nombres pairs entre 10 et 50**.\n",
    "2. Fabriquez une sous-liste qui contient uniquement les **nombres impairs entre 1 et 99**.\n",
    "3. Fabriquez une sous-liste qui contient uniquement les **multiples de 10 entre 0 et 100**."
   ]
  },
  {
   "cell_type": "code",
   "execution_count": null,
   "metadata": {},
   "outputs": [],
   "source": [
    "# votre code ici"
   ]
  },
  {
   "cell_type": "markdown",
   "metadata": {},
   "source": [
    "### À vous de jouer ! 🤠\n",
    "#### La température à Lyon au fil des ans chapitre II\n",
    "<u>Exécutez la cellule juste en dessous et voyez ce qui se passe.</u>"
   ]
  },
  {
   "cell_type": "code",
   "execution_count": null,
   "metadata": {},
   "outputs": [],
   "source": [
    "import matplotlib.pyplot as plt\n",
    "import numpy as np\n",
    "\n",
    "# Initialisation d'une liste pour stocker les températures de Lyon entre 1976 et 2022.\n",
    "lyon_temperatures_1976_2022 = [[], []]\n",
    "\n",
    "# Génération d'un tableau de valeurs linéaires entre 1976 et 2023, avec 1692 points (correspondant aux relevés de températures).\n",
    "t_annees = np.linspace(1976, 2023, 1692)\n",
    "\n",
    "# Extraction des données de température de Lyon à partir du 24e relevé jusqu'à la fin (supposant que les 23 premiers relevés ont été retirés). été retirés).\n",
    "lyon_temperatures_1976_2022[0] = temperatures_lyon[0][24:]\n",
    "lyon_temperatures_1976_2022[1] = temperatures_lyon[1][24:]\n",
    "\n",
    "# Configuration de Matplotlib pour utiliser des paramètres spécifiques pour les polices et l'apparence des textes.\n",
    "plt.rc('font', family='serif', serif='DejaVu Serif')  # Utilisation d'une police sérif.\n",
    "plt.rc('text', usetex=False)  # Activation de LaTeX pour le rendu du texte.\n",
    "plt.rc('axes', titlesize=24, labelsize=24)  # Taille des titres et labels des axes.\n",
    "plt.rc('legend', fontsize=22)  # Taille de la police des légendes.\n",
    "plt.rc('xtick', labelsize=22)  # Taille de la police des graduations de l'axe des x.\n",
    "plt.rc('ytick', labelsize=22)  # Taille de la police des graduations de l'axe des y.\n",
    "\n",
    "# Création d'une nouvelle figure pour le graphique avec une taille spécifiée (8x8 pouces).\n",
    "plt.figure(figsize=(8, 8))\n",
    "\n",
    "# Tracer les températures de Lyon entre 1976 et 2022. \n",
    "# Les températures sont tracées en bleu avec une épaisseur de ligne de 1.5.\n",
    "plt.plot(t_annees, lyon_temperatures_1976_2022[1], color='blue', linewidth=1.5)\n",
    "\n",
    "# Ajout d'étiquettes pour les axes x et y, ainsi qu'un titre au graphique, avec du texte rendu en LaTeX.\n",
    "plt.xlabel('$t$ (années)')  # L'axe x est étiqueté avec \"t (années)\".\n",
    "plt.ylabel('Température (°C)')  # L'axe y est étiqueté avec \"Température (°C)\".\n",
    "plt.title('Températures maximales moyennes à Lyon (1976 et 2022)')  # Titre du graphique.\n",
    "\n",
    "# Définition des limites de l'axe y pour un meilleur affichage des données. Les limites sont calculées en fonction des températures minimum et maximum, avec une marge de 2 unités.\n",
    "plt.ylim(min(lyon_temperatures_1976_2022[1]) - 2, max(lyon_temperatures_1976_2022[1]) + 2)\n",
    "\n",
    "# Ajout d'une grille au graphique pour améliorer la lisibilité.\n",
    "plt.grid(True)\n",
    "\n",
    "# Affichage du graphique généré avec les paramètres définis.\n",
    "plt.show()\n"
   ]
  },
  {
   "cell_type": "markdown",
   "metadata": {},
   "source": [
    "### Analyse\n",
    "Vous venez de représenter les températures de Lyon sous forme de graphique. Ce graphique permet d'observer certaines caractéristiques comme la périodicité annuelle des températures. Il contient néanmoins beaucoup trop de données. Nous allons donc faire du traitement de données pour isoler certaines caractéristiques.\n",
    "\n",
    "Pour plus de simplicité, nous avons supprimé les données allant de mai 1975 à décembre 1975. Les relevés commencent maintenant en janvier 1976 et sont stockés dans la variable `lyon_temperatures_1976_2022`.\n",
    "\n",
    "Votre mission est de découper la liste `lyon_temperatures_1976_2022` en listes plus petites en suivant les instructions. Ces listes seront tracées sur des graphiques, ce qui vous permettra de faire de nouvelles observations. Les codes nécessaires pour tracer les graphiques vous seront fournis.\n",
    "\n",
    "### Partie 1 Les températures sur un an\n",
    "#### Instructions\n",
    "\n",
    "1. **Extraire les températures de la première année relevée (1976)** et enregistrer ces températures dans la liste `temperatures_1976`. Pour rappel, il y a 3 relevés par mois, soit 36 relevés par an.\n",
    "2. **Faire de même pour la dernière année relevée (2022)**. Enregistrer ces températures dans la liste `temperatures_2022`.\n",
    "3. **Répéter l'opération pour l'année 2003** et enregistrer les températures dans la liste `temperatures_2003`. (Si vous ne savez pas comment commencer, consultez l'indication ci-dessous.)\n",
    "4. **Exécutez la cellule suivante**. Si tout s'est bien passé, un graphique devrait s'afficher avec les températures de ces trois années tracées en fonction des mois.\n",
    "\n",
    "<u>Indication :</u> \n",
    "- Pour trouver les indices associés aux premiers et derniers relevés de 2003, vous pouvez vous référer à la première colonne de `lyon_temperatures_1976_2022`, qui contient les dates. \n",
    "- Je vous conseille de bien vérifier quel **type** de données est stocké dans la première colonne de `lyon_temperatures_1976_2022`."
   ]
  },
  {
   "cell_type": "code",
   "execution_count": null,
   "metadata": {},
   "outputs": [],
   "source": [
    "# votre code ici"
   ]
  },
  {
   "cell_type": "code",
   "execution_count": null,
   "metadata": {},
   "outputs": [],
   "source": [
    "import matplotlib.pyplot as plt\n",
    "import numpy as np\n",
    "\n",
    "# Générer les valeurs pour t de 0 à 12 (correspondant à 12 mois) pour les courbes théoriques.\n",
    "# Ici, 36 points sont générés puis divisés par 3 pour représenter les mois sur une échelle de 1 à 12.\n",
    "t_mois = np.linspace(1, 36, 36) / 3\n",
    "\n",
    "# Configuration de Matplotlib pour utiliser des polices spécifiques.\n",
    "plt.rc('font', family='serif', serif='DejaVu Serif')  # Utilisation d'une police serif (comme Computer Modern).\n",
    "plt.rc('text', usetex=False)  # Activation de LaTeX pour le rendu du texte.\n",
    "plt.rc('axes', titlesize=24, labelsize=24)  # Taille des titres et labels des axes.\n",
    "plt.rc('legend', fontsize=22)  # Taille de la police pour la légende.\n",
    "plt.rc('xtick', labelsize=22)  # Taille de la police des graduations de l'axe des x.\n",
    "plt.rc('ytick', labelsize=22)  # Taille de la police des graduations de l'axe des y.\n",
    "\n",
    "# Création d'une nouvelle figure pour le graphique avec une taille spécifiée (8x8 pouces).\n",
    "plt.figure(figsize=(8, 8))\n",
    "\n",
    "# Tracer les courbes théoriques pour les températures de 1976, 1999 et 2022.\n",
    "\n",
    "# Tracer les températures de 1976 en vert, avec une ligne continue de largeur 2.\n",
    "plt.plot(t_mois, Temperatures_1976, color='green', label='Températures 1976', linewidth=2)\n",
    "# Ajouter des points verts sur la courbe de 1976 avec une taille de 50.\n",
    "plt.scatter(t_mois, Temperatures_1976, color='green', s=50)\n",
    "\n",
    "# Tracer les températures de 1999 en rouge, avec une ligne continue de largeur 2.\n",
    "plt.plot(t_mois, Temperatures_1999, color='red', label='Températures 1999', linewidth=2)\n",
    "# Ajouter des points rouges sur la courbe de 1999 avec une taille de 50.\n",
    "plt.scatter(t_mois, Temperatures_1999, color='red', s=50)\n",
    "\n",
    "# Tracer les températures de 2022 en bleu, avec une ligne continue de largeur 2.\n",
    "plt.plot(t_mois, Temperatures_2022, color='blue', label='Températures 2022', linewidth=2)\n",
    "# Ajouter des points bleus sur la courbe de 2022 avec une taille de 50.\n",
    "plt.scatter(t_mois, Temperatures_2022, color='blue', s=50)\n",
    "\n",
    "# Ajouter des labels pour les axes x et y, ainsi qu'un titre au graphique.\n",
    "plt.xlabel('$t$ (mois)')  # L'axe x est étiqueté avec \"t (mois)\".\n",
    "plt.ylabel('Température (°C)')  # L'axe y est étiqueté avec \"Température (°C)\".\n",
    "plt.title('Températures maximales moyennes à Lyon en 1976, 1999 et 2022')  # Titre du graphique.\n",
    "\n",
    "# Définir les limites de l'axe y pour afficher les températures entre les valeurs minimum et maximum plus 2 unités de marge.\n",
    "plt.ylim(min(lyon_temperatures_1976_2022[1]), max(lyon_temperatures_1976_2022[1]) + 2)\n",
    "# Définir les limites de l'axe x pour afficher les mois de 1 à 12.\n",
    "plt.xlim(0, 12)\n",
    "\n",
    "# Ajouter une grille au graphique pour une meilleure lisibilité.\n",
    "plt.grid(True)\n",
    "\n",
    "# Ajouter une légende avec la configuration précédemment définie.\n",
    "plt.legend()\n",
    "\n",
    "# Afficher le graphique généré.\n",
    "plt.show()\n"
   ]
  },
  {
   "cell_type": "markdown",
   "metadata": {},
   "source": [
    "#### Brève analyse\n",
    "\n",
    "1. Parmi les 36 relevés, comptez le nombre de fois où la température de 1976 est la plus élevée parmi les trois années (1976, 2003, et 2022).\n",
    "2. Faites de même pour l'année 2003. Ensuite, en déduisez le nombre de fois où la température de 2022 est la plus élevée.\n",
    "\n",
    "<u>Conclusion :</u> \n",
    "- Ça fait un peu peur, non ?\n",
    "- Attention tout de même à ne pas tirer des conclusions hâtives. **Les températures fluctuent même en l'absence du réchauffement climatique** d'origine humaine. Ces trois années ne suffisent pas à conclure sur une augmentation globale de la température. Il est indispensable de renseigner chaque année pour tirer des conclusions. Et c'est ce que vous aller faire dans la suite."
   ]
  },
  {
   "cell_type": "markdown",
   "metadata": {},
   "source": [
    "### Partie 2 : La température du mois de Juin au fil des années\n",
    "Nous allons à présent uniquement étudier l'évolution des températures du mois de juin au fil des ans.\n",
    "\n",
    "#### Instructions\n",
    "1. **Créez la liste `temperatures_septembre_1`** qui ne contient que les températures de la première décade de chaque mois de septembre. (Pour rappel, la première décade correspond aux dix premiers jours.)\n",
    "2. **Faire de même pour les relevés des deux autres décades** du mois de septembre avec les listes `temperatures_septembre_2` et `temperatures_septembre_3`.\n",
    "3. Nous verrons dans une prochaine activité comment calculer la moyenne de plusieurs listes. Pour le moment, vous allez créer la moyenne de ces trois listes en exécutant la cellule juste en dessous. La liste des moyennes s'appelle `temperatures_septembre_moy`.\n",
    "4. **Exécutez la cellule d'après** pour tracer les courbes."
   ]
  },
  {
   "cell_type": "code",
   "execution_count": null,
   "metadata": {},
   "outputs": [],
   "source": [
    "# votre code ici"
   ]
  },
  {
   "cell_type": "code",
   "execution_count": null,
   "metadata": {},
   "outputs": [],
   "source": [
    "import numpy as np\n",
    "temperatures_septembre_moy = (np.array(temperatures_septembre_1) + np.array(temperatures_septembre_2) + np.array(temperatures_septembre_3))/3\n",
    "temperatures_septembre_moy = list(temperatures_septembre_moy)"
   ]
  },
  {
   "cell_type": "code",
   "execution_count": null,
   "metadata": {},
   "outputs": [],
   "source": [
    "import matplotlib.pyplot as plt\n",
    "import numpy as np\n",
    "\n",
    "# Générer les valeurs pour t de 1976 à 2023 avec 46 points, correspondant aux années de 1976 à 2022.\n",
    "t_annees = np.linspace(1976, 2022, 47)\n",
    "\n",
    "# Configuration de Matplotlib pour utiliser des polices spécifiques.\n",
    "plt.rc('font', family='serif', serif='DejaVu Serif')  # Utilisation d'une police serif (similaire à Computer Modern).\n",
    "plt.rc('text', usetex=False)  # Activation de LaTeX pour le rendu du texte.\n",
    "plt.rc('axes', titlesize=24, labelsize=24)  # Taille des titres et labels des axes.\n",
    "plt.rc('legend', fontsize=22)  # Taille de la police pour la légende.\n",
    "plt.rc('xtick', labelsize=22)  # Taille de la police des graduations de l'axe des x.\n",
    "plt.rc('ytick', labelsize=22)  # Taille de la police des graduations de l'axe des y.\n",
    "\n",
    "# Création d'une nouvelle figure pour le graphique avec une taille spécifiée (8x8 pouces).\n",
    "plt.figure(figsize=(8, 8))\n",
    "\n",
    "# Tracer les courbes théoriques pour les températures moyennes de septembre.\n",
    "plt.plot(t_annees, temperatures_septembre_moy, label=\"températures moyennes\", color='blue', linewidth=2)\n",
    "# Ajouter des points sur la courbe avec une taille de 50.\n",
    "plt.scatter(t_annees, temperatures_septembre_moy, color='blue', s=50)\n",
    "\n",
    "# Ajouter des labels pour les axes x et y, ainsi qu'un titre au graphique.\n",
    "plt.xlabel('$t$ (mois)')  # L'axe x est étiqueté avec \"t (mois)\".\n",
    "plt.ylabel('Température (°C)')  # L'axe y est étiqueté avec \"Température (°C)\".\n",
    "plt.title('Températures maximales moyennes de Septembre à Lyon entre 1976 et 2022')  # Titre du graphique.\n",
    "\n",
    "# Définir les limites de l'axe y pour afficher les températures avec une marge de 1 en bas et 2 en haut.\n",
    "plt.ylim(min(temperatures_septembre_moy) - 1, max(temperatures_septembre_moy) + 2)\n",
    "\n",
    "# Ajouter une grille pour faciliter la lecture des valeurs.\n",
    "plt.grid(True)\n",
    "\n",
    "# Ajouter une légende pour identifier les courbes avec la configuration définie précédemment.\n",
    "plt.legend()\n",
    "\n",
    "# Afficher le graphique généré.\n",
    "plt.show()\n"
   ]
  },
  {
   "cell_type": "markdown",
   "metadata": {},
   "source": [
    "#### Brève analyse\n",
    "Malgré les fluctuations d'une année à l'autre, on constate une **hausse progressive de la température** avec les années pour le mois de Septembre. Il est possible d'analyser les autres mois de la même façon. Mais qu'en est-il de la moyenne de température annuelle ? Pour le faire sans que ce soit chronophage, vous allez avoir besoin de la notion de boucles que vous découvrirez dans la prochaine activité.\n",
    "\n",
    "##### To be continued "
   ]
  },
  {
   "cell_type": "markdown",
   "metadata": {},
   "source": [
    "### 3.5 Trier de listes\n",
    "Vous faites une pause en tant que biologiste pour accomplir votre rêve, devenir dresseur.euse de pokémons. Vous venez de capturer un Abra et souhaitez accéder à ses caractéristiques dans le pokédex, mais vous ne connaissez pas sa position dans la liste. Plutôt que de faire défiler les 151 pokémons, vous décidez astucieusement d'accéder à votre pokédex via python et de le trier par ordre alphabétique. Pour ce faire, vous pouvez utiliser l'une des fonctions suivantes :\n",
    "1. **`ma_liste.sort()`** La fonction `.sort()` trie par ordre alphabétique si la liste est composée de chaînes de caractères et par ordre croissant si ce sont des nombres.\n",
    "\n",
    "⚠️ Il ne peut pas trier une liste qui est un mélange de chaînes de caractères et de nombres ! La solution est de convertir tous les nombres en chaînes de caractères.\n",
    "\n",
    "<u>Remarque :</u> Il est possible de mettre plusieurs arguments dans la fonction `.sort()`. Ces arguments sont trouvables sur internet. Pour mettre la liste dans l'ordre décroissante ou renverser l'ordre alphabétique, il suffit de faire :\n",
    "```python\n",
    "ma_liste.sort(reverse = True)\n",
    "```\n",
    "\n",
    "2. **`liste_triee = sorted(ma_liste)`** Permet de trier une liste tout en conservant la liste originale. Ici `ma_liste` est toujours la même, et la variable `liste_triee` contient la liste triée.\n",
    "\n",
    "<u>Remarque :</u> Là encore, il est possible de trier dans le sens inverse, il suffit d'écrire :\n",
    "```python\n",
    "liste_triee = sorted(ma_liste, reverse = True)\n",
    "```"
   ]
  },
  {
   "cell_type": "code",
   "execution_count": null,
   "metadata": {},
   "outputs": [],
   "source": []
  },
  {
   "cell_type": "code",
   "execution_count": null,
   "metadata": {},
   "outputs": [],
   "source": []
  }
 ],
 "metadata": {
  "kernelspec": {
   "display_name": "Python 3 (ipykernel)",
   "language": "python",
   "name": "python3"
  },
  "language_info": {
   "codemirror_mode": {
    "name": "ipython",
    "version": 3
   },
   "file_extension": ".py",
   "mimetype": "text/x-python",
   "name": "python",
   "nbconvert_exporter": "python",
   "pygments_lexer": "ipython3",
   "version": "3.9.5"
  }
 },
 "nbformat": 4,
 "nbformat_minor": 4
}
